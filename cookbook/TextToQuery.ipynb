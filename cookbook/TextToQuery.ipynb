{
 "cells": [
  {
   "cell_type": "code",
   "execution_count": 1,
   "metadata": {},
   "outputs": [
    {
     "data": {
      "text/plain": [
       "'c:\\\\Users\\\\akish.pothuri\\\\python\\\\LangChain\\\\experiment'"
      ]
     },
     "execution_count": 1,
     "metadata": {},
     "output_type": "execute_result"
    }
   ],
   "source": [
    "import os\n",
    "# os.chdir('../')\n",
    "%pwd"
   ]
  },
  {
   "cell_type": "code",
   "execution_count": 1,
   "metadata": {},
   "outputs": [],
   "source": [
    "import pyodbc\n",
    "cnxn = pyodbc.connect(r'Driver=SQL Server;Server=GGKU4DELL1254;Database=projectcodefirst;Trusted_Connection=yes;')"
   ]
  },
  {
   "cell_type": "code",
   "execution_count": 2,
   "metadata": {},
   "outputs": [
    {
     "data": {
      "text/plain": [
       "<pyodbc.Cursor at 0x18817e11030>"
      ]
     },
     "execution_count": 2,
     "metadata": {},
     "output_type": "execute_result"
    }
   ],
   "source": [
    "cnxn.cursor()"
   ]
  },
  {
   "cell_type": "code",
   "execution_count": 3,
   "metadata": {},
   "outputs": [
    {
     "data": {
      "text/plain": [
       "<pyodbc.Cursor at 0x18817e11330>"
      ]
     },
     "execution_count": 3,
     "metadata": {},
     "output_type": "execute_result"
    }
   ],
   "source": [
    "cursor = cnxn.cursor()\n",
    "cursor.execute(\"SELECT * FROM Employees\")"
   ]
  },
  {
   "cell_type": "code",
   "execution_count": 4,
   "metadata": {},
   "outputs": [],
   "source": [
    "row = cursor.fetchall()"
   ]
  },
  {
   "cell_type": "code",
   "execution_count": 5,
   "metadata": {},
   "outputs": [
    {
     "data": {
      "text/plain": [
       "[(1, 'Madhu', 1), (2, 'Anil', 2), (3, 'Amir', 3), (7, 'Akbar', 3)]"
      ]
     },
     "execution_count": 5,
     "metadata": {},
     "output_type": "execute_result"
    }
   ],
   "source": [
    "row"
   ]
  },
  {
   "cell_type": "code",
   "execution_count": null,
   "metadata": {},
   "outputs": [],
   "source": [
    "# pip install google-generativeai\n",
    "#pip install python-dotenv"
   ]
  },
  {
   "cell_type": "code",
   "execution_count": 7,
   "metadata": {},
   "outputs": [
    {
     "data": {
      "text/plain": [
       "True"
      ]
     },
     "execution_count": 7,
     "metadata": {},
     "output_type": "execute_result"
    }
   ],
   "source": [
    "import os\n",
    "from langchain.llms import GooglePalm\n",
    "from dotenv import load_dotenv \n",
    "load_dotenv()\n"
   ]
  },
  {
   "cell_type": "code",
   "execution_count": 10,
   "metadata": {},
   "outputs": [],
   "source": [
    "palm_key = os.getenv('api_key')"
   ]
  },
  {
   "cell_type": "code",
   "execution_count": 11,
   "metadata": {},
   "outputs": [],
   "source": [
    "llm = GooglePalm(google_api_key=palm_key, temperature=0.3)"
   ]
  },
  {
   "cell_type": "code",
   "execution_count": 12,
   "metadata": {},
   "outputs": [
    {
     "name": "stderr",
     "output_type": "stream",
     "text": [
      "c:\\Users\\akish.pothuri\\python\\LangChain\\SQl_Script_chatbot\\chatbot\\lib\\site-packages\\langchain_core\\_api\\deprecation.py:117: LangChainDeprecationWarning: The function `__call__` was deprecated in LangChain 0.1.7 and will be removed in 0.2.0. Use invoke instead.\n",
      "  warn_deprecated(\n"
     ]
    }
   ],
   "source": [
    "code = llm(\"Code to linear regression in machine learning algorithms\")"
   ]
  },
  {
   "cell_type": "code",
   "execution_count": 13,
   "metadata": {},
   "outputs": [
    {
     "name": "stdout",
     "output_type": "stream",
     "text": [
      "```python\n",
      "import numpy as np\n",
      "import matplotlib.pyplot as plt\n",
      "\n",
      "# Generate data\n",
      "x = np.random.rand(100)\n",
      "y = 2 * x + np.random.randn(100)\n",
      "\n",
      "# Plot data\n",
      "plt.scatter(x, y)\n",
      "plt.show()\n",
      "\n",
      "# Fit linear regression model\n",
      "w, b = np.linalg.lstsq(x.reshape(-1, 1), y.reshape(-1, 1))[0]\n",
      "\n",
      "# Plot fitted line\n",
      "y_pred = w * x + b\n",
      "plt.plot(x, y_pred)\n",
      "plt.show()\n",
      "```\n"
     ]
    }
   ],
   "source": [
    "print(code)"
   ]
  },
  {
   "cell_type": "code",
   "execution_count": 14,
   "metadata": {},
   "outputs": [],
   "source": [
    "from langchain.agents import create_sql_agent\n",
    "from langchain.agents.agent_toolkits import SQLDatabaseToolkit\n",
    "from langchain.agents.agent_types import AgentType\n",
    "from langchain.chat_models import ChatOpenAI\n",
    "from langchain.sql_database import SQLDatabase\n",
    "from langchain.prompts.chat import ChatPromptTemplate\n",
    "from sqlalchemy import create_engine"
   ]
  },
  {
   "cell_type": "code",
   "execution_count": 15,
   "metadata": {},
   "outputs": [
    {
     "name": "stdout",
     "output_type": "stream",
     "text": [
      "SQL Server\n",
      "SQL Server Native Client 11.0\n",
      "SQL Server Native Client RDA 11.0\n",
      "ODBC Driver 17 for SQL Server\n"
     ]
    }
   ],
   "source": [
    "# check the local ODBC driver and make sure it match with the traget database instance\n",
    "import pyodbc\n",
    "for driver in pyodbc.drivers():\n",
    "    print(driver)"
   ]
  },
  {
   "cell_type": "code",
   "execution_count": 16,
   "metadata": {},
   "outputs": [],
   "source": [
    "#windows authentication connection string.\n",
    "db = SQLDatabase.from_uri(\n",
    "    database_uri=\"mssql+pyodbc://GGKU4DELL1254/shopping?driver=ODBC+Driver+17+for+SQL+Server&trusted_connection=yes\"\n",
    ")"
   ]
  },
  {
   "cell_type": "code",
   "execution_count": 17,
   "metadata": {},
   "outputs": [
    {
     "data": {
      "text/plain": [
       "[QuerySQLDataBaseTool(description=\"Input to this tool is a detailed and correct SQL query, output is a result from the database. If the query is not correct, an error message will be returned. If an error is returned, rewrite the query, check the query, and try again. If you encounter an issue with Unknown column 'xxxx' in 'field list', use sql_db_schema to query the correct table fields.\", db=<langchain_community.utilities.sql_database.SQLDatabase object at 0x0000018817DBED00>),\n",
       " InfoSQLDatabaseTool(description='Input to this tool is a comma-separated list of tables, output is the schema and sample rows for those tables. Be sure that the tables actually exist by calling sql_db_list_tables first! Example Input: table1, table2, table3', db=<langchain_community.utilities.sql_database.SQLDatabase object at 0x0000018817DBED00>),\n",
       " ListSQLDatabaseTool(db=<langchain_community.utilities.sql_database.SQLDatabase object at 0x0000018817DBED00>),\n",
       " QuerySQLCheckerTool(description='Use this tool to double check if your query is correct before executing it. Always use this tool before executing a query with sql_db_query!', db=<langchain_community.utilities.sql_database.SQLDatabase object at 0x0000018817DBED00>, llm=GooglePalm(client=<module 'google.generativeai' from 'c:\\\\Users\\\\akish.pothuri\\\\python\\\\LangChain\\\\SQl_Script_chatbot\\\\chatbot\\\\lib\\\\site-packages\\\\google\\\\generativeai\\\\__init__.py'>, google_api_key=SecretStr('**********'), temperature=0.3), llm_chain=LLMChain(prompt=PromptTemplate(input_variables=['dialect', 'query'], template='\\n{query}\\nDouble check the {dialect} query above for common mistakes, including:\\n- Using NOT IN with NULL values\\n- Using UNION when UNION ALL should have been used\\n- Using BETWEEN for exclusive ranges\\n- Data type mismatch in predicates\\n- Properly quoting identifiers\\n- Using the correct number of arguments for functions\\n- Casting to the correct data type\\n- Using the proper columns for joins\\n\\nIf there are any of the above mistakes, rewrite the query. If there are no mistakes, just reproduce the original query.\\n\\nOutput the final SQL query only.\\n\\nSQL Query: '), llm=GooglePalm(client=<module 'google.generativeai' from 'c:\\\\Users\\\\akish.pothuri\\\\python\\\\LangChain\\\\SQl_Script_chatbot\\\\chatbot\\\\lib\\\\site-packages\\\\google\\\\generativeai\\\\__init__.py'>, google_api_key=SecretStr('**********'), temperature=0.3)))]"
      ]
     },
     "execution_count": 17,
     "metadata": {},
     "output_type": "execute_result"
    }
   ],
   "source": [
    "sql_toolkit=SQLDatabaseToolkit(db=db,llm=llm)\n",
    "sql_toolkit.get_tools()"
   ]
  },
  {
   "cell_type": "code",
   "execution_count": 18,
   "metadata": {},
   "outputs": [
    {
     "name": "stdout",
     "output_type": "stream",
     "text": [
      "['Customer', 'OrderItem', 'Orders', 'Product', 'Supplier']\n"
     ]
    },
    {
     "name": "stderr",
     "output_type": "stream",
     "text": [
      "c:\\Users\\akish.pothuri\\python\\LangChain\\SQl_Script_chatbot\\chatbot\\lib\\site-packages\\langchain_core\\_api\\deprecation.py:117: LangChainDeprecationWarning: The function `get_table_names` was deprecated in LangChain 0.0.1 and will be removed in 0.2.0. Use get_usable_table_name instead.\n",
      "  warn_deprecated(\n"
     ]
    }
   ],
   "source": [
    "print(db.get_table_names())"
   ]
  },
  {
   "cell_type": "code",
   "execution_count": 19,
   "metadata": {},
   "outputs": [
    {
     "name": "stderr",
     "output_type": "stream",
     "text": [
      "c:\\Users\\akish.pothuri\\python\\LangChain\\SQl_Script_chatbot\\chatbot\\lib\\site-packages\\langchain_core\\_api\\deprecation.py:117: LangChainDeprecationWarning: The function `__call__` was deprecated in LangChain 0.1.0 and will be removed in 0.2.0. Use invoke instead.\n",
      "  warn_deprecated(\n"
     ]
    },
    {
     "name": "stdout",
     "output_type": "stream",
     "text": [
      "\n",
      "\n",
      "\u001b[1m> Entering new SQLDatabaseChain chain...\u001b[0m\n",
      "what are the total number of customers\n",
      "SQLQuery:\u001b[32;1m\u001b[1;3mSELECT COUNT(*) FROM Customer\u001b[0m\n",
      "SQLResult: \u001b[33;1m\u001b[1;3m[(91,)]\u001b[0m\n",
      "Answer:\u001b[32;1m\u001b[1;3m91\u001b[0m\n",
      "\u001b[1m> Finished chain.\u001b[0m\n"
     ]
    }
   ],
   "source": [
    "from langchain_experimental.sql import SQLDatabaseChain\n",
    "db_chain = SQLDatabaseChain.from_llm(llm, db, verbose=True)\n",
    "qns1 = db_chain(\"what are the total number of customers\")"
   ]
  },
  {
   "cell_type": "code",
   "execution_count": 20,
   "metadata": {},
   "outputs": [
    {
     "name": "stdout",
     "output_type": "stream",
     "text": [
      "\n",
      "\n",
      "\u001b[1m> Entering new SQLDatabaseChain chain...\u001b[0m\n",
      "what are the names of the customers from germany courntry?\n",
      "SQLQuery:\u001b[32;1m\u001b[1;3mSELECT FirstName, LastName FROM Customer WHERE Country = 'Germany'\u001b[0m\n",
      "SQLResult: \u001b[33;1m\u001b[1;3m[('Maria', 'Anders'), ('Hanna', 'Moos'), ('Sven', 'Ottlieb'), ('Peter', 'Franken'), ('Philip', 'Cramer'), ('Renate', 'Messner'), ('Alexander', 'Feuer'), ('Henriette', 'Pfalzheim'), ('Horst', 'Kloss'), ('Karin', 'Josephs'), ('Rita', 'Müller')]\u001b[0m\n",
      "Answer:\u001b[32;1m\u001b[1;3mMaria Anders, Hanna Moos, Sven Ottlieb, Peter Franken, Philip Cramer, Renate Messner, Alexander Feuer, Henriette Pfalzheim, Horst Kloss, Karin Josephs, Rita Müller\u001b[0m\n",
      "\u001b[1m> Finished chain.\u001b[0m\n"
     ]
    }
   ],
   "source": [
    "from langchain_experimental.sql import SQLDatabaseChain\n",
    "db_chain = SQLDatabaseChain.from_llm(llm, db, verbose=True)\n",
    "qns2 = db_chain(\"what are the names of the customers from germany courntry?\")"
   ]
  },
  {
   "cell_type": "code",
   "execution_count": 23,
   "metadata": {},
   "outputs": [
    {
     "name": "stdout",
     "output_type": "stream",
     "text": [
      "\n",
      "\n",
      "\u001b[1m> Entering new SQLDatabaseChain chain...\u001b[0m\n",
      "what is the name of Supplier providing more products?\n",
      "SQLQuery:\u001b[32;1m\u001b[1;3mSELECT CompanyName FROM Supplier s JOIN Product p ON s.Id = p.SupplierId GROUP BY CompanyName ORDER BY COUNT(*) DESC\u001b[0m\n",
      "SQLResult: \u001b[33;1m\u001b[1;3m[('Pavlova, Ltd.',), ('Plutzer Lebensmittelgroßmärkte AG',), ('Specialty Biscuits, Ltd.',), ('New Orleans Cajun Delights',), ('Norske Meierier',), ('Formaggi Fortini s.r.l.',), (\"Mayumi's\",), ('Bigfoot Breweries',), ('Exotic Liquids',), (\"G'day, Mate\",), (\"Grandma Kelly's Homestead\",), ('Heli Süßwaren GmbH & Co. KG',), ('Karkki Oy',), ('Leka Trading',), ('Svensk Sjöföda AB',), ('Tokyo Traders',), ('Zaanse Snoepfabriek',), ('PB Knäckebröd AB',), ('Aux joyeux ecclésiastiques',), ('Lyngbysild',), ('Ma Maison',), (\"Forêts d'érables\",), (\"Cooperativa de Quesos 'Las Cabras'\",), ('New England Seafood Cannery',), ('Gai pâturage',), ('Pasta Buttini s.r.l.',), ('Nord-Ost-Fisch Handelsgesellschaft mbH',), ('Escargots Nouveaux',), ('Refrescos Americanas LTDA',)]\u001b[0m\n",
      "Answer:\u001b[32;1m\u001b[1;3mPavlova, Ltd.\u001b[0m\n",
      "\u001b[1m> Finished chain.\u001b[0m\n"
     ]
    }
   ],
   "source": [
    "qns3 = db_chain(\"what is the name of Supplier providing more products?\")\n"
   ]
  },
  {
   "cell_type": "code",
   "execution_count": 24,
   "metadata": {},
   "outputs": [
    {
     "data": {
      "text/plain": [
       "'Pavlova, Ltd.'"
      ]
     },
     "execution_count": 24,
     "metadata": {},
     "output_type": "execute_result"
    }
   ],
   "source": [
    "qns3['result']"
   ]
  },
  {
   "cell_type": "code",
   "execution_count": 26,
   "metadata": {},
   "outputs": [
    {
     "name": "stdout",
     "output_type": "stream",
     "text": [
      "\n",
      "\n",
      "\u001b[1m> Entering new SQLDatabaseChain chain...\u001b[0m\n",
      "what is the name of customer ordered maximum quantity according to the data in the database?\n",
      "SQLQuery:\u001b[32;1m\u001b[1;3mSELECT TOP 1 c.FirstName + ' ' + c.LastName AS CustomerName \n",
      "FROM Customer AS c \n",
      "INNER JOIN Orders AS o ON c.Id = o.CustomerId \n",
      "INNER JOIN OrderItem AS i ON o.Id = i.OrderId \n",
      "GROUP BY c.Id, c.FirstName, c.LastName \n",
      "ORDER BY SUM(i.Quantity) DESC\u001b[0m\n",
      "SQLResult: \u001b[33;1m\u001b[1;3m[('Jose Pavarotti',)]\u001b[0m\n",
      "Answer:\u001b[32;1m\u001b[1;3mJose Pavarotti\u001b[0m\n",
      "\u001b[1m> Finished chain.\u001b[0m\n"
     ]
    }
   ],
   "source": [
    "qns4 = db_chain(\"what is the name of customer ordered maximum quantity according to the data in the database?\")"
   ]
  },
  {
   "cell_type": "code",
   "execution_count": 39,
   "metadata": {},
   "outputs": [
    {
     "name": "stdout",
     "output_type": "stream",
     "text": [
      "\n",
      "\n",
      "\u001b[1m> Entering new SQLDatabaseChain chain...\u001b[0m\n",
      "Provide me names of customers according to their respective countries\n",
      "SQLQuery:\u001b[32;1m\u001b[1;3mSELECT c.FirstName, c.LastName, c.Country FROM Customer c\u001b[0m\n",
      "SQLResult: \u001b[33;1m\u001b[1;3m[('Maria', 'Anders', 'Germany'), ('Ana', 'Trujillo', 'Mexico'), ('Antonio', 'Moreno', 'Mexico'), ('Thomas', 'Hardy', 'UK'), ('Christina', 'Berglund', 'Sweden'), ('Hanna', 'Moos', 'Germany'), ('Frédérique', 'Citeaux', 'France'), ('Martín', 'Sommer', 'Spain'), ('Laurence', 'Lebihan', 'France'), ('Elizabeth', 'Lincoln', 'Canada'), ('Victoria', 'Ashworth', 'UK'), ('Patricio', 'Simpson', 'Argentina'), ('Francisco', 'Chang', 'Mexico'), ('Yang', 'Wang', 'Switzerland'), ('Pedro', 'Afonso', 'Brazil'), ('Elizabeth', 'Brown', 'UK'), ('Sven', 'Ottlieb', 'Germany'), ('Janine', 'Labrune', 'France'), ('Ann', 'Devon', 'UK'), ('Roland', 'Mendel', 'Austria'), ('Aria', 'Cruz', 'Brazil'), ('Diego', 'Roel', 'Spain'), ('Martine', 'Rancé', 'France'), ('Maria', 'Larsson', 'Sweden'), ('Peter', 'Franken', 'Germany'), ('Carine', 'Schmitt', 'France'), ('Paolo', 'Accorti', 'Italy'), ('Lino', 'Rodriguez', 'Portugal'), ('Eduardo', 'Saavedra', 'Spain'), ('José', 'Pedro Freyre', 'Spain'), ('André', 'Fonseca', 'Brazil'), ('Howard', 'Snyder', 'USA'), ('Manuel', 'Pereira', 'Venezuela'), ('Mario', 'Pontes', 'Brazil'), ('Carlos', 'Hernández', 'Venezuela'), ('Yoshi', 'Latimer', 'USA'), ('Patricia', 'McKenna', 'Ireland'), ('Helen', 'Bennett', 'UK'), ('Philip', 'Cramer', 'Germany'), ('Daniel', 'Tonini', 'France'), ('Annette', 'Roulet', 'France'), ('Yoshi', 'Tannamuri', 'Canada'), ('John', 'Steel', 'USA'), ('Renate', 'Messner', 'Germany'), ('Jaime', 'Yorres', 'USA'), ('Carlos', 'González', 'Venezuela'), ('Felipe', 'Izquierdo', 'Venezuela'), ('Fran', 'Wilson', 'USA'), ('Giovanni', 'Rovelli', 'Italy'), ('Catherine', 'Dewey', 'Belgium'), ('Jean', 'Fresnière', 'Canada'), ('Alexander', 'Feuer', 'Germany'), ('Simon', 'Crowther', 'UK'), ('Yvonne', 'Moncada', 'Argentina'), ('Rene', 'Phillips', 'USA'), ('Henriette', 'Pfalzheim', 'Germany'), ('Marie', 'Bertrand', 'France'), ('Guillermo', 'Fernández', 'Mexico'), ('Georg', 'Pipps', 'Austria'), ('Isabel', 'de Castro', 'Portugal'), ('Bernardo', 'Batista', 'Brazil'), ('Lúcia', 'Carvalho', 'Brazil'), ('Horst', 'Kloss', 'Germany'), ('Sergio', 'Gutiérrez', 'Argentina'), ('Paula', 'Wilson', 'USA'), ('Maurizio', 'Moroni', 'Italy'), ('Janete', 'Limeira', 'Brazil'), ('Michael', 'Holz', 'Switzerland'), ('Alejandra', 'Camino', 'Spain'), ('Jonas', 'Bergulfsen', 'Norway'), ('Jose', 'Pavarotti', 'USA'), ('Hari', 'Kumar', 'UK'), ('Jytte', 'Petersen', 'Denmark'), ('Dominique', 'Perrier', 'France'), ('Art', 'Braunschweiger', 'USA'), ('Pascale', 'Cartrain', 'Belgium'), ('Liz', 'Nixon', 'USA'), ('Liu', 'Wong', 'USA'), ('Karin', 'Josephs', 'Germany'), ('Miguel', 'Angel Paolino', 'Mexico'), ('Anabela', 'Domingues', 'Brazil'), ('Helvetius', 'Nagy', 'USA'), ('Palle', 'Ibsen', 'Denmark'), ('Mary', 'Saveley', 'France'), ('Paul', 'Henriot', 'France'), ('Rita', 'Müller', 'Germany'), ('Pirkko', 'Koskitalo', 'Finland'), ('Paula', 'Parente', 'Brazil'), ('Karl', 'Jablonski', 'USA'), ('Matti', 'Karttunen', 'Finland'), ('Zbyszek', 'Piestrzeniewicz', 'Poland')]\u001b[0m\n",
      "Answer:\u001b[32;1m\u001b[1;3mMaria Anders (Germany), Ana Trujillo (Mexico), Antonio Moreno (Mexico), Thomas Hardy (UK), Christina Berglund (Sweden), Hanna Moos (Germany), Frédérique Citeaux (France), Martín Sommer (Spain), Laurence Lebihan (France), Elizabeth Lincoln (Canada), Victoria Ashworth (UK), Patricio Simpson (Argentina), Francisco Chang (Mexico), Yang Wang (Switzerland), Pedro Afonso (Brazil), Elizabeth Brown (UK), Sven Ottlieb (Germany), Janine Labrune (France), Ann Devon (UK), Roland Mendel (Austria), Aria Cruz (Brazil), Diego Roel (Spain), Martine Rancé (France), Maria Larsson (Sweden), Peter Franken (Germany), Carine Schmitt (France), Paolo Accorti (Italy), Lino Rodriguez (Portugal), Eduardo Saavedra (Spain), José Pedro Freyre (Spain), André Fonseca (Brazil), Howard Snyder (USA), Manuel Pereira (Venezuela), Mario Pontes (Brazil), Carlos Hernández (Venezuela), Yoshi Latimer (USA), Patricia McKenna (Ireland), Helen Bennett (UK), Philip Cramer (Germany), Daniel Tonini (France), Annette Roulet (France), Yoshi Tannamuri (Canada), John Steel (USA), Renate Messner (Germany), Jaime Yorres (USA), Carlos González (Venezuela), Felipe Izquierdo (Venezuela), Fran Wilson (USA), Giovanni Rovelli (Italy), Catherine Dewey (Belgium), Jean Fresnière (Canada), Alexander Feuer (Germany), Simon Crowther (UK), Yvonne Moncada (Argentina), Rene Phillips (USA), Henriette Pfalzheim (Germany), Marie Bertrand (France), Guillermo Fernández (Mexico), Georg Pipps (Austria), Isabel de Castro (Portugal), Bernardo Batista (Brazil), Lúcia Carvalho (Brazil), Horst Kloss (Germany), Sergio Gutiérrez (Argentina), Paula Wilson (USA), Maurizio Moroni (Italy), Janete Limeira (Brazil), Michael Holz (Switzerland), Alejandra Camino (Spain), Jonas Bergulfsen (Norway), Jose Pavarotti (USA), Hari Kumar (UK), Jytte Petersen (Denmark), Dominique Perrier (France), Art Braunschweiger (USA), Pascale Cartrain (Belgium), Liz Nixon (USA), Liu Wong (USA), Karin Josephs (Germany), Miguel Angel Paolino (Mexico), Anabela Domingues (Brazil), Helvetius Nagy (USA), Palle Ibsen (Denmark), Mary Saveley (France), Paul Henriot (France), Rita Müller (Germany), Pirkko Koskitalo (Finland), Paula Parente (Brazil), Karl Jablonski (USA), Matti Karttunen (Finland), Zbyszek Piestrzeniewicz (Poland)\u001b[0m\n",
      "\u001b[1m> Finished chain.\u001b[0m\n"
     ]
    }
   ],
   "source": [
    "qns5 = db_chain(\"Provide me names of customers according to their respective countries\")\n",
    "# print(qns5)"
   ]
  },
  {
   "cell_type": "code",
   "execution_count": 41,
   "metadata": {},
   "outputs": [
    {
     "name": "stdout",
     "output_type": "stream",
     "text": [
      "Maria Anders (Germany), Ana Trujillo (Mexico), Antonio Moreno (Mexico), Thomas Hardy (UK), Christina Berglund (Sweden), Hanna Moos (Germany), Frédérique Citeaux (France), Martín Sommer (Spain), Laurence Lebihan (France), Elizabeth Lincoln (Canada), Victoria Ashworth (UK), Patricio Simpson (Argentina), Francisco Chang (Mexico), Yang Wang (Switzerland), Pedro Afonso (Brazil), Elizabeth Brown (UK), Sven Ottlieb (Germany), Janine Labrune (France), Ann Devon (UK), Roland Mendel (Austria), Aria Cruz (Brazil), Diego Roel (Spain), Martine Rancé (France), Maria Larsson (Sweden), Peter Franken (Germany), Carine Schmitt (France), Paolo Accorti (Italy), Lino Rodriguez (Portugal), Eduardo Saavedra (Spain), José Pedro Freyre (Spain), André Fonseca (Brazil), Howard Snyder (USA), Manuel Pereira (Venezuela), Mario Pontes (Brazil), Carlos Hernández (Venezuela), Yoshi Latimer (USA), Patricia McKenna (Ireland), Helen Bennett (UK), Philip Cramer (Germany), Daniel Tonini (France), Annette Roulet (France), Yoshi Tannamuri (Canada), John Steel (USA), Renate Messner (Germany), Jaime Yorres (USA), Carlos González (Venezuela), Felipe Izquierdo (Venezuela), Fran Wilson (USA), Giovanni Rovelli (Italy), Catherine Dewey (Belgium), Jean Fresnière (Canada), Alexander Feuer (Germany), Simon Crowther (UK), Yvonne Moncada (Argentina), Rene Phillips (USA), Henriette Pfalzheim (Germany), Marie Bertrand (France), Guillermo Fernández (Mexico), Georg Pipps (Austria), Isabel de Castro (Portugal), Bernardo Batista (Brazil), Lúcia Carvalho (Brazil), Horst Kloss (Germany), Sergio Gutiérrez (Argentina), Paula Wilson (USA), Maurizio Moroni (Italy), Janete Limeira (Brazil), Michael Holz (Switzerland), Alejandra Camino (Spain), Jonas Bergulfsen (Norway), Jose Pavarotti (USA), Hari Kumar (UK), Jytte Petersen (Denmark), Dominique Perrier (France), Art Braunschweiger (USA), Pascale Cartrain (Belgium), Liz Nixon (USA), Liu Wong (USA), Karin Josephs (Germany), Miguel Angel Paolino (Mexico), Anabela Domingues (Brazil), Helvetius Nagy (USA), Palle Ibsen (Denmark), Mary Saveley (France), Paul Henriot (France), Rita Müller (Germany), Pirkko Koskitalo (Finland), Paula Parente (Brazil), Karl Jablonski (USA), Matti Karttunen (Finland), Zbyszek Piestrzeniewicz (Poland)\n"
     ]
    }
   ],
   "source": [
    "print(qns5['result'])"
   ]
  },
  {
   "cell_type": "code",
   "execution_count": 42,
   "metadata": {},
   "outputs": [
    {
     "name": "stdout",
     "output_type": "stream",
     "text": [
      "\n",
      "\n",
      "\u001b[1m> Entering new SQLDatabaseChain chain...\u001b[0m\n",
      "SELECT Country, FirstName + ' ' + LastName FROM Customer GROUP BY Country, FirstName, LastName;\n",
      "SQLQuery:\u001b[32;1m\u001b[1;3mSELECT Country, FirstName + ' ' + LastName FROM Customer GROUP BY Country, FirstName, LastName\u001b[0m\n",
      "SQLResult: \u001b[33;1m\u001b[1;3m[('Argentina', 'Patricio Simpson'), ('Argentina', 'Sergio Gutiérrez'), ('Argentina', 'Yvonne Moncada'), ('Austria', 'Georg Pipps'), ('Austria', 'Roland Mendel'), ('Belgium', 'Catherine Dewey'), ('Belgium', 'Pascale Cartrain'), ('Brazil', 'Anabela Domingues'), ('Brazil', 'André Fonseca'), ('Brazil', 'Aria Cruz'), ('Brazil', 'Bernardo Batista'), ('Brazil', 'Janete Limeira'), ('Brazil', 'Lúcia Carvalho'), ('Brazil', 'Mario Pontes'), ('Brazil', 'Paula Parente'), ('Brazil', 'Pedro Afonso'), ('Canada', 'Elizabeth Lincoln'), ('Canada', 'Jean Fresnière'), ('Canada', 'Yoshi Tannamuri'), ('Denmark', 'Jytte Petersen'), ('Denmark', 'Palle Ibsen'), ('Finland', 'Matti Karttunen'), ('Finland', 'Pirkko Koskitalo'), ('France', 'Annette Roulet'), ('France', 'Carine Schmitt'), ('France', 'Daniel Tonini'), ('France', 'Dominique Perrier'), ('France', 'Frédérique Citeaux'), ('France', 'Janine Labrune'), ('France', 'Laurence Lebihan'), ('France', 'Marie Bertrand'), ('France', 'Martine Rancé'), ('France', 'Mary Saveley'), ('France', 'Paul Henriot'), ('Germany', 'Alexander Feuer'), ('Germany', 'Hanna Moos'), ('Germany', 'Henriette Pfalzheim'), ('Germany', 'Horst Kloss'), ('Germany', 'Karin Josephs'), ('Germany', 'Maria Anders'), ('Germany', 'Peter Franken'), ('Germany', 'Philip Cramer'), ('Germany', 'Renate Messner'), ('Germany', 'Rita Müller'), ('Germany', 'Sven Ottlieb'), ('Ireland', 'Patricia McKenna'), ('Italy', 'Giovanni Rovelli'), ('Italy', 'Maurizio Moroni'), ('Italy', 'Paolo Accorti'), ('Mexico', 'Ana Trujillo'), ('Mexico', 'Antonio Moreno'), ('Mexico', 'Francisco Chang'), ('Mexico', 'Guillermo Fernández'), ('Mexico', 'Miguel Angel Paolino'), ('Norway', 'Jonas Bergulfsen'), ('Poland', 'Zbyszek Piestrzeniewicz'), ('Portugal', 'Isabel de Castro'), ('Portugal', 'Lino Rodriguez'), ('Spain', 'Alejandra Camino'), ('Spain', 'Diego Roel'), ('Spain', 'Eduardo Saavedra'), ('Spain', 'José Pedro Freyre'), ('Spain', 'Martín Sommer'), ('Sweden', 'Christina Berglund'), ('Sweden', 'Maria Larsson'), ('Switzerland', 'Michael Holz'), ('Switzerland', 'Yang Wang'), ('UK', 'Ann Devon'), ('UK', 'Elizabeth Brown'), ('UK', 'Hari Kumar'), ('UK', 'Helen Bennett'), ('UK', 'Simon Crowther'), ('UK', 'Thomas Hardy'), ('UK', 'Victoria Ashworth'), ('USA', 'Art Braunschweiger'), ('USA', 'Fran Wilson'), ('USA', 'Helvetius Nagy'), ('USA', 'Howard Snyder'), ('USA', 'Jaime Yorres'), ('USA', 'John Steel'), ('USA', 'Jose Pavarotti'), ('USA', 'Karl Jablonski'), ('USA', 'Liu Wong'), ('USA', 'Liz Nixon'), ('USA', 'Paula Wilson'), ('USA', 'Rene Phillips'), ('USA', 'Yoshi Latimer'), ('Venezuela', 'Carlos González'), ('Venezuela', 'Carlos Hernández'), ('Venezuela', 'Felipe Izquierdo'), ('Venezuela', 'Manuel Pereira')]\u001b[0m\n",
      "Answer:\u001b[32;1m\u001b[1;3mArgentina: Patricio Simpson, Sergio Gutiérrez, Yvonne Moncada\n",
      "Austria: Georg Pipps, Roland Mendel\n",
      "Belgium: Catherine Dewey, Pascale Cartrain\n",
      "Brazil: Anabela Domingues, André Fonseca, Aria Cruz, Bernardo Batista, Janete Limeira, Lúcia Carvalho, Mario Pontes, Paula Parente, Pedro Afonso\n",
      "Canada: Elizabeth Lincoln, Jean Fresnière, Yoshi Tannamuri\n",
      "Denmark: Jytte Petersen, Palle Ibsen\n",
      "Finland: Matti Karttunen, Pirkko Koskitalo\n",
      "France: Annette Roulet, Carine Schmitt, Daniel Tonini, Dominique Perrier, Frédérique Citeaux, Janine Labrune, Laurence Lebihan, Marie Bertrand, Martine Rancé, Mary Saveley, Paul Henriot\n",
      "Germany: Alexander Feuer, Hanna Moos, Henriette Pfalzheim, Horst Kloss, Karin Josephs, Maria Anders, Peter Franken, Philip Cramer, Renate Messner, Rita Müller, Sven Ottlieb\n",
      "Ireland: Patricia McKenna\n",
      "Italy: Giovanni Rovelli, Maurizio Moroni, Paolo Accorti\n",
      "Mexico: Ana Trujillo, Antonio Moreno, Francisco Chang, Guillermo Fernández, Miguel Angel Paolino\n",
      "Norway: Jonas Bergulfsen\n",
      "Poland: Zbyszek Piestrzeniewicz\n",
      "Portugal: Isabel de Castro, Lino Rodriguez\n",
      "Spain: Alejandra Camino, Diego Roel, Eduardo Saavedra, José Pedro Freyre, Martín Sommer\n",
      "Sweden: Christina Berglund, Maria Larsson\n",
      "Switzerland: Michael Holz, Yang Wang\n",
      "UK: Ann Devon, Elizabeth Brown, Hari Kumar, Helen Bennett, Simon Crowther, Thomas Hardy, Victoria Ashworth\n",
      "USA: Art Braunschweiger, Fran Wilson, Helvetius Nagy, Howard Snyder, Jaime Yorres, John Steel, Jose Pavarotti, Karl Jablonski, Liu Wong, Liz Nixon, Paula Wilson, Rene Phillips, Yoshi Latimer\n",
      "Venezuela: Carlos González, Carlos Hernández, Felipe Izquierdo, Manuel Pereira\u001b[0m\n",
      "\u001b[1m> Finished chain.\u001b[0m\n"
     ]
    }
   ],
   "source": [
    "qns6 = db_chain.run(\"SELECT Country, FirstName + ' ' + LastName FROM Customer GROUP BY Country, FirstName, LastName;\")"
   ]
  },
  {
   "cell_type": "code",
   "execution_count": 29,
   "metadata": {},
   "outputs": [
    {
     "name": "stdout",
     "output_type": "stream",
     "text": [
      "\n",
      "\n",
      "\u001b[1m> Entering new SQLDatabaseChain chain...\u001b[0m\n",
      "Give me the date on we got maximum amount?\n",
      "SQLQuery:"
     ]
    },
    {
     "name": "stderr",
     "output_type": "stream",
     "text": [
      "Retrying langchain_community.llms.google_palm.completion_with_retry.<locals>._completion_with_retry in 4.0 seconds as it raised InternalServerError: 500 An internal error has occurred. Please retry or report in https://developers.generativeai.google/guide/troubleshooting.\n"
     ]
    },
    {
     "name": "stdout",
     "output_type": "stream",
     "text": [
      "\u001b[32;1m\u001b[1;3mSELECT OrderDate FROM Orders ORDER BY TotalAmount DESC OFFSET 0 ROWS FETCH NEXT 1 ROWS ONLY\u001b[0m\n",
      "SQLResult: \u001b[33;1m\u001b[1;3m[(datetime.datetime(2014, 2, 2, 0, 0),)]\u001b[0m\n",
      "Answer:\u001b[32;1m\u001b[1;3m2014-02-02\u001b[0m\n",
      "\u001b[1m> Finished chain.\u001b[0m\n"
     ]
    }
   ],
   "source": [
    "qns7 = db_chain(\"Give me the date on we got maximum amount?\")"
   ]
  },
  {
   "cell_type": "code",
   "execution_count": 30,
   "metadata": {},
   "outputs": [
    {
     "name": "stdout",
     "output_type": "stream",
     "text": [
      "\n",
      "\n",
      "\u001b[1m> Entering new SQLDatabaseChain chain...\u001b[0m\n",
      "Give me the date on we got minimum amount?\n",
      "SQLQuery:"
     ]
    },
    {
     "name": "stderr",
     "output_type": "stream",
     "text": [
      "Retrying langchain_community.llms.google_palm.completion_with_retry.<locals>._completion_with_retry in 4.0 seconds as it raised InternalServerError: 500 An internal error has occurred. Please retry or report in https://developers.generativeai.google/guide/troubleshooting.\n"
     ]
    },
    {
     "name": "stdout",
     "output_type": "stream",
     "text": [
      "\u001b[32;1m\u001b[1;3mSELECT MIN(OrderDate) FROM Orders\u001b[0m\n",
      "SQLResult: \u001b[33;1m\u001b[1;3m[(datetime.datetime(2012, 7, 4, 0, 0),)]\u001b[0m\n",
      "Answer:"
     ]
    },
    {
     "name": "stderr",
     "output_type": "stream",
     "text": [
      "Retrying langchain_community.llms.google_palm.completion_with_retry.<locals>._completion_with_retry in 4.0 seconds as it raised InternalServerError: 500 An internal error has occurred. Please retry or report in https://developers.generativeai.google/guide/troubleshooting.\n",
      "Retrying langchain_community.llms.google_palm.completion_with_retry.<locals>._completion_with_retry in 4.0 seconds as it raised InternalServerError: 500 An internal error has occurred. Please retry or report in https://developers.generativeai.google/guide/troubleshooting.\n"
     ]
    },
    {
     "name": "stdout",
     "output_type": "stream",
     "text": [
      "\u001b[32;1m\u001b[1;3m2012-07-04\u001b[0m\n",
      "\u001b[1m> Finished chain.\u001b[0m\n"
     ]
    }
   ],
   "source": [
    "qns8 = db_chain(\"Give me the date on we got minimum amount?\")"
   ]
  },
  {
   "cell_type": "markdown",
   "metadata": {},
   "source": [
    "## Few Shot"
   ]
  },
  {
   "cell_type": "code",
   "execution_count": null,
   "metadata": {},
   "outputs": [],
   "source": [
    "few_shots = [\n",
    "    {\n",
    "        'Question' : \"\"\n",
    "    }\n",
    "]"
   ]
  }
 ],
 "metadata": {
  "kernelspec": {
   "display_name": "chain",
   "language": "python",
   "name": "python3"
  },
  "language_info": {
   "codemirror_mode": {
    "name": "ipython",
    "version": 3
   },
   "file_extension": ".py",
   "mimetype": "text/x-python",
   "name": "python",
   "nbconvert_exporter": "python",
   "pygments_lexer": "ipython3",
   "version": "3.8.10"
  }
 },
 "nbformat": 4,
 "nbformat_minor": 2
}
