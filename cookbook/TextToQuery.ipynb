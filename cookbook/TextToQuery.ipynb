{
 "cells": [
  {
   "cell_type": "code",
   "execution_count": 1,
   "metadata": {},
   "outputs": [
    {
     "data": {
      "text/plain": [
       "'c:\\\\Users\\\\akish.pothuri\\\\python\\\\LangChain\\\\experiment'"
      ]
     },
     "execution_count": 1,
     "metadata": {},
     "output_type": "execute_result"
    }
   ],
   "source": [
    "import os\n",
    "# os.chdir('../')\n",
    "%pwd"
   ]
  },
  {
   "cell_type": "code",
   "execution_count": 1,
   "metadata": {},
   "outputs": [],
   "source": [
    "import pyodbc\n",
    "cnxn = pyodbc.connect(r'Driver=SQL Server;Server=GGKU4DELL1254;Database=projectcodefirst;Trusted_Connection=yes;')"
   ]
  },
  {
   "cell_type": "code",
   "execution_count": 2,
   "metadata": {},
   "outputs": [
    {
     "data": {
      "text/plain": [
       "<pyodbc.Cursor at 0x18817e11030>"
      ]
     },
     "execution_count": 2,
     "metadata": {},
     "output_type": "execute_result"
    }
   ],
   "source": [
    "cnxn.cursor()"
   ]
  },
  {
   "cell_type": "code",
   "execution_count": 3,
   "metadata": {},
   "outputs": [
    {
     "data": {
      "text/plain": [
       "<pyodbc.Cursor at 0x18817e11330>"
      ]
     },
     "execution_count": 3,
     "metadata": {},
     "output_type": "execute_result"
    }
   ],
   "source": [
    "cursor = cnxn.cursor()\n",
    "cursor.execute(\"SELECT * FROM Employees\")"
   ]
  },
  {
   "cell_type": "code",
   "execution_count": 4,
   "metadata": {},
   "outputs": [],
   "source": [
    "row = cursor.fetchall()"
   ]
  },
  {
   "cell_type": "code",
   "execution_count": 5,
   "metadata": {},
   "outputs": [
    {
     "data": {
      "text/plain": [
       "[(1, 'Madhu', 1), (2, 'Anil', 2), (3, 'Amir', 3), (7, 'Akbar', 3)]"
      ]
     },
     "execution_count": 5,
     "metadata": {},
     "output_type": "execute_result"
    }
   ],
   "source": [
    "row"
   ]
  },
  {
   "cell_type": "code",
   "execution_count": null,
   "metadata": {},
   "outputs": [],
   "source": [
    "# pip install google-generativeai\n",
    "#pip install python-dotenv"
   ]
  },
  {
   "cell_type": "code",
   "execution_count": 7,
   "metadata": {},
   "outputs": [
    {
     "data": {
      "text/plain": [
       "True"
      ]
     },
     "execution_count": 7,
     "metadata": {},
     "output_type": "execute_result"
    }
   ],
   "source": [
    "import os\n",
    "from langchain.llms import GooglePalm\n",
    "from dotenv import load_dotenv \n",
    "load_dotenv()\n"
   ]
  },
  {
   "cell_type": "code",
   "execution_count": 10,
   "metadata": {},
   "outputs": [],
   "source": [
    "palm_key = os.getenv('api_key')"
   ]
  },
  {
   "cell_type": "code",
   "execution_count": 11,
   "metadata": {},
   "outputs": [],
   "source": [
    "llm = GooglePalm(google_api_key=palm_key, temperature=0.3)"
   ]
  },
  {
   "cell_type": "code",
   "execution_count": 12,
   "metadata": {},
   "outputs": [
    {
     "name": "stderr",
     "output_type": "stream",
     "text": [
      "c:\\Users\\akish.pothuri\\python\\LangChain\\SQl_Script_chatbot\\chatbot\\lib\\site-packages\\langchain_core\\_api\\deprecation.py:117: LangChainDeprecationWarning: The function `__call__` was deprecated in LangChain 0.1.7 and will be removed in 0.2.0. Use invoke instead.\n",
      "  warn_deprecated(\n"
     ]
    }
   ],
   "source": [
    "code = llm(\"Code to linear regression in machine learning algorithms\")"
   ]
  },
  {
   "cell_type": "code",
   "execution_count": 13,
   "metadata": {},
   "outputs": [
    {
     "name": "stdout",
     "output_type": "stream",
     "text": [
      "```python\n",
      "import numpy as np\n",
      "import matplotlib.pyplot as plt\n",
      "\n",
      "# Generate data\n",
      "x = np.random.rand(100)\n",
      "y = 2 * x + np.random.randn(100)\n",
      "\n",
      "# Plot data\n",
      "plt.scatter(x, y)\n",
      "plt.show()\n",
      "\n",
      "# Fit linear regression model\n",
      "w, b = np.linalg.lstsq(x.reshape(-1, 1), y.reshape(-1, 1))[0]\n",
      "\n",
      "# Plot fitted line\n",
      "y_pred = w * x + b\n",
      "plt.plot(x, y_pred)\n",
      "plt.show()\n",
      "```\n"
     ]
    }
   ],
   "source": [
    "print(code)"
   ]
  },
  {
   "cell_type": "code",
   "execution_count": 14,
   "metadata": {},
   "outputs": [],
   "source": [
    "from langchain.agents import create_sql_agent\n",
    "from langchain.agents.agent_toolkits import SQLDatabaseToolkit\n",
    "from langchain.agents.agent_types import AgentType\n",
    "from langchain.chat_models import ChatOpenAI\n",
    "from langchain.sql_database import SQLDatabase\n",
    "from langchain.prompts.chat import ChatPromptTemplate\n",
    "from sqlalchemy import create_engine"
   ]
  },
  {
   "cell_type": "code",
   "execution_count": 15,
   "metadata": {},
   "outputs": [
    {
     "name": "stdout",
     "output_type": "stream",
     "text": [
      "SQL Server\n",
      "SQL Server Native Client 11.0\n",
      "SQL Server Native Client RDA 11.0\n",
      "ODBC Driver 17 for SQL Server\n"
     ]
    }
   ],
   "source": [
    "# check the local ODBC driver and make sure it match with the traget database instance\n",
    "import pyodbc\n",
    "for driver in pyodbc.drivers():\n",
    "    print(driver)"
   ]
  },
  {
   "cell_type": "code",
   "execution_count": 16,
   "metadata": {},
   "outputs": [],
   "source": [
    "#windows authentication connection string.\n",
    "db = SQLDatabase.from_uri(\n",
    "    database_uri=\"mssql+pyodbc://GGKU4DELL1254/shopping?driver=ODBC+Driver+17+for+SQL+Server&trusted_connection=yes\"\n",
    ")"
   ]
  },
  {
   "cell_type": "code",
   "execution_count": 17,
   "metadata": {},
   "outputs": [
    {
     "data": {
      "text/plain": [
       "[QuerySQLDataBaseTool(description=\"Input to this tool is a detailed and correct SQL query, output is a result from the database. If the query is not correct, an error message will be returned. If an error is returned, rewrite the query, check the query, and try again. If you encounter an issue with Unknown column 'xxxx' in 'field list', use sql_db_schema to query the correct table fields.\", db=<langchain_community.utilities.sql_database.SQLDatabase object at 0x0000018817DBED00>),\n",
       " InfoSQLDatabaseTool(description='Input to this tool is a comma-separated list of tables, output is the schema and sample rows for those tables. Be sure that the tables actually exist by calling sql_db_list_tables first! Example Input: table1, table2, table3', db=<langchain_community.utilities.sql_database.SQLDatabase object at 0x0000018817DBED00>),\n",
       " ListSQLDatabaseTool(db=<langchain_community.utilities.sql_database.SQLDatabase object at 0x0000018817DBED00>),\n",
       " QuerySQLCheckerTool(description='Use this tool to double check if your query is correct before executing it. Always use this tool before executing a query with sql_db_query!', db=<langchain_community.utilities.sql_database.SQLDatabase object at 0x0000018817DBED00>, llm=GooglePalm(client=<module 'google.generativeai' from 'c:\\\\Users\\\\akish.pothuri\\\\python\\\\LangChain\\\\SQl_Script_chatbot\\\\chatbot\\\\lib\\\\site-packages\\\\google\\\\generativeai\\\\__init__.py'>, google_api_key=SecretStr('**********'), temperature=0.3), llm_chain=LLMChain(prompt=PromptTemplate(input_variables=['dialect', 'query'], template='\\n{query}\\nDouble check the {dialect} query above for common mistakes, including:\\n- Using NOT IN with NULL values\\n- Using UNION when UNION ALL should have been used\\n- Using BETWEEN for exclusive ranges\\n- Data type mismatch in predicates\\n- Properly quoting identifiers\\n- Using the correct number of arguments for functions\\n- Casting to the correct data type\\n- Using the proper columns for joins\\n\\nIf there are any of the above mistakes, rewrite the query. If there are no mistakes, just reproduce the original query.\\n\\nOutput the final SQL query only.\\n\\nSQL Query: '), llm=GooglePalm(client=<module 'google.generativeai' from 'c:\\\\Users\\\\akish.pothuri\\\\python\\\\LangChain\\\\SQl_Script_chatbot\\\\chatbot\\\\lib\\\\site-packages\\\\google\\\\generativeai\\\\__init__.py'>, google_api_key=SecretStr('**********'), temperature=0.3)))]"
      ]
     },
     "execution_count": 17,
     "metadata": {},
     "output_type": "execute_result"
    }
   ],
   "source": [
    "sql_toolkit=SQLDatabaseToolkit(db=db,llm=llm)\n",
    "sql_toolkit.get_tools()"
   ]
  },
  {
   "cell_type": "code",
   "execution_count": 18,
   "metadata": {},
   "outputs": [
    {
     "name": "stdout",
     "output_type": "stream",
     "text": [
      "['Customer', 'OrderItem', 'Orders', 'Product', 'Supplier']\n"
     ]
    },
    {
     "name": "stderr",
     "output_type": "stream",
     "text": [
      "c:\\Users\\akish.pothuri\\python\\LangChain\\SQl_Script_chatbot\\chatbot\\lib\\site-packages\\langchain_core\\_api\\deprecation.py:117: LangChainDeprecationWarning: The function `get_table_names` was deprecated in LangChain 0.0.1 and will be removed in 0.2.0. Use get_usable_table_name instead.\n",
      "  warn_deprecated(\n"
     ]
    }
   ],
   "source": [
    "print(db.get_table_names())"
   ]
  },
  {
   "cell_type": "code",
   "execution_count": 19,
   "metadata": {},
   "outputs": [
    {
     "name": "stderr",
     "output_type": "stream",
     "text": [
      "c:\\Users\\akish.pothuri\\python\\LangChain\\SQl_Script_chatbot\\chatbot\\lib\\site-packages\\langchain_core\\_api\\deprecation.py:117: LangChainDeprecationWarning: The function `__call__` was deprecated in LangChain 0.1.0 and will be removed in 0.2.0. Use invoke instead.\n",
      "  warn_deprecated(\n"
     ]
    },
    {
     "name": "stdout",
     "output_type": "stream",
     "text": [
      "\n",
      "\n",
      "\u001b[1m> Entering new SQLDatabaseChain chain...\u001b[0m\n",
      "what are the total number of customers\n",
      "SQLQuery:\u001b[32;1m\u001b[1;3mSELECT COUNT(*) FROM Customer\u001b[0m\n",
      "SQLResult: \u001b[33;1m\u001b[1;3m[(91,)]\u001b[0m\n",
      "Answer:\u001b[32;1m\u001b[1;3m91\u001b[0m\n",
      "\u001b[1m> Finished chain.\u001b[0m\n"
     ]
    }
   ],
   "source": [
    "from langchain_experimental.sql import SQLDatabaseChain\n",
    "db_chain = SQLDatabaseChain.from_llm(llm, db, verbose=True)\n",
    "qns1 = db_chain(\"what are the total number of customers\")"
   ]
  },
  {
   "cell_type": "code",
   "execution_count": 20,
   "metadata": {},
   "outputs": [
    {
     "name": "stdout",
     "output_type": "stream",
     "text": [
      "\n",
      "\n",
      "\u001b[1m> Entering new SQLDatabaseChain chain...\u001b[0m\n",
      "what are the names of the customers from germany courntry?\n",
      "SQLQuery:\u001b[32;1m\u001b[1;3mSELECT FirstName, LastName FROM Customer WHERE Country = 'Germany'\u001b[0m\n",
      "SQLResult: \u001b[33;1m\u001b[1;3m[('Maria', 'Anders'), ('Hanna', 'Moos'), ('Sven', 'Ottlieb'), ('Peter', 'Franken'), ('Philip', 'Cramer'), ('Renate', 'Messner'), ('Alexander', 'Feuer'), ('Henriette', 'Pfalzheim'), ('Horst', 'Kloss'), ('Karin', 'Josephs'), ('Rita', 'Müller')]\u001b[0m\n",
      "Answer:\u001b[32;1m\u001b[1;3mMaria Anders, Hanna Moos, Sven Ottlieb, Peter Franken, Philip Cramer, Renate Messner, Alexander Feuer, Henriette Pfalzheim, Horst Kloss, Karin Josephs, Rita Müller\u001b[0m\n",
      "\u001b[1m> Finished chain.\u001b[0m\n"
     ]
    }
   ],
   "source": [
    "from langchain_experimental.sql import SQLDatabaseChain\n",
    "db_chain = SQLDatabaseChain.from_llm(llm, db, verbose=True)\n",
    "qns2 = db_chain(\"what are the names of the customers from germany courntry?\")"
   ]
  },
  {
   "cell_type": "code",
   "execution_count": 23,
   "metadata": {},
   "outputs": [
    {
     "name": "stdout",
     "output_type": "stream",
     "text": [
      "\n",
      "\n",
      "\u001b[1m> Entering new SQLDatabaseChain chain...\u001b[0m\n",
      "what is the name of Supplier providing more products?\n",
      "SQLQuery:\u001b[32;1m\u001b[1;3mSELECT CompanyName FROM Supplier s JOIN Product p ON s.Id = p.SupplierId GROUP BY CompanyName ORDER BY COUNT(*) DESC\u001b[0m\n",
      "SQLResult: \u001b[33;1m\u001b[1;3m[('Pavlova, Ltd.',), ('Plutzer Lebensmittelgroßmärkte AG',), ('Specialty Biscuits, Ltd.',), ('New Orleans Cajun Delights',), ('Norske Meierier',), ('Formaggi Fortini s.r.l.',), (\"Mayumi's\",), ('Bigfoot Breweries',), ('Exotic Liquids',), (\"G'day, Mate\",), (\"Grandma Kelly's Homestead\",), ('Heli Süßwaren GmbH & Co. KG',), ('Karkki Oy',), ('Leka Trading',), ('Svensk Sjöföda AB',), ('Tokyo Traders',), ('Zaanse Snoepfabriek',), ('PB Knäckebröd AB',), ('Aux joyeux ecclésiastiques',), ('Lyngbysild',), ('Ma Maison',), (\"Forêts d'érables\",), (\"Cooperativa de Quesos 'Las Cabras'\",), ('New England Seafood Cannery',), ('Gai pâturage',), ('Pasta Buttini s.r.l.',), ('Nord-Ost-Fisch Handelsgesellschaft mbH',), ('Escargots Nouveaux',), ('Refrescos Americanas LTDA',)]\u001b[0m\n",
      "Answer:\u001b[32;1m\u001b[1;3mPavlova, Ltd.\u001b[0m\n",
      "\u001b[1m> Finished chain.\u001b[0m\n"
     ]
    }
   ],
   "source": [
    "qns3 = db_chain(\"what is the name of Supplier providing more products?\")\n"
   ]
  },
  {
   "cell_type": "code",
   "execution_count": 24,
   "metadata": {},
   "outputs": [
    {
     "data": {
      "text/plain": [
       "'Pavlova, Ltd.'"
      ]
     },
     "execution_count": 24,
     "metadata": {},
     "output_type": "execute_result"
    }
   ],
   "source": [
    "qns3['result']"
   ]
  },
  {
   "cell_type": "code",
   "execution_count": 26,
   "metadata": {},
   "outputs": [
    {
     "name": "stdout",
     "output_type": "stream",
     "text": [
      "\n",
      "\n",
      "\u001b[1m> Entering new SQLDatabaseChain chain...\u001b[0m\n",
      "what is the name of customer ordered maximum quantity according to the data in the database?\n",
      "SQLQuery:\u001b[32;1m\u001b[1;3mSELECT TOP 1 c.FirstName + ' ' + c.LastName AS CustomerName \n",
      "FROM Customer AS c \n",
      "INNER JOIN Orders AS o ON c.Id = o.CustomerId \n",
      "INNER JOIN OrderItem AS i ON o.Id = i.OrderId \n",
      "GROUP BY c.Id, c.FirstName, c.LastName \n",
      "ORDER BY SUM(i.Quantity) DESC\u001b[0m\n",
      "SQLResult: \u001b[33;1m\u001b[1;3m[('Jose Pavarotti',)]\u001b[0m\n",
      "Answer:\u001b[32;1m\u001b[1;3mJose Pavarotti\u001b[0m\n",
      "\u001b[1m> Finished chain.\u001b[0m\n"
     ]
    }
   ],
   "source": [
    "qns4 = db_chain(\"what is the name of customer ordered maximum quantity according to the data in the database?\")"
   ]
  },
  {
   "cell_type": "code",
   "execution_count": 43,
   "metadata": {},
   "outputs": [
    {
     "name": "stdout",
     "output_type": "stream",
     "text": [
      "\n",
      "\n",
      "\u001b[1m> Entering new SQLDatabaseChain chain...\u001b[0m\n",
      "Provide me names of customers according to their respective countries\n",
      "SQLQuery:\u001b[32;1m\u001b[1;3mSELECT c.FirstName, c.LastName, c.Country FROM Customer c\u001b[0m\n",
      "SQLResult: \u001b[33;1m\u001b[1;3m[('Maria', 'Anders', 'Germany'), ('Ana', 'Trujillo', 'Mexico'), ('Antonio', 'Moreno', 'Mexico'), ('Thomas', 'Hardy', 'UK'), ('Christina', 'Berglund', 'Sweden'), ('Hanna', 'Moos', 'Germany'), ('Frédérique', 'Citeaux', 'France'), ('Martín', 'Sommer', 'Spain'), ('Laurence', 'Lebihan', 'France'), ('Elizabeth', 'Lincoln', 'Canada'), ('Victoria', 'Ashworth', 'UK'), ('Patricio', 'Simpson', 'Argentina'), ('Francisco', 'Chang', 'Mexico'), ('Yang', 'Wang', 'Switzerland'), ('Pedro', 'Afonso', 'Brazil'), ('Elizabeth', 'Brown', 'UK'), ('Sven', 'Ottlieb', 'Germany'), ('Janine', 'Labrune', 'France'), ('Ann', 'Devon', 'UK'), ('Roland', 'Mendel', 'Austria'), ('Aria', 'Cruz', 'Brazil'), ('Diego', 'Roel', 'Spain'), ('Martine', 'Rancé', 'France'), ('Maria', 'Larsson', 'Sweden'), ('Peter', 'Franken', 'Germany'), ('Carine', 'Schmitt', 'France'), ('Paolo', 'Accorti', 'Italy'), ('Lino', 'Rodriguez', 'Portugal'), ('Eduardo', 'Saavedra', 'Spain'), ('José', 'Pedro Freyre', 'Spain'), ('André', 'Fonseca', 'Brazil'), ('Howard', 'Snyder', 'USA'), ('Manuel', 'Pereira', 'Venezuela'), ('Mario', 'Pontes', 'Brazil'), ('Carlos', 'Hernández', 'Venezuela'), ('Yoshi', 'Latimer', 'USA'), ('Patricia', 'McKenna', 'Ireland'), ('Helen', 'Bennett', 'UK'), ('Philip', 'Cramer', 'Germany'), ('Daniel', 'Tonini', 'France'), ('Annette', 'Roulet', 'France'), ('Yoshi', 'Tannamuri', 'Canada'), ('John', 'Steel', 'USA'), ('Renate', 'Messner', 'Germany'), ('Jaime', 'Yorres', 'USA'), ('Carlos', 'González', 'Venezuela'), ('Felipe', 'Izquierdo', 'Venezuela'), ('Fran', 'Wilson', 'USA'), ('Giovanni', 'Rovelli', 'Italy'), ('Catherine', 'Dewey', 'Belgium'), ('Jean', 'Fresnière', 'Canada'), ('Alexander', 'Feuer', 'Germany'), ('Simon', 'Crowther', 'UK'), ('Yvonne', 'Moncada', 'Argentina'), ('Rene', 'Phillips', 'USA'), ('Henriette', 'Pfalzheim', 'Germany'), ('Marie', 'Bertrand', 'France'), ('Guillermo', 'Fernández', 'Mexico'), ('Georg', 'Pipps', 'Austria'), ('Isabel', 'de Castro', 'Portugal'), ('Bernardo', 'Batista', 'Brazil'), ('Lúcia', 'Carvalho', 'Brazil'), ('Horst', 'Kloss', 'Germany'), ('Sergio', 'Gutiérrez', 'Argentina'), ('Paula', 'Wilson', 'USA'), ('Maurizio', 'Moroni', 'Italy'), ('Janete', 'Limeira', 'Brazil'), ('Michael', 'Holz', 'Switzerland'), ('Alejandra', 'Camino', 'Spain'), ('Jonas', 'Bergulfsen', 'Norway'), ('Jose', 'Pavarotti', 'USA'), ('Hari', 'Kumar', 'UK'), ('Jytte', 'Petersen', 'Denmark'), ('Dominique', 'Perrier', 'France'), ('Art', 'Braunschweiger', 'USA'), ('Pascale', 'Cartrain', 'Belgium'), ('Liz', 'Nixon', 'USA'), ('Liu', 'Wong', 'USA'), ('Karin', 'Josephs', 'Germany'), ('Miguel', 'Angel Paolino', 'Mexico'), ('Anabela', 'Domingues', 'Brazil'), ('Helvetius', 'Nagy', 'USA'), ('Palle', 'Ibsen', 'Denmark'), ('Mary', 'Saveley', 'France'), ('Paul', 'Henriot', 'France'), ('Rita', 'Müller', 'Germany'), ('Pirkko', 'Koskitalo', 'Finland'), ('Paula', 'Parente', 'Brazil'), ('Karl', 'Jablonski', 'USA'), ('Matti', 'Karttunen', 'Finland'), ('Zbyszek', 'Piestrzeniewicz', 'Poland')]\u001b[0m\n",
      "Answer:\u001b[32;1m\u001b[1;3mMaria Anders (Germany), Ana Trujillo (Mexico), Antonio Moreno (Mexico), Thomas Hardy (UK), Christina Berglund (Sweden), Hanna Moos (Germany), Frédérique Citeaux (France), Martín Sommer (Spain), Laurence Lebihan (France), Elizabeth Lincoln (Canada), Victoria Ashworth (UK), Patricio Simpson (Argentina), Francisco Chang (Mexico), Yang Wang (Switzerland), Pedro Afonso (Brazil), Elizabeth Brown (UK), Sven Ottlieb (Germany), Janine Labrune (France), Ann Devon (UK), Roland Mendel (Austria), Aria Cruz (Brazil), Diego Roel (Spain), Martine Rancé (France), Maria Larsson (Sweden), Peter Franken (Germany), Carine Schmitt (France), Paolo Accorti (Italy), Lino Rodriguez (Portugal), Eduardo Saavedra (Spain), José Pedro Freyre (Spain), André Fonseca (Brazil), Howard Snyder (USA), Manuel Pereira (Venezuela), Mario Pontes (Brazil), Carlos Hernández (Venezuela), Yoshi Latimer (USA), Patricia McKenna (Ireland), Helen Bennett (UK), Philip Cramer (Germany), Daniel Tonini (France), Annette Roulet (France), Yoshi Tannamuri (Canada), John Steel (USA), Renate Messner (Germany), Jaime Yorres (USA), Carlos González (Venezuela), Felipe Izquierdo (Venezuela), Fran Wilson (USA), Giovanni Rovelli (Italy), Catherine Dewey (Belgium), Jean Fresnière (Canada), Alexander Feuer (Germany), Simon Crowther (UK), Yvonne Moncada (Argentina), Rene Phillips (USA), Henriette Pfalzheim (Germany), Marie Bertrand (France), Guillermo Fernández (Mexico), Georg Pipps (Austria), Isabel de Castro (Portugal), Bernardo Batista (Brazil), Lúcia Carvalho (Brazil), Horst Kloss (Germany), Sergio Gutiérrez (Argentina), Paula Wilson (USA), Maurizio Moroni (Italy), Janete Limeira (Brazil), Michael Holz (Switzerland), Alejandra Camino (Spain), Jonas Bergulfsen (Norway), Jose Pavarotti (USA), Hari Kumar (UK), Jytte Petersen (Denmark), Dominique Perrier (France), Art Braunschweiger (USA), Pascale Cartrain (Belgium), Liz Nixon (USA), Liu Wong (USA), Karin Josephs (Germany), Miguel Angel Paolino (Mexico), Anabela Domingues (Brazil), Helvetius Nagy (USA), Palle Ibsen (Denmark), Mary Saveley (France), Paul Henriot (France), Rita Müller (Germany), Pirkko Koskitalo (Finland), Paula Parente (Brazil), Karl Jablonski (USA), Matti Karttunen (Finland), Zbyszek Piestrzeniewicz (Poland)\u001b[0m\n",
      "\u001b[1m> Finished chain.\u001b[0m\n"
     ]
    },
    {
     "data": {
      "text/plain": [
       "'**Original:**\\n\\nThe quick brown fox jumps over the lazy dog.\\n\\n**Paraphrased:**\\n\\nThe nimble fox swiftly leaps over the lethargic canine.'"
      ]
     },
     "execution_count": 43,
     "metadata": {},
     "output_type": "execute_result"
    }
   ],
   "source": [
    "qns5 = db_chain(\"Provide me names of customers according to their respective countries\")\n",
    "# print(qns5)"
   ]
  },
  {
   "cell_type": "code",
   "execution_count": 49,
   "metadata": {},
   "outputs": [
    {
     "name": "stdout",
     "output_type": "stream",
     "text": [
      "| Name | Country |\n",
      "|---|---|\n",
      "| Maria Anders | Germany |\n",
      "| Ana Trujillo | Mexico |\n",
      "| Antonio Moreno | Mexico |\n",
      "| Thomas Hardy | UK |\n",
      "| Christina Berglund | Sweden |\n",
      "| Hanna Moos | Germany |\n",
      "| Frédérique Citeaux | France |\n",
      "| Martín Sommer | Spain |\n",
      "| Laurence Lebihan | France |\n",
      "| Elizabeth Lincoln | Canada |\n",
      "| Victoria Ashworth | UK |\n",
      "| Patricio Simpson | Argentina |\n",
      "| Francisco Chang | Mexico |\n",
      "| Yang Wang | Switzerland |\n",
      "| Pedro Afonso | Brazil |\n",
      "| Elizabeth Brown | UK |\n",
      "| Sven Ottlieb | Germany |\n",
      "| Janine Labrune | France |\n",
      "| Ann Devon | UK |\n",
      "| Roland Mendel | Austria |\n",
      "| Aria Cruz | Brazil |\n",
      "| Diego Roel | Spain |\n",
      "| Martine Rancé | France |\n",
      "| Maria Larsson | Sweden |\n",
      "| Peter Franken | Germany |\n",
      "| Carine Schmitt | France |\n",
      "| Paolo Accorti | Italy |\n",
      "| Lino Rodriguez | Portugal |\n",
      "| Eduardo Saavedra | Spain |\n",
      "| José Pedro Freyre | Spain |\n",
      "| André Fonseca | Brazil |\n",
      "| Howard Snyder | USA |\n",
      "| Manuel Pereira | Venezuela |\n",
      "| Mario Pontes | Brazil |\n",
      "| Carlos Hernández | Venezuela |\n",
      "| Yoshi Latimer | USA |\n",
      "| Patricia McKenna | Ireland |\n",
      "| Helen Bennett | UK |\n",
      "| Philip Cramer | Germany |\n",
      "| Daniel Tonini | France |\n",
      "| Annette Roulet | France |\n",
      "| Yoshi Tannamuri | Canada |\n",
      "| John Steel | USA |\n",
      "| Renate Messner | Germany |\n",
      "| Jaime Yorres | USA |\n",
      "| Carlos González | Venezuela |\n",
      "| Felipe Izquierdo | Venezuela |\n",
      "| Fran Wilson | USA |\n",
      "| Giovanni Rovelli | Italy |\n",
      "| Catherine Dewey | Belgium |\n",
      "| Jean Fresnière | Canada |\n",
      "| Alexander Feuer | Germany |\n",
      "| Simon Crowther | UK |\n",
      "| Yvonne Moncada | Argentina |\n",
      "| Rene Phillips | USA |\n",
      "| Henriette Pfalzheim | Germany |\n",
      "| Marie Bertrand | France |\n",
      "| Guillermo Fernández | Mexico |\n",
      "| Georg Pipps | Austria |\n",
      "| Isabel de Castro | Portugal |\n",
      "| Bernardo Batista | Brazil |\n",
      "| Lúcia Carvalho | Brazil |\n",
      "| Horst Kloss | Germany |\n",
      "| Sergio Gutiérrez | Argentina |\n",
      "| Paula Wilson | USA |\n",
      "| Maurizio Moroni | Italy |\n",
      "| Janete Limeira | Brazil |\n",
      "| Michael Holz | Switzerland |\n",
      "| Alejandra Camino | Spain |\n",
      "| Jonas Bergulfsen | Norway |\n",
      "| Jose Pavarotti | USA |\n",
      "| Hari Kumar | UK |\n",
      "| Jytte Petersen | Denmark |\n",
      "| Dominique Perrier | France |\n",
      "| Art Braunschweiger | USA |\n",
      "| Pascale Cartrain | Belgium |\n",
      "| Liz Nixon | USA |\n",
      "| Liu Wong | USA |\n",
      "| Karin Josephs | Germany |\n",
      "| Miguel Angel Paolino | Mexico |\n",
      "| Anabela Domingues | Brazil |\n",
      "| Helvetius Nagy | USA |\n",
      "| Palle Ibsen | Denmark |\n",
      "| Mary Saveley | France |\n",
      "| Paul Henriot | France |\n",
      "| Rita Müller | Germany |\n",
      "| Pirkko Koskitalo | Finland |\n",
      "| Paula Parente | Brazil |\n",
      "| Karl Jablonski | USA |\n",
      "| Matti Karttunen | Finland |\n",
      "| Zbyszek Piestrzeniewicz | Poland |\n"
     ]
    }
   ],
   "source": [
    "answer = llm(\"play role of paraphraser, arrange and group this data {} into a understandable format\".format(qns5['result']))\n",
    "print(answer)"
   ]
  },
  {
   "cell_type": "code",
   "execution_count": 51,
   "metadata": {},
   "outputs": [
    {
     "data": {
      "text/plain": [
       "str"
      ]
     },
     "execution_count": 51,
     "metadata": {},
     "output_type": "execute_result"
    }
   ],
   "source": [
    "type(qns5['result'])"
   ]
  },
  {
   "cell_type": "code",
   "execution_count": 41,
   "metadata": {},
   "outputs": [
    {
     "name": "stdout",
     "output_type": "stream",
     "text": [
      "Maria Anders (Germany), Ana Trujillo (Mexico), Antonio Moreno (Mexico), Thomas Hardy (UK), Christina Berglund (Sweden), Hanna Moos (Germany), Frédérique Citeaux (France), Martín Sommer (Spain), Laurence Lebihan (France), Elizabeth Lincoln (Canada), Victoria Ashworth (UK), Patricio Simpson (Argentina), Francisco Chang (Mexico), Yang Wang (Switzerland), Pedro Afonso (Brazil), Elizabeth Brown (UK), Sven Ottlieb (Germany), Janine Labrune (France), Ann Devon (UK), Roland Mendel (Austria), Aria Cruz (Brazil), Diego Roel (Spain), Martine Rancé (France), Maria Larsson (Sweden), Peter Franken (Germany), Carine Schmitt (France), Paolo Accorti (Italy), Lino Rodriguez (Portugal), Eduardo Saavedra (Spain), José Pedro Freyre (Spain), André Fonseca (Brazil), Howard Snyder (USA), Manuel Pereira (Venezuela), Mario Pontes (Brazil), Carlos Hernández (Venezuela), Yoshi Latimer (USA), Patricia McKenna (Ireland), Helen Bennett (UK), Philip Cramer (Germany), Daniel Tonini (France), Annette Roulet (France), Yoshi Tannamuri (Canada), John Steel (USA), Renate Messner (Germany), Jaime Yorres (USA), Carlos González (Venezuela), Felipe Izquierdo (Venezuela), Fran Wilson (USA), Giovanni Rovelli (Italy), Catherine Dewey (Belgium), Jean Fresnière (Canada), Alexander Feuer (Germany), Simon Crowther (UK), Yvonne Moncada (Argentina), Rene Phillips (USA), Henriette Pfalzheim (Germany), Marie Bertrand (France), Guillermo Fernández (Mexico), Georg Pipps (Austria), Isabel de Castro (Portugal), Bernardo Batista (Brazil), Lúcia Carvalho (Brazil), Horst Kloss (Germany), Sergio Gutiérrez (Argentina), Paula Wilson (USA), Maurizio Moroni (Italy), Janete Limeira (Brazil), Michael Holz (Switzerland), Alejandra Camino (Spain), Jonas Bergulfsen (Norway), Jose Pavarotti (USA), Hari Kumar (UK), Jytte Petersen (Denmark), Dominique Perrier (France), Art Braunschweiger (USA), Pascale Cartrain (Belgium), Liz Nixon (USA), Liu Wong (USA), Karin Josephs (Germany), Miguel Angel Paolino (Mexico), Anabela Domingues (Brazil), Helvetius Nagy (USA), Palle Ibsen (Denmark), Mary Saveley (France), Paul Henriot (France), Rita Müller (Germany), Pirkko Koskitalo (Finland), Paula Parente (Brazil), Karl Jablonski (USA), Matti Karttunen (Finland), Zbyszek Piestrzeniewicz (Poland)\n"
     ]
    }
   ],
   "source": [
    "print(qns5['result'])"
   ]
  },
  {
   "cell_type": "code",
   "execution_count": 42,
   "metadata": {},
   "outputs": [
    {
     "name": "stdout",
     "output_type": "stream",
     "text": [
      "\n",
      "\n",
      "\u001b[1m> Entering new SQLDatabaseChain chain...\u001b[0m\n",
      "SELECT Country, FirstName + ' ' + LastName FROM Customer GROUP BY Country, FirstName, LastName;\n",
      "SQLQuery:\u001b[32;1m\u001b[1;3mSELECT Country, FirstName + ' ' + LastName FROM Customer GROUP BY Country, FirstName, LastName\u001b[0m\n",
      "SQLResult: \u001b[33;1m\u001b[1;3m[('Argentina', 'Patricio Simpson'), ('Argentina', 'Sergio Gutiérrez'), ('Argentina', 'Yvonne Moncada'), ('Austria', 'Georg Pipps'), ('Austria', 'Roland Mendel'), ('Belgium', 'Catherine Dewey'), ('Belgium', 'Pascale Cartrain'), ('Brazil', 'Anabela Domingues'), ('Brazil', 'André Fonseca'), ('Brazil', 'Aria Cruz'), ('Brazil', 'Bernardo Batista'), ('Brazil', 'Janete Limeira'), ('Brazil', 'Lúcia Carvalho'), ('Brazil', 'Mario Pontes'), ('Brazil', 'Paula Parente'), ('Brazil', 'Pedro Afonso'), ('Canada', 'Elizabeth Lincoln'), ('Canada', 'Jean Fresnière'), ('Canada', 'Yoshi Tannamuri'), ('Denmark', 'Jytte Petersen'), ('Denmark', 'Palle Ibsen'), ('Finland', 'Matti Karttunen'), ('Finland', 'Pirkko Koskitalo'), ('France', 'Annette Roulet'), ('France', 'Carine Schmitt'), ('France', 'Daniel Tonini'), ('France', 'Dominique Perrier'), ('France', 'Frédérique Citeaux'), ('France', 'Janine Labrune'), ('France', 'Laurence Lebihan'), ('France', 'Marie Bertrand'), ('France', 'Martine Rancé'), ('France', 'Mary Saveley'), ('France', 'Paul Henriot'), ('Germany', 'Alexander Feuer'), ('Germany', 'Hanna Moos'), ('Germany', 'Henriette Pfalzheim'), ('Germany', 'Horst Kloss'), ('Germany', 'Karin Josephs'), ('Germany', 'Maria Anders'), ('Germany', 'Peter Franken'), ('Germany', 'Philip Cramer'), ('Germany', 'Renate Messner'), ('Germany', 'Rita Müller'), ('Germany', 'Sven Ottlieb'), ('Ireland', 'Patricia McKenna'), ('Italy', 'Giovanni Rovelli'), ('Italy', 'Maurizio Moroni'), ('Italy', 'Paolo Accorti'), ('Mexico', 'Ana Trujillo'), ('Mexico', 'Antonio Moreno'), ('Mexico', 'Francisco Chang'), ('Mexico', 'Guillermo Fernández'), ('Mexico', 'Miguel Angel Paolino'), ('Norway', 'Jonas Bergulfsen'), ('Poland', 'Zbyszek Piestrzeniewicz'), ('Portugal', 'Isabel de Castro'), ('Portugal', 'Lino Rodriguez'), ('Spain', 'Alejandra Camino'), ('Spain', 'Diego Roel'), ('Spain', 'Eduardo Saavedra'), ('Spain', 'José Pedro Freyre'), ('Spain', 'Martín Sommer'), ('Sweden', 'Christina Berglund'), ('Sweden', 'Maria Larsson'), ('Switzerland', 'Michael Holz'), ('Switzerland', 'Yang Wang'), ('UK', 'Ann Devon'), ('UK', 'Elizabeth Brown'), ('UK', 'Hari Kumar'), ('UK', 'Helen Bennett'), ('UK', 'Simon Crowther'), ('UK', 'Thomas Hardy'), ('UK', 'Victoria Ashworth'), ('USA', 'Art Braunschweiger'), ('USA', 'Fran Wilson'), ('USA', 'Helvetius Nagy'), ('USA', 'Howard Snyder'), ('USA', 'Jaime Yorres'), ('USA', 'John Steel'), ('USA', 'Jose Pavarotti'), ('USA', 'Karl Jablonski'), ('USA', 'Liu Wong'), ('USA', 'Liz Nixon'), ('USA', 'Paula Wilson'), ('USA', 'Rene Phillips'), ('USA', 'Yoshi Latimer'), ('Venezuela', 'Carlos González'), ('Venezuela', 'Carlos Hernández'), ('Venezuela', 'Felipe Izquierdo'), ('Venezuela', 'Manuel Pereira')]\u001b[0m\n",
      "Answer:\u001b[32;1m\u001b[1;3mArgentina: Patricio Simpson, Sergio Gutiérrez, Yvonne Moncada\n",
      "Austria: Georg Pipps, Roland Mendel\n",
      "Belgium: Catherine Dewey, Pascale Cartrain\n",
      "Brazil: Anabela Domingues, André Fonseca, Aria Cruz, Bernardo Batista, Janete Limeira, Lúcia Carvalho, Mario Pontes, Paula Parente, Pedro Afonso\n",
      "Canada: Elizabeth Lincoln, Jean Fresnière, Yoshi Tannamuri\n",
      "Denmark: Jytte Petersen, Palle Ibsen\n",
      "Finland: Matti Karttunen, Pirkko Koskitalo\n",
      "France: Annette Roulet, Carine Schmitt, Daniel Tonini, Dominique Perrier, Frédérique Citeaux, Janine Labrune, Laurence Lebihan, Marie Bertrand, Martine Rancé, Mary Saveley, Paul Henriot\n",
      "Germany: Alexander Feuer, Hanna Moos, Henriette Pfalzheim, Horst Kloss, Karin Josephs, Maria Anders, Peter Franken, Philip Cramer, Renate Messner, Rita Müller, Sven Ottlieb\n",
      "Ireland: Patricia McKenna\n",
      "Italy: Giovanni Rovelli, Maurizio Moroni, Paolo Accorti\n",
      "Mexico: Ana Trujillo, Antonio Moreno, Francisco Chang, Guillermo Fernández, Miguel Angel Paolino\n",
      "Norway: Jonas Bergulfsen\n",
      "Poland: Zbyszek Piestrzeniewicz\n",
      "Portugal: Isabel de Castro, Lino Rodriguez\n",
      "Spain: Alejandra Camino, Diego Roel, Eduardo Saavedra, José Pedro Freyre, Martín Sommer\n",
      "Sweden: Christina Berglund, Maria Larsson\n",
      "Switzerland: Michael Holz, Yang Wang\n",
      "UK: Ann Devon, Elizabeth Brown, Hari Kumar, Helen Bennett, Simon Crowther, Thomas Hardy, Victoria Ashworth\n",
      "USA: Art Braunschweiger, Fran Wilson, Helvetius Nagy, Howard Snyder, Jaime Yorres, John Steel, Jose Pavarotti, Karl Jablonski, Liu Wong, Liz Nixon, Paula Wilson, Rene Phillips, Yoshi Latimer\n",
      "Venezuela: Carlos González, Carlos Hernández, Felipe Izquierdo, Manuel Pereira\u001b[0m\n",
      "\u001b[1m> Finished chain.\u001b[0m\n"
     ]
    }
   ],
   "source": [
    "qns6 = db_chain.run(\"SELECT Country, FirstName + ' ' + LastName FROM Customer GROUP BY Country, FirstName, LastName;\")"
   ]
  },
  {
   "cell_type": "code",
   "execution_count": 69,
   "metadata": {},
   "outputs": [
    {
     "data": {
      "text/plain": [
       "'Argentina: Patricio Simpson, Sergio Gutiérrez, Yvonne Moncada\\nAustria: Georg Pipps, Roland Mendel\\nBelgium: Catherine Dewey, Pascale Cartrain\\nBrazil: Anabela Domingues, André Fonseca, Aria Cruz, Bernardo Batista, Janete Limeira, Lúcia Carvalho, Mario Pontes, Paula Parente, Pedro Afonso\\nCanada: Elizabeth Lincoln, Jean Fresnière, Yoshi Tannamuri\\nDenmark: Jytte Petersen, Palle Ibsen\\nFinland: Matti Karttunen, Pirkko Koskitalo\\nFrance: Annette Roulet, Carine Schmitt, Daniel Tonini, Dominique Perrier, Frédérique Citeaux, Janine Labrune, Laurence Lebihan, Marie Bertrand, Martine Rancé, Mary Saveley, Paul Henriot\\nGermany: Alexander Feuer, Hanna Moos, Henriette Pfalzheim, Horst Kloss, Karin Josephs, Maria Anders, Peter Franken, Philip Cramer, Renate Messner, Rita Müller, Sven Ottlieb\\nIreland: Patricia McKenna\\nItaly: Giovanni Rovelli, Maurizio Moroni, Paolo Accorti\\nMexico: Ana Trujillo, Antonio Moreno, Francisco Chang, Guillermo Fernández, Miguel Angel Paolino\\nNorway: Jonas Bergulfsen\\nPoland: Zbyszek Piestrzeniewicz\\nPortugal: Isabel de Castro, Lino Rodriguez\\nSpain: Alejandra Camino, Diego Roel, Eduardo Saavedra, José Pedro Freyre, Martín Sommer\\nSweden: Christina Berglund, Maria Larsson\\nSwitzerland: Michael Holz, Yang Wang\\nUK: Ann Devon, Elizabeth Brown, Hari Kumar, Helen Bennett, Simon Crowther, Thomas Hardy, Victoria Ashworth\\nUSA: Art Braunschweiger, Fran Wilson, Helvetius Nagy, Howard Snyder, Jaime Yorres, John Steel, Jose Pavarotti, Karl Jablonski, Liu Wong, Liz Nixon, Paula Wilson, Rene Phillips, Yoshi Latimer\\nVenezuela: Carlos González, Carlos Hernández, Felipe Izquierdo, Manuel Pereira'"
      ]
     },
     "execution_count": 69,
     "metadata": {},
     "output_type": "execute_result"
    }
   ],
   "source": [
    "qns6"
   ]
  },
  {
   "cell_type": "code",
   "execution_count": 29,
   "metadata": {},
   "outputs": [
    {
     "name": "stdout",
     "output_type": "stream",
     "text": [
      "\n",
      "\n",
      "\u001b[1m> Entering new SQLDatabaseChain chain...\u001b[0m\n",
      "Give me the date on we got maximum amount?\n",
      "SQLQuery:"
     ]
    },
    {
     "name": "stderr",
     "output_type": "stream",
     "text": [
      "Retrying langchain_community.llms.google_palm.completion_with_retry.<locals>._completion_with_retry in 4.0 seconds as it raised InternalServerError: 500 An internal error has occurred. Please retry or report in https://developers.generativeai.google/guide/troubleshooting.\n"
     ]
    },
    {
     "name": "stdout",
     "output_type": "stream",
     "text": [
      "\u001b[32;1m\u001b[1;3mSELECT OrderDate FROM Orders ORDER BY TotalAmount DESC OFFSET 0 ROWS FETCH NEXT 1 ROWS ONLY\u001b[0m\n",
      "SQLResult: \u001b[33;1m\u001b[1;3m[(datetime.datetime(2014, 2, 2, 0, 0),)]\u001b[0m\n",
      "Answer:\u001b[32;1m\u001b[1;3m2014-02-02\u001b[0m\n",
      "\u001b[1m> Finished chain.\u001b[0m\n"
     ]
    }
   ],
   "source": [
    "qns7 = db_chain(\"Give me the date on we got maximum amount?\")"
   ]
  },
  {
   "cell_type": "code",
   "execution_count": 30,
   "metadata": {},
   "outputs": [
    {
     "name": "stdout",
     "output_type": "stream",
     "text": [
      "\n",
      "\n",
      "\u001b[1m> Entering new SQLDatabaseChain chain...\u001b[0m\n",
      "Give me the date on we got minimum amount?\n",
      "SQLQuery:"
     ]
    },
    {
     "name": "stderr",
     "output_type": "stream",
     "text": [
      "Retrying langchain_community.llms.google_palm.completion_with_retry.<locals>._completion_with_retry in 4.0 seconds as it raised InternalServerError: 500 An internal error has occurred. Please retry or report in https://developers.generativeai.google/guide/troubleshooting.\n"
     ]
    },
    {
     "name": "stdout",
     "output_type": "stream",
     "text": [
      "\u001b[32;1m\u001b[1;3mSELECT MIN(OrderDate) FROM Orders\u001b[0m\n",
      "SQLResult: \u001b[33;1m\u001b[1;3m[(datetime.datetime(2012, 7, 4, 0, 0),)]\u001b[0m\n",
      "Answer:"
     ]
    },
    {
     "name": "stderr",
     "output_type": "stream",
     "text": [
      "Retrying langchain_community.llms.google_palm.completion_with_retry.<locals>._completion_with_retry in 4.0 seconds as it raised InternalServerError: 500 An internal error has occurred. Please retry or report in https://developers.generativeai.google/guide/troubleshooting.\n",
      "Retrying langchain_community.llms.google_palm.completion_with_retry.<locals>._completion_with_retry in 4.0 seconds as it raised InternalServerError: 500 An internal error has occurred. Please retry or report in https://developers.generativeai.google/guide/troubleshooting.\n"
     ]
    },
    {
     "name": "stdout",
     "output_type": "stream",
     "text": [
      "\u001b[32;1m\u001b[1;3m2012-07-04\u001b[0m\n",
      "\u001b[1m> Finished chain.\u001b[0m\n"
     ]
    }
   ],
   "source": [
    "qns8 = db_chain(\"Give me the date on we got minimum amount?\")"
   ]
  },
  {
   "cell_type": "markdown",
   "metadata": {},
   "source": [
    "## Few Shot"
   ]
  },
  {
   "cell_type": "code",
   "execution_count": 125,
   "metadata": {},
   "outputs": [],
   "source": [
    "few_shots = [\n",
    "    {\n",
    "        'Question' : \"what is the name of Supplier providing more products\",\n",
    "        'SQLQuery' : \"SELECT CompanyName FROM Supplier s JOIN Product p ON s.Id = p.SupplierId GROUP BY CompanyName ORDER BY COUNT(*) DESC\",\n",
    "        'SQLResult' : \"\"\"[('Pavlova, Ltd.',), ('Plutzer Lebensmittelgroßmärkte AG',), ('Specialty Biscuits, Ltd.',), ('New Orleans Cajun Delights',), ('Norske Meierier',), ('Formaggi Fortini s.r.l.',), (\"Mayumi's\",), ('Bigfoot Breweries',), ('Exotic Liquids',), (\"G'day, Mate\",), (\"Grandma Kelly's Homestead\",), ('Heli Süßwaren GmbH & Co. KG',), ('Karkki Oy',), ('Leka Trading',), ('Svensk Sjöföda AB',), ('Tokyo Traders',), ('Zaanse Snoepfabriek',), ('PB Knäckebröd AB',), ('Aux joyeux ecclésiastiques',), ('Lyngbysild',), ('Ma Maison',), (\"Forêts d'érables\",), (\"Cooperativa de Quesos 'Las Cabras'\",), ('New England Seafood Cannery',), ('Gai pâturage',), ('Pasta Buttini s.r.l.',), ('Nord-Ost-Fisch Handelsgesellschaft mbH',), ('Escargots Nouveaux',), ('Refrescos Americanas LTDA',)]\"\"\",\n",
    "        'Answer' : \"Pavlova, Ltd\"\n",
    "    },\n",
    "    {\n",
    "        'Question' : \"Give me the date on we got minimum amount\",\n",
    "        'SQLQuery' : \"SELECT MIN(OrderDate) FROM Orders\",\n",
    "        'SQLResult' : \"[(datetime.datetime(2012, 7, 4, 0, 0),)]\",\n",
    "        'Answer' : \"2012-07-04\"\n",
    "    },\n",
    "    {\n",
    "        'Question' : \"Provide me names of customers according to their respective countries\",\n",
    "        'SQLQuery' : \"SELECT Country, FirstName + ' ' + LastName FROM Customer GROUP BY Country, FirstName, LastName;\",\n",
    "        'SQLResult' : \"[('Argentina', 'Patricio Simpson'), ('Argentina', 'Sergio Gutiérrez'), ('Argentina', 'Yvonne Moncada'), ('Austria', 'Georg Pipps'), ('Austria', 'Roland Mendel'), ('Belgium', 'Catherine Dewey'), ('Belgium', 'Pascale Cartrain'), ('Brazil', 'Anabela Domingues'), ('Brazil', 'André Fonseca'), ('Brazil', 'Aria Cruz'), ('Brazil', 'Bernardo Batista'), ('Brazil', 'Janete Limeira'), ('Brazil', 'Lúcia Carvalho'), ('Brazil', 'Mario Pontes'), ('Brazil', 'Paula Parente'), ('Brazil', 'Pedro Afonso'), ('Canada', 'Elizabeth Lincoln'), ('Canada', 'Jean Fresnière'), ('Canada', 'Yoshi Tannamuri'), ('Denmark', 'Jytte Petersen'), ('Denmark', 'Palle Ibsen'), ('Finland', 'Matti Karttunen'), ('Finland', 'Pirkko Koskitalo'), ('France', 'Annette Roulet'), ('France', 'Carine Schmitt'), ('France', 'Daniel Tonini'), ('France', 'Dominique Perrier'), ('France', 'Frédérique Citeaux'), ('France', 'Janine Labrune'), ('France', 'Laurence Lebihan'), ('France', 'Marie Bertrand'), ('France', 'Martine Rancé'), ('France', 'Mary Saveley'), ('France', 'Paul Henriot'), ('Germany', 'Alexander Feuer'), ('Germany', 'Hanna Moos'), ('Germany', 'Henriette Pfalzheim'), ('Germany', 'Horst Kloss'), ('Germany', 'Karin Josephs'), ('Germany', 'Maria Anders'), ('Germany', 'Peter Franken'), ('Germany', 'Philip Cramer'), ('Germany', 'Renate Messner'), ('Germany', 'Rita Müller'), ('Germany', 'Sven Ottlieb'), ('Ireland', 'Patricia McKenna'), ('Italy', 'Giovanni Rovelli'), ('Italy', 'Maurizio Moroni'), ('Italy', 'Paolo Accorti'), ('Mexico', 'Ana Trujillo'), ('Mexico', 'Antonio Moreno'), ('Mexico', 'Francisco Chang'), ('Mexico', 'Guillermo Fernández'), ('Mexico', 'Miguel Angel Paolino'), ('Norway', 'Jonas Bergulfsen'), ('Poland', 'Zbyszek Piestrzeniewicz'), ('Portugal', 'Isabel de Castro'), ('Portugal', 'Lino Rodriguez'), ('Spain', 'Alejandra Camino'), ('Spain', 'Diego Roel'), ('Spain', 'Eduardo Saavedra'), ('Spain', 'José Pedro Freyre'), ('Spain', 'Martín Sommer'), ('Sweden', 'Christina Berglund'), ('Sweden', 'Maria Larsson'), ('Switzerland', 'Michael Holz'), ('Switzerland', 'Yang Wang'), ('UK', 'Ann Devon'), ('UK', 'Elizabeth Brown'), ('UK', 'Hari Kumar'), ('UK', 'Helen Bennett'), ('UK', 'Simon Crowther'), ('UK', 'Thomas Hardy'), ('UK', 'Victoria Ashworth'), ('USA', 'Art Braunschweiger'), ('USA', 'Fran Wilson'), ('USA', 'Helvetius Nagy'), ('USA', 'Howard Snyder'), ('USA', 'Jaime Yorres'), ('USA', 'John Steel'), ('USA', 'Jose Pavarotti'), ('USA', 'Karl Jablonski'), ('USA', 'Liu Wong'), ('USA', 'Liz Nixon'), ('USA', 'Paula Wilson'), ('USA', 'Rene Phillips'), ('USA', 'Yoshi Latimer'), ('Venezuela', 'Carlos González'), ('Venezuela', 'Carlos Hernández'), ('Venezuela', 'Felipe Izquierdo'), ('Venezuela', 'Manuel Pereira')]\",\n",
    "        'Answer' : \"\"\"Argentina: Patricio Simpson, Sergio Gutiérrez, Yvonne Moncada\n",
    "                      Austria: Georg Pipps, Roland Mendel\n",
    "                      Belgium: Catherine Dewey, Pascale Cartrain\n",
    "                      Brazil: Anabela Domingues, André Fonseca, Aria Cruz, Bernardo Batista, Janete Limeira, Lúcia Carvalho, Mario Pontes, Paula Parente, Pedro Afonso\n",
    "                      Canada: Elizabeth Lincoln, Jean Fresnière, Yoshi Tannamuri\n",
    "                      Denmark: Jytte Petersen, Palle Ibsen\n",
    "                      Finland: Matti Karttunen, Pirkko Koskitalo\n",
    "                      France: Annette Roulet, Carine Schmitt, Daniel Tonini, Dominique Perrier, Frédérique Citeaux, Janine Labrune, Laurence Lebihan, Marie Bertrand, Martine Rancé, Mary Saveley, Paul Henriot\n",
    "                      Germany: Alexander Feuer, Hanna Moos, Henriette Pfalzheim, Horst Kloss, Karin Josephs, Maria Anders, Peter Franken, Philip Cramer, Renate Messner, Rita Müller, Sven Ottlieb\n",
    "                      Ireland: Patricia McKenna\n",
    "                      Italy: Giovanni Rovelli, Maurizio Moroni, Paolo Accorti\n",
    "                      Mexico: Ana Trujillo, Antonio Moreno, Francisco Chang, Guillermo Fernández, Miguel Angel Paolino\n",
    "                      Norway: Jonas Bergulfsen\n",
    "                      Poland: Zbyszek Piestrzeniewicz\n",
    "                      Portugal: Isabel de Castro, Lino Rodriguez\n",
    "                      Spain: Alejandra Camino, Diego Roel, Eduardo Saavedra, José Pedro Freyre, Martín Sommer\n",
    "                      Sweden: Christina Berglund, Maria Larsson\n",
    "                      Switzerland: Michael Holz, Yang Wang\n",
    "                      UK: Ann Devon, Elizabeth Brown, Hari Kumar, Helen Bennett, Simon Crowther, Thomas Hardy, Victoria Ashworth\n",
    "                      USA: Art Braunschweiger, Fran Wilson, Helvetius Nagy, Howard Snyder, Jaime Yorres, John Steel, Jose Pavarotti, Karl Jablonski, Liu Wong, Liz Nixon, Paula Wilson, Rene Phillips, Yoshi Latimer\n",
    "                      Venezuela: Carlos González, Carlos Hernández, Felipe Izquierdo, Manuel Pereira\"\"\"\n",
    "    },\n",
    "    {\n",
    "        'Question' : \"Name of the suppliers according to the Country wise\",\n",
    "        'SQLQuery' : \"SELECT Country,CompanyName FROM Supplier GROUP BY Country,CompanyName ORDER BY Country;\",\n",
    "        'SQLResult' : \"\"\" [('Australia', \"G'day, Mate\"), ('Australia', 'Pavlova, Ltd.'), ('Brazil', 'Refrescos Americanas LTDA'), ('Canada', \"Forêts d'érables\"), ('Canada', 'Ma Maison'), ('Denmark', 'Lyngbysild'), ('Finland', 'Karkki Oy'), ('France', 'Aux joyeux ecclésiastiques'), ('France', 'Escargots Nouveaux'), ('France', 'Gai pâturage'), ('Germany', 'Heli Süßwaren GmbH & Co. KG'), ('Germany', 'Nord-Ost-Fisch Handelsgesellschaft mbH'), ('Germany', 'Plutzer Lebensmittelgroßmärkte AG'), ('Italy', 'Formaggi Fortini s.r.l.'), ('Italy', 'Pasta Buttini s.r.l.'), ('Japan', \"Mayumi's\"), ('Japan', 'Tokyo Traders'), ('Netherlands', 'Zaanse Snoepfabriek'), ('Norway', 'Norske Meierier'), ('Singapore', 'Leka Trading'), ('Spain', \"Cooperativa de Quesos 'Las Cabras'\"), ('Sweden', 'PB Knäckebröd AB'), ('Sweden', 'Svensk Sjöföda AB'), ('UK', 'Exotic Liquids'), ('UK', 'Specialty Biscuits, Ltd.'), ('USA', 'Bigfoot Breweries'), ('USA', \"Grandma Kelly's Homestead\"), ('USA', 'New England Seafood Cannery'), ('USA', 'New Orleans Cajun Delights')]\"\"\",\n",
    "        'Answer' :  \"\"\"Australia, G'day, Mate | Australia, Pavlova, Ltd. | Brazil, Refrescos Americanas LTDA | Canada, \"Forêts d'érables\" | Canada, Ma Maison | Denmark, Lyngbysild | Finland, Karkki Oy | France, Aux joyeux ecclésiastiques | France, Escargots Nouveaux | France, Gai pâturage | Germany, Heli Süßwaren GmbH & Co. KG | Germany, Nord-Ost-Fisch Handelsgesellschaft mbH | Germany, Plutzer Lebensmittelgroßmärkte AG | Italy, Formaggi Fortini s.r.l. | Italy, Pasta Buttini s.r.l. | Japan, \"Mayumi's\" | Japan, Tokyo Traders | Netherlands, Zaanse Snoepfabriek | Norway, Norske Meierier | Singapore, Leka Trading | Spain, \"Cooperativa de Quesos 'Las Cabras'\" | Sweden, PB Knäckebröd AB | Sweden, Svensk Sjöföda AB | UK, Exotic Liquids | UK, Specialty Biscuits, Ltd. | USA, Bigfoot Breweries | USA, \"Grandma Kelly's Homestead\" | USA, New England Seafood Cannery | USA, New Orleans Cajun Delights\"\"\"\n",
    "    },\n",
    "    {\n",
    "        'Question' : \"what is the name of customer ordered maximum quantity according to the data in the database\",\n",
    "        'SQLQuery' : \"SELECT TOP 1 c.FirstName + ' ' + c.LastName AS CustomerName  FROM Customer AS c INNER JOIN Orders AS o ON c.Id = o.CustomerId INNER JOIN OrderItem AS i ON o.Id = i.OrderId GROUP BY c.Id, c.FirstName, c.LastName ORDER BY SUM(i.Quantity) DESC\",\n",
    "        'SQLResult' : \"[('Jose Pavarotti',)]\",\n",
    "        'Answer' : \"Jose Pavarotti\"\n",
    "    },\n",
    "    {\n",
    "        'Question' : \"Total number of suppliers\",\n",
    "        'SQLQuery' : \"SELECT COUNT(*) FROM Supplier\",\n",
    "        'SQLResult' : \"[(29,)]\",\n",
    "        'Answer' : \"29\"\n",
    "    },\n",
    "    {\n",
    "        'Question' : \"How many products discontinued till now?\",\n",
    "        'SQLQuery' : \"SELECT COUNT(*) FROM Product WHERE IsDiscontinued = 1\",\n",
    "        'SQLResult' : \"[(8,)]\",\n",
    "        'Answer' : \"8\"\n",
    "    }\n",
    "\n",
    "]"
   ]
  },
  {
   "cell_type": "code",
   "execution_count": 57,
   "metadata": {},
   "outputs": [
    {
     "name": "stdout",
     "output_type": "stream",
     "text": [
      "\n",
      "\n",
      "\u001b[1m> Entering new SQLDatabaseChain chain...\u001b[0m\n",
      "Total number of suppliers\n",
      "SQLQuery:\u001b[32;1m\u001b[1;3mSELECT COUNT(*) FROM Supplier\u001b[0m\n",
      "SQLResult: \u001b[33;1m\u001b[1;3m[(29,)]\u001b[0m\n",
      "Answer:\u001b[32;1m\u001b[1;3m29\u001b[0m\n",
      "\u001b[1m> Finished chain.\u001b[0m\n"
     ]
    }
   ],
   "source": [
    "qns9 = db_chain(\"Total number of suppliers\")"
   ]
  },
  {
   "cell_type": "code",
   "execution_count": 60,
   "metadata": {},
   "outputs": [
    {
     "name": "stdout",
     "output_type": "stream",
     "text": [
      "\n",
      "\n",
      "\u001b[1m> Entering new SQLDatabaseChain chain...\u001b[0m\n",
      "Name of the suppliers according to the Country wise\n",
      "SQLQuery:\u001b[32;1m\u001b[1;3mSELECT CompanyName, Country FROM Supplier GROUP BY Country\u001b[0m"
     ]
    },
    {
     "ename": "ProgrammingError",
     "evalue": "(pyodbc.ProgrammingError) ('42000', \"[42000] [Microsoft][ODBC Driver 17 for SQL Server][SQL Server]Column 'Supplier.CompanyName' is invalid in the select list because it is not contained in either an aggregate function or the GROUP BY clause. (8120) (SQLExecDirectW)\")\n[SQL: SELECT CompanyName, Country FROM Supplier GROUP BY Country]\n(Background on this error at: https://sqlalche.me/e/20/f405)",
     "output_type": "error",
     "traceback": [
      "\u001b[1;31m---------------------------------------------------------------------------\u001b[0m",
      "\u001b[1;31mProgrammingError\u001b[0m                          Traceback (most recent call last)",
      "File \u001b[1;32mc:\\Users\\akish.pothuri\\python\\LangChain\\SQl_Script_chatbot\\chatbot\\lib\\site-packages\\sqlalchemy\\engine\\base.py:1960\u001b[0m, in \u001b[0;36mConnection._exec_single_context\u001b[1;34m(self, dialect, context, statement, parameters)\u001b[0m\n\u001b[0;32m   1959\u001b[0m     \u001b[38;5;28;01mif\u001b[39;00m \u001b[38;5;129;01mnot\u001b[39;00m evt_handled:\n\u001b[1;32m-> 1960\u001b[0m         \u001b[38;5;28;43mself\u001b[39;49m\u001b[38;5;241;43m.\u001b[39;49m\u001b[43mdialect\u001b[49m\u001b[38;5;241;43m.\u001b[39;49m\u001b[43mdo_execute\u001b[49m\u001b[43m(\u001b[49m\n\u001b[0;32m   1961\u001b[0m \u001b[43m            \u001b[49m\u001b[43mcursor\u001b[49m\u001b[43m,\u001b[49m\u001b[43m \u001b[49m\u001b[43mstr_statement\u001b[49m\u001b[43m,\u001b[49m\u001b[43m \u001b[49m\u001b[43meffective_parameters\u001b[49m\u001b[43m,\u001b[49m\u001b[43m \u001b[49m\u001b[43mcontext\u001b[49m\n\u001b[0;32m   1962\u001b[0m \u001b[43m        \u001b[49m\u001b[43m)\u001b[49m\n\u001b[0;32m   1964\u001b[0m \u001b[38;5;28;01mif\u001b[39;00m \u001b[38;5;28mself\u001b[39m\u001b[38;5;241m.\u001b[39m_has_events \u001b[38;5;129;01mor\u001b[39;00m \u001b[38;5;28mself\u001b[39m\u001b[38;5;241m.\u001b[39mengine\u001b[38;5;241m.\u001b[39m_has_events:\n",
      "File \u001b[1;32mc:\\Users\\akish.pothuri\\python\\LangChain\\SQl_Script_chatbot\\chatbot\\lib\\site-packages\\sqlalchemy\\engine\\default.py:924\u001b[0m, in \u001b[0;36mDefaultDialect.do_execute\u001b[1;34m(self, cursor, statement, parameters, context)\u001b[0m\n\u001b[0;32m    923\u001b[0m \u001b[38;5;28;01mdef\u001b[39;00m \u001b[38;5;21mdo_execute\u001b[39m(\u001b[38;5;28mself\u001b[39m, cursor, statement, parameters, context\u001b[38;5;241m=\u001b[39m\u001b[38;5;28;01mNone\u001b[39;00m):\n\u001b[1;32m--> 924\u001b[0m     \u001b[43mcursor\u001b[49m\u001b[38;5;241;43m.\u001b[39;49m\u001b[43mexecute\u001b[49m\u001b[43m(\u001b[49m\u001b[43mstatement\u001b[49m\u001b[43m,\u001b[49m\u001b[43m \u001b[49m\u001b[43mparameters\u001b[49m\u001b[43m)\u001b[49m\n",
      "\u001b[1;31mProgrammingError\u001b[0m: ('42000', \"[42000] [Microsoft][ODBC Driver 17 for SQL Server][SQL Server]Column 'Supplier.CompanyName' is invalid in the select list because it is not contained in either an aggregate function or the GROUP BY clause. (8120) (SQLExecDirectW)\")",
      "\nThe above exception was the direct cause of the following exception:\n",
      "\u001b[1;31mProgrammingError\u001b[0m                          Traceback (most recent call last)",
      "Cell \u001b[1;32mIn[60], line 1\u001b[0m\n\u001b[1;32m----> 1\u001b[0m qns10 \u001b[38;5;241m=\u001b[39m \u001b[43mdb_chain\u001b[49m\u001b[43m(\u001b[49m\u001b[38;5;124;43m\"\u001b[39;49m\u001b[38;5;124;43mName of the suppliers according to the Country wise\u001b[39;49m\u001b[38;5;124;43m\"\u001b[39;49m\u001b[43m)\u001b[49m\n",
      "File \u001b[1;32mc:\\Users\\akish.pothuri\\python\\LangChain\\SQl_Script_chatbot\\chatbot\\lib\\site-packages\\langchain_core\\_api\\deprecation.py:145\u001b[0m, in \u001b[0;36mdeprecated.<locals>.deprecate.<locals>.warning_emitting_wrapper\u001b[1;34m(*args, **kwargs)\u001b[0m\n\u001b[0;32m    143\u001b[0m     warned \u001b[38;5;241m=\u001b[39m \u001b[38;5;28;01mTrue\u001b[39;00m\n\u001b[0;32m    144\u001b[0m     emit_warning()\n\u001b[1;32m--> 145\u001b[0m \u001b[38;5;28;01mreturn\u001b[39;00m \u001b[43mwrapped\u001b[49m\u001b[43m(\u001b[49m\u001b[38;5;241;43m*\u001b[39;49m\u001b[43margs\u001b[49m\u001b[43m,\u001b[49m\u001b[43m \u001b[49m\u001b[38;5;241;43m*\u001b[39;49m\u001b[38;5;241;43m*\u001b[39;49m\u001b[43mkwargs\u001b[49m\u001b[43m)\u001b[49m\n",
      "File \u001b[1;32mc:\\Users\\akish.pothuri\\python\\LangChain\\SQl_Script_chatbot\\chatbot\\lib\\site-packages\\langchain\\chains\\base.py:363\u001b[0m, in \u001b[0;36mChain.__call__\u001b[1;34m(self, inputs, return_only_outputs, callbacks, tags, metadata, run_name, include_run_info)\u001b[0m\n\u001b[0;32m    331\u001b[0m \u001b[38;5;250m\u001b[39m\u001b[38;5;124;03m\"\"\"Execute the chain.\u001b[39;00m\n\u001b[0;32m    332\u001b[0m \n\u001b[0;32m    333\u001b[0m \u001b[38;5;124;03mArgs:\u001b[39;00m\n\u001b[1;32m   (...)\u001b[0m\n\u001b[0;32m    354\u001b[0m \u001b[38;5;124;03m        `Chain.output_keys`.\u001b[39;00m\n\u001b[0;32m    355\u001b[0m \u001b[38;5;124;03m\"\"\"\u001b[39;00m\n\u001b[0;32m    356\u001b[0m config \u001b[38;5;241m=\u001b[39m {\n\u001b[0;32m    357\u001b[0m     \u001b[38;5;124m\"\u001b[39m\u001b[38;5;124mcallbacks\u001b[39m\u001b[38;5;124m\"\u001b[39m: callbacks,\n\u001b[0;32m    358\u001b[0m     \u001b[38;5;124m\"\u001b[39m\u001b[38;5;124mtags\u001b[39m\u001b[38;5;124m\"\u001b[39m: tags,\n\u001b[0;32m    359\u001b[0m     \u001b[38;5;124m\"\u001b[39m\u001b[38;5;124mmetadata\u001b[39m\u001b[38;5;124m\"\u001b[39m: metadata,\n\u001b[0;32m    360\u001b[0m     \u001b[38;5;124m\"\u001b[39m\u001b[38;5;124mrun_name\u001b[39m\u001b[38;5;124m\"\u001b[39m: run_name,\n\u001b[0;32m    361\u001b[0m }\n\u001b[1;32m--> 363\u001b[0m \u001b[38;5;28;01mreturn\u001b[39;00m \u001b[38;5;28;43mself\u001b[39;49m\u001b[38;5;241;43m.\u001b[39;49m\u001b[43minvoke\u001b[49m\u001b[43m(\u001b[49m\n\u001b[0;32m    364\u001b[0m \u001b[43m    \u001b[49m\u001b[43minputs\u001b[49m\u001b[43m,\u001b[49m\n\u001b[0;32m    365\u001b[0m \u001b[43m    \u001b[49m\u001b[43mcast\u001b[49m\u001b[43m(\u001b[49m\u001b[43mRunnableConfig\u001b[49m\u001b[43m,\u001b[49m\u001b[43m \u001b[49m\u001b[43m{\u001b[49m\u001b[43mk\u001b[49m\u001b[43m:\u001b[49m\u001b[43m \u001b[49m\u001b[43mv\u001b[49m\u001b[43m \u001b[49m\u001b[38;5;28;43;01mfor\u001b[39;49;00m\u001b[43m \u001b[49m\u001b[43mk\u001b[49m\u001b[43m,\u001b[49m\u001b[43m \u001b[49m\u001b[43mv\u001b[49m\u001b[43m \u001b[49m\u001b[38;5;129;43;01min\u001b[39;49;00m\u001b[43m \u001b[49m\u001b[43mconfig\u001b[49m\u001b[38;5;241;43m.\u001b[39;49m\u001b[43mitems\u001b[49m\u001b[43m(\u001b[49m\u001b[43m)\u001b[49m\u001b[43m \u001b[49m\u001b[38;5;28;43;01mif\u001b[39;49;00m\u001b[43m \u001b[49m\u001b[43mv\u001b[49m\u001b[43m \u001b[49m\u001b[38;5;129;43;01mis\u001b[39;49;00m\u001b[43m \u001b[49m\u001b[38;5;129;43;01mnot\u001b[39;49;00m\u001b[43m \u001b[49m\u001b[38;5;28;43;01mNone\u001b[39;49;00m\u001b[43m}\u001b[49m\u001b[43m)\u001b[49m\u001b[43m,\u001b[49m\n\u001b[0;32m    366\u001b[0m \u001b[43m    \u001b[49m\u001b[43mreturn_only_outputs\u001b[49m\u001b[38;5;241;43m=\u001b[39;49m\u001b[43mreturn_only_outputs\u001b[49m\u001b[43m,\u001b[49m\n\u001b[0;32m    367\u001b[0m \u001b[43m    \u001b[49m\u001b[43minclude_run_info\u001b[49m\u001b[38;5;241;43m=\u001b[39;49m\u001b[43minclude_run_info\u001b[49m\u001b[43m,\u001b[49m\n\u001b[0;32m    368\u001b[0m \u001b[43m\u001b[49m\u001b[43m)\u001b[49m\n",
      "File \u001b[1;32mc:\\Users\\akish.pothuri\\python\\LangChain\\SQl_Script_chatbot\\chatbot\\lib\\site-packages\\langchain\\chains\\base.py:162\u001b[0m, in \u001b[0;36mChain.invoke\u001b[1;34m(self, input, config, **kwargs)\u001b[0m\n\u001b[0;32m    160\u001b[0m \u001b[38;5;28;01mexcept\u001b[39;00m \u001b[38;5;167;01mBaseException\u001b[39;00m \u001b[38;5;28;01mas\u001b[39;00m e:\n\u001b[0;32m    161\u001b[0m     run_manager\u001b[38;5;241m.\u001b[39mon_chain_error(e)\n\u001b[1;32m--> 162\u001b[0m     \u001b[38;5;28;01mraise\u001b[39;00m e\n\u001b[0;32m    163\u001b[0m run_manager\u001b[38;5;241m.\u001b[39mon_chain_end(outputs)\n\u001b[0;32m    164\u001b[0m final_outputs: Dict[\u001b[38;5;28mstr\u001b[39m, Any] \u001b[38;5;241m=\u001b[39m \u001b[38;5;28mself\u001b[39m\u001b[38;5;241m.\u001b[39mprep_outputs(\n\u001b[0;32m    165\u001b[0m     inputs, outputs, return_only_outputs\n\u001b[0;32m    166\u001b[0m )\n",
      "File \u001b[1;32mc:\\Users\\akish.pothuri\\python\\LangChain\\SQl_Script_chatbot\\chatbot\\lib\\site-packages\\langchain\\chains\\base.py:156\u001b[0m, in \u001b[0;36mChain.invoke\u001b[1;34m(self, input, config, **kwargs)\u001b[0m\n\u001b[0;32m    149\u001b[0m run_manager \u001b[38;5;241m=\u001b[39m callback_manager\u001b[38;5;241m.\u001b[39mon_chain_start(\n\u001b[0;32m    150\u001b[0m     dumpd(\u001b[38;5;28mself\u001b[39m),\n\u001b[0;32m    151\u001b[0m     inputs,\n\u001b[0;32m    152\u001b[0m     name\u001b[38;5;241m=\u001b[39mrun_name,\n\u001b[0;32m    153\u001b[0m )\n\u001b[0;32m    154\u001b[0m \u001b[38;5;28;01mtry\u001b[39;00m:\n\u001b[0;32m    155\u001b[0m     outputs \u001b[38;5;241m=\u001b[39m (\n\u001b[1;32m--> 156\u001b[0m         \u001b[38;5;28;43mself\u001b[39;49m\u001b[38;5;241;43m.\u001b[39;49m\u001b[43m_call\u001b[49m\u001b[43m(\u001b[49m\u001b[43minputs\u001b[49m\u001b[43m,\u001b[49m\u001b[43m \u001b[49m\u001b[43mrun_manager\u001b[49m\u001b[38;5;241;43m=\u001b[39;49m\u001b[43mrun_manager\u001b[49m\u001b[43m)\u001b[49m\n\u001b[0;32m    157\u001b[0m         \u001b[38;5;28;01mif\u001b[39;00m new_arg_supported\n\u001b[0;32m    158\u001b[0m         \u001b[38;5;28;01melse\u001b[39;00m \u001b[38;5;28mself\u001b[39m\u001b[38;5;241m.\u001b[39m_call(inputs)\n\u001b[0;32m    159\u001b[0m     )\n\u001b[0;32m    160\u001b[0m \u001b[38;5;28;01mexcept\u001b[39;00m \u001b[38;5;167;01mBaseException\u001b[39;00m \u001b[38;5;28;01mas\u001b[39;00m e:\n\u001b[0;32m    161\u001b[0m     run_manager\u001b[38;5;241m.\u001b[39mon_chain_error(e)\n",
      "File \u001b[1;32mc:\\Users\\akish.pothuri\\python\\LangChain\\SQl_Script_chatbot\\chatbot\\lib\\site-packages\\langchain_experimental\\sql\\base.py:201\u001b[0m, in \u001b[0;36mSQLDatabaseChain._call\u001b[1;34m(self, inputs, run_manager)\u001b[0m\n\u001b[0;32m    197\u001b[0m \u001b[38;5;28;01mexcept\u001b[39;00m \u001b[38;5;167;01mException\u001b[39;00m \u001b[38;5;28;01mas\u001b[39;00m exc:\n\u001b[0;32m    198\u001b[0m     \u001b[38;5;66;03m# Append intermediate steps to exception, to aid in logging and later\u001b[39;00m\n\u001b[0;32m    199\u001b[0m     \u001b[38;5;66;03m# improvement of few shot prompt seeds\u001b[39;00m\n\u001b[0;32m    200\u001b[0m     exc\u001b[38;5;241m.\u001b[39mintermediate_steps \u001b[38;5;241m=\u001b[39m intermediate_steps  \u001b[38;5;66;03m# type: ignore\u001b[39;00m\n\u001b[1;32m--> 201\u001b[0m     \u001b[38;5;28;01mraise\u001b[39;00m exc\n",
      "File \u001b[1;32mc:\\Users\\akish.pothuri\\python\\LangChain\\SQl_Script_chatbot\\chatbot\\lib\\site-packages\\langchain_experimental\\sql\\base.py:146\u001b[0m, in \u001b[0;36mSQLDatabaseChain._call\u001b[1;34m(self, inputs, run_manager)\u001b[0m\n\u001b[0;32m    144\u001b[0m     \u001b[38;5;28;01mif\u001b[39;00m SQL_QUERY \u001b[38;5;129;01min\u001b[39;00m sql_cmd:\n\u001b[0;32m    145\u001b[0m         sql_cmd \u001b[38;5;241m=\u001b[39m sql_cmd\u001b[38;5;241m.\u001b[39msplit(SQL_QUERY)[\u001b[38;5;241m1\u001b[39m]\u001b[38;5;241m.\u001b[39mstrip()\n\u001b[1;32m--> 146\u001b[0m     result \u001b[38;5;241m=\u001b[39m \u001b[38;5;28;43mself\u001b[39;49m\u001b[38;5;241;43m.\u001b[39;49m\u001b[43mdatabase\u001b[49m\u001b[38;5;241;43m.\u001b[39;49m\u001b[43mrun\u001b[49m\u001b[43m(\u001b[49m\u001b[43msql_cmd\u001b[49m\u001b[43m)\u001b[49m\n\u001b[0;32m    147\u001b[0m     intermediate_steps\u001b[38;5;241m.\u001b[39mappend(\u001b[38;5;28mstr\u001b[39m(result))  \u001b[38;5;66;03m# output: sql exec\u001b[39;00m\n\u001b[0;32m    148\u001b[0m \u001b[38;5;28;01melse\u001b[39;00m:\n",
      "File \u001b[1;32mc:\\Users\\akish.pothuri\\python\\LangChain\\SQl_Script_chatbot\\chatbot\\lib\\site-packages\\langchain_community\\utilities\\sql_database.py:486\u001b[0m, in \u001b[0;36mSQLDatabase.run\u001b[1;34m(self, command, fetch, include_columns, parameters, execution_options)\u001b[0m\n\u001b[0;32m    472\u001b[0m \u001b[38;5;28;01mdef\u001b[39;00m \u001b[38;5;21mrun\u001b[39m(\n\u001b[0;32m    473\u001b[0m     \u001b[38;5;28mself\u001b[39m,\n\u001b[0;32m    474\u001b[0m     command: Union[\u001b[38;5;28mstr\u001b[39m, Executable],\n\u001b[1;32m   (...)\u001b[0m\n\u001b[0;32m    479\u001b[0m     execution_options: Optional[Dict[\u001b[38;5;28mstr\u001b[39m, Any]] \u001b[38;5;241m=\u001b[39m \u001b[38;5;28;01mNone\u001b[39;00m,\n\u001b[0;32m    480\u001b[0m ) \u001b[38;5;241m-\u001b[39m\u001b[38;5;241m>\u001b[39m Union[\u001b[38;5;28mstr\u001b[39m, Sequence[Dict[\u001b[38;5;28mstr\u001b[39m, Any]], Result[Any]]:\n\u001b[0;32m    481\u001b[0m \u001b[38;5;250m    \u001b[39m\u001b[38;5;124;03m\"\"\"Execute a SQL command and return a string representing the results.\u001b[39;00m\n\u001b[0;32m    482\u001b[0m \n\u001b[0;32m    483\u001b[0m \u001b[38;5;124;03m    If the statement returns rows, a string of the results is returned.\u001b[39;00m\n\u001b[0;32m    484\u001b[0m \u001b[38;5;124;03m    If the statement returns no rows, an empty string is returned.\u001b[39;00m\n\u001b[0;32m    485\u001b[0m \u001b[38;5;124;03m    \"\"\"\u001b[39;00m\n\u001b[1;32m--> 486\u001b[0m     result \u001b[38;5;241m=\u001b[39m \u001b[38;5;28;43mself\u001b[39;49m\u001b[38;5;241;43m.\u001b[39;49m\u001b[43m_execute\u001b[49m\u001b[43m(\u001b[49m\n\u001b[0;32m    487\u001b[0m \u001b[43m        \u001b[49m\u001b[43mcommand\u001b[49m\u001b[43m,\u001b[49m\u001b[43m \u001b[49m\u001b[43mfetch\u001b[49m\u001b[43m,\u001b[49m\u001b[43m \u001b[49m\u001b[43mparameters\u001b[49m\u001b[38;5;241;43m=\u001b[39;49m\u001b[43mparameters\u001b[49m\u001b[43m,\u001b[49m\u001b[43m \u001b[49m\u001b[43mexecution_options\u001b[49m\u001b[38;5;241;43m=\u001b[39;49m\u001b[43mexecution_options\u001b[49m\n\u001b[0;32m    488\u001b[0m \u001b[43m    \u001b[49m\u001b[43m)\u001b[49m\n\u001b[0;32m    490\u001b[0m     \u001b[38;5;28;01mif\u001b[39;00m fetch \u001b[38;5;241m==\u001b[39m \u001b[38;5;124m\"\u001b[39m\u001b[38;5;124mcursor\u001b[39m\u001b[38;5;124m\"\u001b[39m:\n\u001b[0;32m    491\u001b[0m         \u001b[38;5;28;01mreturn\u001b[39;00m result\n",
      "File \u001b[1;32mc:\\Users\\akish.pothuri\\python\\LangChain\\SQl_Script_chatbot\\chatbot\\lib\\site-packages\\langchain_community\\utilities\\sql_database.py:451\u001b[0m, in \u001b[0;36mSQLDatabase._execute\u001b[1;34m(self, command, fetch, parameters, execution_options)\u001b[0m\n\u001b[0;32m    449\u001b[0m \u001b[38;5;28;01melse\u001b[39;00m:\n\u001b[0;32m    450\u001b[0m     \u001b[38;5;28;01mraise\u001b[39;00m \u001b[38;5;167;01mTypeError\u001b[39;00m(\u001b[38;5;124mf\u001b[39m\u001b[38;5;124m\"\u001b[39m\u001b[38;5;124mQuery expression has unknown type: \u001b[39m\u001b[38;5;132;01m{\u001b[39;00m\u001b[38;5;28mtype\u001b[39m(command)\u001b[38;5;132;01m}\u001b[39;00m\u001b[38;5;124m\"\u001b[39m)\n\u001b[1;32m--> 451\u001b[0m cursor \u001b[38;5;241m=\u001b[39m \u001b[43mconnection\u001b[49m\u001b[38;5;241;43m.\u001b[39;49m\u001b[43mexecute\u001b[49m\u001b[43m(\u001b[49m\n\u001b[0;32m    452\u001b[0m \u001b[43m    \u001b[49m\u001b[43mcommand\u001b[49m\u001b[43m,\u001b[49m\n\u001b[0;32m    453\u001b[0m \u001b[43m    \u001b[49m\u001b[43mparameters\u001b[49m\u001b[43m,\u001b[49m\n\u001b[0;32m    454\u001b[0m \u001b[43m    \u001b[49m\u001b[43mexecution_options\u001b[49m\u001b[38;5;241;43m=\u001b[39;49m\u001b[43mexecution_options\u001b[49m\u001b[43m,\u001b[49m\n\u001b[0;32m    455\u001b[0m \u001b[43m\u001b[49m\u001b[43m)\u001b[49m\n\u001b[0;32m    457\u001b[0m \u001b[38;5;28;01mif\u001b[39;00m cursor\u001b[38;5;241m.\u001b[39mreturns_rows:\n\u001b[0;32m    458\u001b[0m     \u001b[38;5;28;01mif\u001b[39;00m fetch \u001b[38;5;241m==\u001b[39m \u001b[38;5;124m\"\u001b[39m\u001b[38;5;124mall\u001b[39m\u001b[38;5;124m\"\u001b[39m:\n",
      "File \u001b[1;32mc:\\Users\\akish.pothuri\\python\\LangChain\\SQl_Script_chatbot\\chatbot\\lib\\site-packages\\sqlalchemy\\engine\\base.py:1408\u001b[0m, in \u001b[0;36mConnection.execute\u001b[1;34m(self, statement, parameters, execution_options)\u001b[0m\n\u001b[0;32m   1406\u001b[0m     \u001b[38;5;28;01mraise\u001b[39;00m exc\u001b[38;5;241m.\u001b[39mObjectNotExecutableError(statement) \u001b[38;5;28;01mfrom\u001b[39;00m \u001b[38;5;21;01merr\u001b[39;00m\n\u001b[0;32m   1407\u001b[0m \u001b[38;5;28;01melse\u001b[39;00m:\n\u001b[1;32m-> 1408\u001b[0m     \u001b[38;5;28;01mreturn\u001b[39;00m \u001b[43mmeth\u001b[49m\u001b[43m(\u001b[49m\n\u001b[0;32m   1409\u001b[0m \u001b[43m        \u001b[49m\u001b[38;5;28;43mself\u001b[39;49m\u001b[43m,\u001b[49m\n\u001b[0;32m   1410\u001b[0m \u001b[43m        \u001b[49m\u001b[43mdistilled_parameters\u001b[49m\u001b[43m,\u001b[49m\n\u001b[0;32m   1411\u001b[0m \u001b[43m        \u001b[49m\u001b[43mexecution_options\u001b[49m\u001b[43m \u001b[49m\u001b[38;5;129;43;01mor\u001b[39;49;00m\u001b[43m \u001b[49m\u001b[43mNO_OPTIONS\u001b[49m\u001b[43m,\u001b[49m\n\u001b[0;32m   1412\u001b[0m \u001b[43m    \u001b[49m\u001b[43m)\u001b[49m\n",
      "File \u001b[1;32mc:\\Users\\akish.pothuri\\python\\LangChain\\SQl_Script_chatbot\\chatbot\\lib\\site-packages\\sqlalchemy\\sql\\elements.py:513\u001b[0m, in \u001b[0;36mClauseElement._execute_on_connection\u001b[1;34m(self, connection, distilled_params, execution_options)\u001b[0m\n\u001b[0;32m    511\u001b[0m     \u001b[38;5;28;01mif\u001b[39;00m TYPE_CHECKING:\n\u001b[0;32m    512\u001b[0m         \u001b[38;5;28;01massert\u001b[39;00m \u001b[38;5;28misinstance\u001b[39m(\u001b[38;5;28mself\u001b[39m, Executable)\n\u001b[1;32m--> 513\u001b[0m     \u001b[38;5;28;01mreturn\u001b[39;00m \u001b[43mconnection\u001b[49m\u001b[38;5;241;43m.\u001b[39;49m\u001b[43m_execute_clauseelement\u001b[49m\u001b[43m(\u001b[49m\n\u001b[0;32m    514\u001b[0m \u001b[43m        \u001b[49m\u001b[38;5;28;43mself\u001b[39;49m\u001b[43m,\u001b[49m\u001b[43m \u001b[49m\u001b[43mdistilled_params\u001b[49m\u001b[43m,\u001b[49m\u001b[43m \u001b[49m\u001b[43mexecution_options\u001b[49m\n\u001b[0;32m    515\u001b[0m \u001b[43m    \u001b[49m\u001b[43m)\u001b[49m\n\u001b[0;32m    516\u001b[0m \u001b[38;5;28;01melse\u001b[39;00m:\n\u001b[0;32m    517\u001b[0m     \u001b[38;5;28;01mraise\u001b[39;00m exc\u001b[38;5;241m.\u001b[39mObjectNotExecutableError(\u001b[38;5;28mself\u001b[39m)\n",
      "File \u001b[1;32mc:\\Users\\akish.pothuri\\python\\LangChain\\SQl_Script_chatbot\\chatbot\\lib\\site-packages\\sqlalchemy\\engine\\base.py:1630\u001b[0m, in \u001b[0;36mConnection._execute_clauseelement\u001b[1;34m(self, elem, distilled_parameters, execution_options)\u001b[0m\n\u001b[0;32m   1618\u001b[0m compiled_cache: Optional[CompiledCacheType] \u001b[38;5;241m=\u001b[39m execution_options\u001b[38;5;241m.\u001b[39mget(\n\u001b[0;32m   1619\u001b[0m     \u001b[38;5;124m\"\u001b[39m\u001b[38;5;124mcompiled_cache\u001b[39m\u001b[38;5;124m\"\u001b[39m, \u001b[38;5;28mself\u001b[39m\u001b[38;5;241m.\u001b[39mengine\u001b[38;5;241m.\u001b[39m_compiled_cache\n\u001b[0;32m   1620\u001b[0m )\n\u001b[0;32m   1622\u001b[0m compiled_sql, extracted_params, cache_hit \u001b[38;5;241m=\u001b[39m elem\u001b[38;5;241m.\u001b[39m_compile_w_cache(\n\u001b[0;32m   1623\u001b[0m     dialect\u001b[38;5;241m=\u001b[39mdialect,\n\u001b[0;32m   1624\u001b[0m     compiled_cache\u001b[38;5;241m=\u001b[39mcompiled_cache,\n\u001b[1;32m   (...)\u001b[0m\n\u001b[0;32m   1628\u001b[0m     linting\u001b[38;5;241m=\u001b[39m\u001b[38;5;28mself\u001b[39m\u001b[38;5;241m.\u001b[39mdialect\u001b[38;5;241m.\u001b[39mcompiler_linting \u001b[38;5;241m|\u001b[39m compiler\u001b[38;5;241m.\u001b[39mWARN_LINTING,\n\u001b[0;32m   1629\u001b[0m )\n\u001b[1;32m-> 1630\u001b[0m ret \u001b[38;5;241m=\u001b[39m \u001b[38;5;28;43mself\u001b[39;49m\u001b[38;5;241;43m.\u001b[39;49m\u001b[43m_execute_context\u001b[49m\u001b[43m(\u001b[49m\n\u001b[0;32m   1631\u001b[0m \u001b[43m    \u001b[49m\u001b[43mdialect\u001b[49m\u001b[43m,\u001b[49m\n\u001b[0;32m   1632\u001b[0m \u001b[43m    \u001b[49m\u001b[43mdialect\u001b[49m\u001b[38;5;241;43m.\u001b[39;49m\u001b[43mexecution_ctx_cls\u001b[49m\u001b[38;5;241;43m.\u001b[39;49m\u001b[43m_init_compiled\u001b[49m\u001b[43m,\u001b[49m\n\u001b[0;32m   1633\u001b[0m \u001b[43m    \u001b[49m\u001b[43mcompiled_sql\u001b[49m\u001b[43m,\u001b[49m\n\u001b[0;32m   1634\u001b[0m \u001b[43m    \u001b[49m\u001b[43mdistilled_parameters\u001b[49m\u001b[43m,\u001b[49m\n\u001b[0;32m   1635\u001b[0m \u001b[43m    \u001b[49m\u001b[43mexecution_options\u001b[49m\u001b[43m,\u001b[49m\n\u001b[0;32m   1636\u001b[0m \u001b[43m    \u001b[49m\u001b[43mcompiled_sql\u001b[49m\u001b[43m,\u001b[49m\n\u001b[0;32m   1637\u001b[0m \u001b[43m    \u001b[49m\u001b[43mdistilled_parameters\u001b[49m\u001b[43m,\u001b[49m\n\u001b[0;32m   1638\u001b[0m \u001b[43m    \u001b[49m\u001b[43melem\u001b[49m\u001b[43m,\u001b[49m\n\u001b[0;32m   1639\u001b[0m \u001b[43m    \u001b[49m\u001b[43mextracted_params\u001b[49m\u001b[43m,\u001b[49m\n\u001b[0;32m   1640\u001b[0m \u001b[43m    \u001b[49m\u001b[43mcache_hit\u001b[49m\u001b[38;5;241;43m=\u001b[39;49m\u001b[43mcache_hit\u001b[49m\u001b[43m,\u001b[49m\n\u001b[0;32m   1641\u001b[0m \u001b[43m\u001b[49m\u001b[43m)\u001b[49m\n\u001b[0;32m   1642\u001b[0m \u001b[38;5;28;01mif\u001b[39;00m has_events:\n\u001b[0;32m   1643\u001b[0m     \u001b[38;5;28mself\u001b[39m\u001b[38;5;241m.\u001b[39mdispatch\u001b[38;5;241m.\u001b[39mafter_execute(\n\u001b[0;32m   1644\u001b[0m         \u001b[38;5;28mself\u001b[39m,\n\u001b[0;32m   1645\u001b[0m         elem,\n\u001b[1;32m   (...)\u001b[0m\n\u001b[0;32m   1649\u001b[0m         ret,\n\u001b[0;32m   1650\u001b[0m     )\n",
      "File \u001b[1;32mc:\\Users\\akish.pothuri\\python\\LangChain\\SQl_Script_chatbot\\chatbot\\lib\\site-packages\\sqlalchemy\\engine\\base.py:1839\u001b[0m, in \u001b[0;36mConnection._execute_context\u001b[1;34m(self, dialect, constructor, statement, parameters, execution_options, *args, **kw)\u001b[0m\n\u001b[0;32m   1834\u001b[0m     \u001b[38;5;28;01mreturn\u001b[39;00m \u001b[38;5;28mself\u001b[39m\u001b[38;5;241m.\u001b[39m_exec_insertmany_context(\n\u001b[0;32m   1835\u001b[0m         dialect,\n\u001b[0;32m   1836\u001b[0m         context,\n\u001b[0;32m   1837\u001b[0m     )\n\u001b[0;32m   1838\u001b[0m \u001b[38;5;28;01melse\u001b[39;00m:\n\u001b[1;32m-> 1839\u001b[0m     \u001b[38;5;28;01mreturn\u001b[39;00m \u001b[38;5;28;43mself\u001b[39;49m\u001b[38;5;241;43m.\u001b[39;49m\u001b[43m_exec_single_context\u001b[49m\u001b[43m(\u001b[49m\n\u001b[0;32m   1840\u001b[0m \u001b[43m        \u001b[49m\u001b[43mdialect\u001b[49m\u001b[43m,\u001b[49m\u001b[43m \u001b[49m\u001b[43mcontext\u001b[49m\u001b[43m,\u001b[49m\u001b[43m \u001b[49m\u001b[43mstatement\u001b[49m\u001b[43m,\u001b[49m\u001b[43m \u001b[49m\u001b[43mparameters\u001b[49m\n\u001b[0;32m   1841\u001b[0m \u001b[43m    \u001b[49m\u001b[43m)\u001b[49m\n",
      "File \u001b[1;32mc:\\Users\\akish.pothuri\\python\\LangChain\\SQl_Script_chatbot\\chatbot\\lib\\site-packages\\sqlalchemy\\engine\\base.py:1979\u001b[0m, in \u001b[0;36mConnection._exec_single_context\u001b[1;34m(self, dialect, context, statement, parameters)\u001b[0m\n\u001b[0;32m   1976\u001b[0m     result \u001b[38;5;241m=\u001b[39m context\u001b[38;5;241m.\u001b[39m_setup_result_proxy()\n\u001b[0;32m   1978\u001b[0m \u001b[38;5;28;01mexcept\u001b[39;00m \u001b[38;5;167;01mBaseException\u001b[39;00m \u001b[38;5;28;01mas\u001b[39;00m e:\n\u001b[1;32m-> 1979\u001b[0m     \u001b[38;5;28;43mself\u001b[39;49m\u001b[38;5;241;43m.\u001b[39;49m\u001b[43m_handle_dbapi_exception\u001b[49m\u001b[43m(\u001b[49m\n\u001b[0;32m   1980\u001b[0m \u001b[43m        \u001b[49m\u001b[43me\u001b[49m\u001b[43m,\u001b[49m\u001b[43m \u001b[49m\u001b[43mstr_statement\u001b[49m\u001b[43m,\u001b[49m\u001b[43m \u001b[49m\u001b[43meffective_parameters\u001b[49m\u001b[43m,\u001b[49m\u001b[43m \u001b[49m\u001b[43mcursor\u001b[49m\u001b[43m,\u001b[49m\u001b[43m \u001b[49m\u001b[43mcontext\u001b[49m\n\u001b[0;32m   1981\u001b[0m \u001b[43m    \u001b[49m\u001b[43m)\u001b[49m\n\u001b[0;32m   1983\u001b[0m \u001b[38;5;28;01mreturn\u001b[39;00m result\n",
      "File \u001b[1;32mc:\\Users\\akish.pothuri\\python\\LangChain\\SQl_Script_chatbot\\chatbot\\lib\\site-packages\\sqlalchemy\\engine\\base.py:2335\u001b[0m, in \u001b[0;36mConnection._handle_dbapi_exception\u001b[1;34m(self, e, statement, parameters, cursor, context, is_sub_exec)\u001b[0m\n\u001b[0;32m   2333\u001b[0m \u001b[38;5;28;01melif\u001b[39;00m should_wrap:\n\u001b[0;32m   2334\u001b[0m     \u001b[38;5;28;01massert\u001b[39;00m sqlalchemy_exception \u001b[38;5;129;01mis\u001b[39;00m \u001b[38;5;129;01mnot\u001b[39;00m \u001b[38;5;28;01mNone\u001b[39;00m\n\u001b[1;32m-> 2335\u001b[0m     \u001b[38;5;28;01mraise\u001b[39;00m sqlalchemy_exception\u001b[38;5;241m.\u001b[39mwith_traceback(exc_info[\u001b[38;5;241m2\u001b[39m]) \u001b[38;5;28;01mfrom\u001b[39;00m \u001b[38;5;21;01me\u001b[39;00m\n\u001b[0;32m   2336\u001b[0m \u001b[38;5;28;01melse\u001b[39;00m:\n\u001b[0;32m   2337\u001b[0m     \u001b[38;5;28;01massert\u001b[39;00m exc_info[\u001b[38;5;241m1\u001b[39m] \u001b[38;5;129;01mis\u001b[39;00m \u001b[38;5;129;01mnot\u001b[39;00m \u001b[38;5;28;01mNone\u001b[39;00m\n",
      "File \u001b[1;32mc:\\Users\\akish.pothuri\\python\\LangChain\\SQl_Script_chatbot\\chatbot\\lib\\site-packages\\sqlalchemy\\engine\\base.py:1960\u001b[0m, in \u001b[0;36mConnection._exec_single_context\u001b[1;34m(self, dialect, context, statement, parameters)\u001b[0m\n\u001b[0;32m   1958\u001b[0m                 \u001b[38;5;28;01mbreak\u001b[39;00m\n\u001b[0;32m   1959\u001b[0m     \u001b[38;5;28;01mif\u001b[39;00m \u001b[38;5;129;01mnot\u001b[39;00m evt_handled:\n\u001b[1;32m-> 1960\u001b[0m         \u001b[38;5;28;43mself\u001b[39;49m\u001b[38;5;241;43m.\u001b[39;49m\u001b[43mdialect\u001b[49m\u001b[38;5;241;43m.\u001b[39;49m\u001b[43mdo_execute\u001b[49m\u001b[43m(\u001b[49m\n\u001b[0;32m   1961\u001b[0m \u001b[43m            \u001b[49m\u001b[43mcursor\u001b[49m\u001b[43m,\u001b[49m\u001b[43m \u001b[49m\u001b[43mstr_statement\u001b[49m\u001b[43m,\u001b[49m\u001b[43m \u001b[49m\u001b[43meffective_parameters\u001b[49m\u001b[43m,\u001b[49m\u001b[43m \u001b[49m\u001b[43mcontext\u001b[49m\n\u001b[0;32m   1962\u001b[0m \u001b[43m        \u001b[49m\u001b[43m)\u001b[49m\n\u001b[0;32m   1964\u001b[0m \u001b[38;5;28;01mif\u001b[39;00m \u001b[38;5;28mself\u001b[39m\u001b[38;5;241m.\u001b[39m_has_events \u001b[38;5;129;01mor\u001b[39;00m \u001b[38;5;28mself\u001b[39m\u001b[38;5;241m.\u001b[39mengine\u001b[38;5;241m.\u001b[39m_has_events:\n\u001b[0;32m   1965\u001b[0m     \u001b[38;5;28mself\u001b[39m\u001b[38;5;241m.\u001b[39mdispatch\u001b[38;5;241m.\u001b[39mafter_cursor_execute(\n\u001b[0;32m   1966\u001b[0m         \u001b[38;5;28mself\u001b[39m,\n\u001b[0;32m   1967\u001b[0m         cursor,\n\u001b[1;32m   (...)\u001b[0m\n\u001b[0;32m   1971\u001b[0m         context\u001b[38;5;241m.\u001b[39mexecutemany,\n\u001b[0;32m   1972\u001b[0m     )\n",
      "File \u001b[1;32mc:\\Users\\akish.pothuri\\python\\LangChain\\SQl_Script_chatbot\\chatbot\\lib\\site-packages\\sqlalchemy\\engine\\default.py:924\u001b[0m, in \u001b[0;36mDefaultDialect.do_execute\u001b[1;34m(self, cursor, statement, parameters, context)\u001b[0m\n\u001b[0;32m    923\u001b[0m \u001b[38;5;28;01mdef\u001b[39;00m \u001b[38;5;21mdo_execute\u001b[39m(\u001b[38;5;28mself\u001b[39m, cursor, statement, parameters, context\u001b[38;5;241m=\u001b[39m\u001b[38;5;28;01mNone\u001b[39;00m):\n\u001b[1;32m--> 924\u001b[0m     \u001b[43mcursor\u001b[49m\u001b[38;5;241;43m.\u001b[39;49m\u001b[43mexecute\u001b[49m\u001b[43m(\u001b[49m\u001b[43mstatement\u001b[49m\u001b[43m,\u001b[49m\u001b[43m \u001b[49m\u001b[43mparameters\u001b[49m\u001b[43m)\u001b[49m\n",
      "\u001b[1;31mProgrammingError\u001b[0m: (pyodbc.ProgrammingError) ('42000', \"[42000] [Microsoft][ODBC Driver 17 for SQL Server][SQL Server]Column 'Supplier.CompanyName' is invalid in the select list because it is not contained in either an aggregate function or the GROUP BY clause. (8120) (SQLExecDirectW)\")\n[SQL: SELECT CompanyName, Country FROM Supplier GROUP BY Country]\n(Background on this error at: https://sqlalche.me/e/20/f405)"
     ]
    }
   ],
   "source": [
    "qns10 = db_chain(\"Name of the suppliers according to the Country wise\")"
   ]
  },
  {
   "cell_type": "code",
   "execution_count": 79,
   "metadata": {},
   "outputs": [
    {
     "name": "stdout",
     "output_type": "stream",
     "text": [
      "\n",
      "\n",
      "\u001b[1m> Entering new SQLDatabaseChain chain...\u001b[0m\n",
      " SELECT Country,CompanyName FROM Supplier GROUP BY Country,CompanyName ORDER BY Country;\n",
      "SQLQuery:\u001b[32;1m\u001b[1;3mSELECT Country,CompanyName FROM Supplier GROUP BY Country,CompanyName ORDER BY Country;\u001b[0m\n",
      "SQLResult: \u001b[33;1m\u001b[1;3m[('Australia', \"G'day, Mate\"), ('Australia', 'Pavlova, Ltd.'), ('Brazil', 'Refrescos Americanas LTDA'), ('Canada', \"Forêts d'érables\"), ('Canada', 'Ma Maison'), ('Denmark', 'Lyngbysild'), ('Finland', 'Karkki Oy'), ('France', 'Aux joyeux ecclésiastiques'), ('France', 'Escargots Nouveaux'), ('France', 'Gai pâturage'), ('Germany', 'Heli Süßwaren GmbH & Co. KG'), ('Germany', 'Nord-Ost-Fisch Handelsgesellschaft mbH'), ('Germany', 'Plutzer Lebensmittelgroßmärkte AG'), ('Italy', 'Formaggi Fortini s.r.l.'), ('Italy', 'Pasta Buttini s.r.l.'), ('Japan', \"Mayumi's\"), ('Japan', 'Tokyo Traders'), ('Netherlands', 'Zaanse Snoepfabriek'), ('Norway', 'Norske Meierier'), ('Singapore', 'Leka Trading'), ('Spain', \"Cooperativa de Quesos 'Las Cabras'\"), ('Sweden', 'PB Knäckebröd AB'), ('Sweden', 'Svensk Sjöföda AB'), ('UK', 'Exotic Liquids'), ('UK', 'Specialty Biscuits, Ltd.'), ('USA', 'Bigfoot Breweries'), ('USA', \"Grandma Kelly's Homestead\"), ('USA', 'New England Seafood Cannery'), ('USA', 'New Orleans Cajun Delights')]\u001b[0m\n",
      "Answer:\u001b[32;1m\u001b[1;3mAustralia, G'day, Mate | Australia, Pavlova, Ltd. | Brazil, Refrescos Americanas LTDA | Canada, \"Forêts d'érables\" | Canada, Ma Maison | Denmark, Lyngbysild | Finland, Karkki Oy | France, Aux joyeux ecclésiastiques | France, Escargots Nouveaux | France, Gai pâturage | Germany, Heli Süßwaren GmbH & Co. KG | Germany, Nord-Ost-Fisch Handelsgesellschaft mbH | Germany, Plutzer Lebensmittelgroßmärkte AG | Italy, Formaggi Fortini s.r.l. | Italy, Pasta Buttini s.r.l. | Japan, \"Mayumi's\" | Japan, Tokyo Traders | Netherlands, Zaanse Snoepfabriek | Norway, Norske Meierier | Singapore, Leka Trading | Spain, \"Cooperativa de Quesos 'Las Cabras'\" | Sweden, PB Knäckebröd AB | Sweden, Svensk Sjöföda AB | UK, Exotic Liquids | UK, Specialty Biscuits, Ltd. | USA, Bigfoot Breweries | USA, \"Grandma Kelly's Homestead\" | USA, New England Seafood Cannery | USA, New Orleans Cajun Delights\u001b[0m\n",
      "\u001b[1m> Finished chain.\u001b[0m\n"
     ]
    }
   ],
   "source": [
    "qns10sql = db_chain.run(\"SELECT Country,CompanyName FROM Supplier GROUP BY Country,CompanyName ORDER BY Country;\")"
   ]
  },
  {
   "cell_type": "code",
   "execution_count": 126,
   "metadata": {},
   "outputs": [],
   "source": [
    "from langchain.prompts import SemanticSimilarityExampleSelector\n",
    "from langchain.embeddings import HuggingFaceEmbeddings\n",
    "from langchain.vectorstores import Chroma\n",
    "\n",
    "\n",
    "embeddings = HuggingFaceEmbeddings(model_name='sentence-transformers/all-MiniLM-L6-v2')\n",
    "\n",
    "to_vectorize = [\" \".join(example.values()) for example in few_shots]"
   ]
  },
  {
   "cell_type": "code",
   "execution_count": 127,
   "metadata": {},
   "outputs": [
    {
     "data": {
      "text/plain": [
       "['what is the name of Supplier providing more products SELECT CompanyName FROM Supplier s JOIN Product p ON s.Id = p.SupplierId GROUP BY CompanyName ORDER BY COUNT(*) DESC [(\\'Pavlova, Ltd.\\',), (\\'Plutzer Lebensmittelgroßmärkte AG\\',), (\\'Specialty Biscuits, Ltd.\\',), (\\'New Orleans Cajun Delights\\',), (\\'Norske Meierier\\',), (\\'Formaggi Fortini s.r.l.\\',), (\"Mayumi\\'s\",), (\\'Bigfoot Breweries\\',), (\\'Exotic Liquids\\',), (\"G\\'day, Mate\",), (\"Grandma Kelly\\'s Homestead\",), (\\'Heli Süßwaren GmbH & Co. KG\\',), (\\'Karkki Oy\\',), (\\'Leka Trading\\',), (\\'Svensk Sjöföda AB\\',), (\\'Tokyo Traders\\',), (\\'Zaanse Snoepfabriek\\',), (\\'PB Knäckebröd AB\\',), (\\'Aux joyeux ecclésiastiques\\',), (\\'Lyngbysild\\',), (\\'Ma Maison\\',), (\"Forêts d\\'érables\",), (\"Cooperativa de Quesos \\'Las Cabras\\'\",), (\\'New England Seafood Cannery\\',), (\\'Gai pâturage\\',), (\\'Pasta Buttini s.r.l.\\',), (\\'Nord-Ost-Fisch Handelsgesellschaft mbH\\',), (\\'Escargots Nouveaux\\',), (\\'Refrescos Americanas LTDA\\',)] Pavlova, Ltd',\n",
       " 'Give me the date on we got minimum amount SELECT MIN(OrderDate) FROM Orders [(datetime.datetime(2012, 7, 4, 0, 0),)] 2012-07-04',\n",
       " \"Provide me names of customers according to their respective countries SELECT Country, FirstName + ' ' + LastName FROM Customer GROUP BY Country, FirstName, LastName; [('Argentina', 'Patricio Simpson'), ('Argentina', 'Sergio Gutiérrez'), ('Argentina', 'Yvonne Moncada'), ('Austria', 'Georg Pipps'), ('Austria', 'Roland Mendel'), ('Belgium', 'Catherine Dewey'), ('Belgium', 'Pascale Cartrain'), ('Brazil', 'Anabela Domingues'), ('Brazil', 'André Fonseca'), ('Brazil', 'Aria Cruz'), ('Brazil', 'Bernardo Batista'), ('Brazil', 'Janete Limeira'), ('Brazil', 'Lúcia Carvalho'), ('Brazil', 'Mario Pontes'), ('Brazil', 'Paula Parente'), ('Brazil', 'Pedro Afonso'), ('Canada', 'Elizabeth Lincoln'), ('Canada', 'Jean Fresnière'), ('Canada', 'Yoshi Tannamuri'), ('Denmark', 'Jytte Petersen'), ('Denmark', 'Palle Ibsen'), ('Finland', 'Matti Karttunen'), ('Finland', 'Pirkko Koskitalo'), ('France', 'Annette Roulet'), ('France', 'Carine Schmitt'), ('France', 'Daniel Tonini'), ('France', 'Dominique Perrier'), ('France', 'Frédérique Citeaux'), ('France', 'Janine Labrune'), ('France', 'Laurence Lebihan'), ('France', 'Marie Bertrand'), ('France', 'Martine Rancé'), ('France', 'Mary Saveley'), ('France', 'Paul Henriot'), ('Germany', 'Alexander Feuer'), ('Germany', 'Hanna Moos'), ('Germany', 'Henriette Pfalzheim'), ('Germany', 'Horst Kloss'), ('Germany', 'Karin Josephs'), ('Germany', 'Maria Anders'), ('Germany', 'Peter Franken'), ('Germany', 'Philip Cramer'), ('Germany', 'Renate Messner'), ('Germany', 'Rita Müller'), ('Germany', 'Sven Ottlieb'), ('Ireland', 'Patricia McKenna'), ('Italy', 'Giovanni Rovelli'), ('Italy', 'Maurizio Moroni'), ('Italy', 'Paolo Accorti'), ('Mexico', 'Ana Trujillo'), ('Mexico', 'Antonio Moreno'), ('Mexico', 'Francisco Chang'), ('Mexico', 'Guillermo Fernández'), ('Mexico', 'Miguel Angel Paolino'), ('Norway', 'Jonas Bergulfsen'), ('Poland', 'Zbyszek Piestrzeniewicz'), ('Portugal', 'Isabel de Castro'), ('Portugal', 'Lino Rodriguez'), ('Spain', 'Alejandra Camino'), ('Spain', 'Diego Roel'), ('Spain', 'Eduardo Saavedra'), ('Spain', 'José Pedro Freyre'), ('Spain', 'Martín Sommer'), ('Sweden', 'Christina Berglund'), ('Sweden', 'Maria Larsson'), ('Switzerland', 'Michael Holz'), ('Switzerland', 'Yang Wang'), ('UK', 'Ann Devon'), ('UK', 'Elizabeth Brown'), ('UK', 'Hari Kumar'), ('UK', 'Helen Bennett'), ('UK', 'Simon Crowther'), ('UK', 'Thomas Hardy'), ('UK', 'Victoria Ashworth'), ('USA', 'Art Braunschweiger'), ('USA', 'Fran Wilson'), ('USA', 'Helvetius Nagy'), ('USA', 'Howard Snyder'), ('USA', 'Jaime Yorres'), ('USA', 'John Steel'), ('USA', 'Jose Pavarotti'), ('USA', 'Karl Jablonski'), ('USA', 'Liu Wong'), ('USA', 'Liz Nixon'), ('USA', 'Paula Wilson'), ('USA', 'Rene Phillips'), ('USA', 'Yoshi Latimer'), ('Venezuela', 'Carlos González'), ('Venezuela', 'Carlos Hernández'), ('Venezuela', 'Felipe Izquierdo'), ('Venezuela', 'Manuel Pereira')] Argentina: Patricio Simpson, Sergio Gutiérrez, Yvonne Moncada\\n                      Austria: Georg Pipps, Roland Mendel\\n                      Belgium: Catherine Dewey, Pascale Cartrain\\n                      Brazil: Anabela Domingues, André Fonseca, Aria Cruz, Bernardo Batista, Janete Limeira, Lúcia Carvalho, Mario Pontes, Paula Parente, Pedro Afonso\\n                      Canada: Elizabeth Lincoln, Jean Fresnière, Yoshi Tannamuri\\n                      Denmark: Jytte Petersen, Palle Ibsen\\n                      Finland: Matti Karttunen, Pirkko Koskitalo\\n                      France: Annette Roulet, Carine Schmitt, Daniel Tonini, Dominique Perrier, Frédérique Citeaux, Janine Labrune, Laurence Lebihan, Marie Bertrand, Martine Rancé, Mary Saveley, Paul Henriot\\n                      Germany: Alexander Feuer, Hanna Moos, Henriette Pfalzheim, Horst Kloss, Karin Josephs, Maria Anders, Peter Franken, Philip Cramer, Renate Messner, Rita Müller, Sven Ottlieb\\n                      Ireland: Patricia McKenna\\n                      Italy: Giovanni Rovelli, Maurizio Moroni, Paolo Accorti\\n                      Mexico: Ana Trujillo, Antonio Moreno, Francisco Chang, Guillermo Fernández, Miguel Angel Paolino\\n                      Norway: Jonas Bergulfsen\\n                      Poland: Zbyszek Piestrzeniewicz\\n                      Portugal: Isabel de Castro, Lino Rodriguez\\n                      Spain: Alejandra Camino, Diego Roel, Eduardo Saavedra, José Pedro Freyre, Martín Sommer\\n                      Sweden: Christina Berglund, Maria Larsson\\n                      Switzerland: Michael Holz, Yang Wang\\n                      UK: Ann Devon, Elizabeth Brown, Hari Kumar, Helen Bennett, Simon Crowther, Thomas Hardy, Victoria Ashworth\\n                      USA: Art Braunschweiger, Fran Wilson, Helvetius Nagy, Howard Snyder, Jaime Yorres, John Steel, Jose Pavarotti, Karl Jablonski, Liu Wong, Liz Nixon, Paula Wilson, Rene Phillips, Yoshi Latimer\\n                      Venezuela: Carlos González, Carlos Hernández, Felipe Izquierdo, Manuel Pereira\",\n",
       " 'Name of the suppliers according to the Country wise SELECT Country,CompanyName FROM Supplier GROUP BY Country,CompanyName ORDER BY Country;  [(\\'Australia\\', \"G\\'day, Mate\"), (\\'Australia\\', \\'Pavlova, Ltd.\\'), (\\'Brazil\\', \\'Refrescos Americanas LTDA\\'), (\\'Canada\\', \"Forêts d\\'érables\"), (\\'Canada\\', \\'Ma Maison\\'), (\\'Denmark\\', \\'Lyngbysild\\'), (\\'Finland\\', \\'Karkki Oy\\'), (\\'France\\', \\'Aux joyeux ecclésiastiques\\'), (\\'France\\', \\'Escargots Nouveaux\\'), (\\'France\\', \\'Gai pâturage\\'), (\\'Germany\\', \\'Heli Süßwaren GmbH & Co. KG\\'), (\\'Germany\\', \\'Nord-Ost-Fisch Handelsgesellschaft mbH\\'), (\\'Germany\\', \\'Plutzer Lebensmittelgroßmärkte AG\\'), (\\'Italy\\', \\'Formaggi Fortini s.r.l.\\'), (\\'Italy\\', \\'Pasta Buttini s.r.l.\\'), (\\'Japan\\', \"Mayumi\\'s\"), (\\'Japan\\', \\'Tokyo Traders\\'), (\\'Netherlands\\', \\'Zaanse Snoepfabriek\\'), (\\'Norway\\', \\'Norske Meierier\\'), (\\'Singapore\\', \\'Leka Trading\\'), (\\'Spain\\', \"Cooperativa de Quesos \\'Las Cabras\\'\"), (\\'Sweden\\', \\'PB Knäckebröd AB\\'), (\\'Sweden\\', \\'Svensk Sjöföda AB\\'), (\\'UK\\', \\'Exotic Liquids\\'), (\\'UK\\', \\'Specialty Biscuits, Ltd.\\'), (\\'USA\\', \\'Bigfoot Breweries\\'), (\\'USA\\', \"Grandma Kelly\\'s Homestead\"), (\\'USA\\', \\'New England Seafood Cannery\\'), (\\'USA\\', \\'New Orleans Cajun Delights\\')] Australia, G\\'day, Mate | Australia, Pavlova, Ltd. | Brazil, Refrescos Americanas LTDA | Canada, \"Forêts d\\'érables\" | Canada, Ma Maison | Denmark, Lyngbysild | Finland, Karkki Oy | France, Aux joyeux ecclésiastiques | France, Escargots Nouveaux | France, Gai pâturage | Germany, Heli Süßwaren GmbH & Co. KG | Germany, Nord-Ost-Fisch Handelsgesellschaft mbH | Germany, Plutzer Lebensmittelgroßmärkte AG | Italy, Formaggi Fortini s.r.l. | Italy, Pasta Buttini s.r.l. | Japan, \"Mayumi\\'s\" | Japan, Tokyo Traders | Netherlands, Zaanse Snoepfabriek | Norway, Norske Meierier | Singapore, Leka Trading | Spain, \"Cooperativa de Quesos \\'Las Cabras\\'\" | Sweden, PB Knäckebröd AB | Sweden, Svensk Sjöföda AB | UK, Exotic Liquids | UK, Specialty Biscuits, Ltd. | USA, Bigfoot Breweries | USA, \"Grandma Kelly\\'s Homestead\" | USA, New England Seafood Cannery | USA, New Orleans Cajun Delights',\n",
       " \"what is the name of customer ordered maximum quantity according to the data in the database SELECT TOP 1 c.FirstName + ' ' + c.LastName AS CustomerName  FROM Customer AS c INNER JOIN Orders AS o ON c.Id = o.CustomerId INNER JOIN OrderItem AS i ON o.Id = i.OrderId GROUP BY c.Id, c.FirstName, c.LastName ORDER BY SUM(i.Quantity) DESC [('Jose Pavarotti',)] Jose Pavarotti\",\n",
       " 'Total number of suppliers SELECT COUNT(*) FROM Supplier [(29,)] 29',\n",
       " 'How many products discontinued till now? SELECT COUNT(*) FROM Product WHERE IsDiscontinued = 1 [(8,)] 8']"
      ]
     },
     "execution_count": 127,
     "metadata": {},
     "output_type": "execute_result"
    }
   ],
   "source": [
    "to_vectorize"
   ]
  },
  {
   "cell_type": "code",
   "execution_count": 128,
   "metadata": {},
   "outputs": [],
   "source": [
    "vectorstore = Chroma.from_texts(to_vectorize, embeddings, metadatas=few_shots)"
   ]
  },
  {
   "cell_type": "code",
   "execution_count": 137,
   "metadata": {},
   "outputs": [
    {
     "data": {
      "text/plain": [
       "[{'Answer': 'Australia, G\\'day, Mate | Australia, Pavlova, Ltd. | Brazil, Refrescos Americanas LTDA | Canada, \"Forêts d\\'érables\" | Canada, Ma Maison | Denmark, Lyngbysild | Finland, Karkki Oy | France, Aux joyeux ecclésiastiques | France, Escargots Nouveaux | France, Gai pâturage | Germany, Heli Süßwaren GmbH & Co. KG | Germany, Nord-Ost-Fisch Handelsgesellschaft mbH | Germany, Plutzer Lebensmittelgroßmärkte AG | Italy, Formaggi Fortini s.r.l. | Italy, Pasta Buttini s.r.l. | Japan, \"Mayumi\\'s\" | Japan, Tokyo Traders | Netherlands, Zaanse Snoepfabriek | Norway, Norske Meierier | Singapore, Leka Trading | Spain, \"Cooperativa de Quesos \\'Las Cabras\\'\" | Sweden, PB Knäckebröd AB | Sweden, Svensk Sjöföda AB | UK, Exotic Liquids | UK, Specialty Biscuits, Ltd. | USA, Bigfoot Breweries | USA, \"Grandma Kelly\\'s Homestead\" | USA, New England Seafood Cannery | USA, New Orleans Cajun Delights',\n",
       "  'Question': 'Name of the suppliers according to the Country wise',\n",
       "  'SQLQuery': 'SELECT Country,CompanyName FROM Supplier GROUP BY Country,CompanyName ORDER BY Country;',\n",
       "  'SQLResult': ' [(\\'Australia\\', \"G\\'day, Mate\"), (\\'Australia\\', \\'Pavlova, Ltd.\\'), (\\'Brazil\\', \\'Refrescos Americanas LTDA\\'), (\\'Canada\\', \"Forêts d\\'érables\"), (\\'Canada\\', \\'Ma Maison\\'), (\\'Denmark\\', \\'Lyngbysild\\'), (\\'Finland\\', \\'Karkki Oy\\'), (\\'France\\', \\'Aux joyeux ecclésiastiques\\'), (\\'France\\', \\'Escargots Nouveaux\\'), (\\'France\\', \\'Gai pâturage\\'), (\\'Germany\\', \\'Heli Süßwaren GmbH & Co. KG\\'), (\\'Germany\\', \\'Nord-Ost-Fisch Handelsgesellschaft mbH\\'), (\\'Germany\\', \\'Plutzer Lebensmittelgroßmärkte AG\\'), (\\'Italy\\', \\'Formaggi Fortini s.r.l.\\'), (\\'Italy\\', \\'Pasta Buttini s.r.l.\\'), (\\'Japan\\', \"Mayumi\\'s\"), (\\'Japan\\', \\'Tokyo Traders\\'), (\\'Netherlands\\', \\'Zaanse Snoepfabriek\\'), (\\'Norway\\', \\'Norske Meierier\\'), (\\'Singapore\\', \\'Leka Trading\\'), (\\'Spain\\', \"Cooperativa de Quesos \\'Las Cabras\\'\"), (\\'Sweden\\', \\'PB Knäckebröd AB\\'), (\\'Sweden\\', \\'Svensk Sjöföda AB\\'), (\\'UK\\', \\'Exotic Liquids\\'), (\\'UK\\', \\'Specialty Biscuits, Ltd.\\'), (\\'USA\\', \\'Bigfoot Breweries\\'), (\\'USA\\', \"Grandma Kelly\\'s Homestead\"), (\\'USA\\', \\'New England Seafood Cannery\\'), (\\'USA\\', \\'New Orleans Cajun Delights\\')]'},\n",
       " {'Answer': 'Australia, G\\'day, Mate | Australia, Pavlova, Ltd. | Brazil, Refrescos Americanas LTDA | Canada, \"Forêts d\\'érables\" | Canada, Ma Maison | Denmark, Lyngbysild | Finland, Karkki Oy | France, Aux joyeux ecclésiastiques | France, Escargots Nouveaux | France, Gai pâturage | Germany, Heli Süßwaren GmbH & Co. KG | Germany, Nord-Ost-Fisch Handelsgesellschaft mbH | Germany, Plutzer Lebensmittelgroßmärkte AG | Italy, Formaggi Fortini s.r.l. | Italy, Pasta Buttini s.r.l. | Japan, \"Mayumi\\'s\" | Japan, Tokyo Traders | Netherlands, Zaanse Snoepfabriek | Norway, Norske Meierier | Singapore, Leka Trading | Spain, \"Cooperativa de Quesos \\'Las Cabras\\'\" | Sweden, PB Knäckebröd AB | Sweden, Svensk Sjöföda AB | UK, Exotic Liquids | UK, Specialty Biscuits, Ltd. | USA, Bigfoot Breweries | USA, \"Grandma Kelly\\'s Homestead\" | USA, New England Seafood Cannery | USA, New Orleans Cajun Delights',\n",
       "  'Question': 'Name of the suppliers according to the Country wise',\n",
       "  'SQLQuery': 'SELECT Country,CompanyName FROM Supplier GROUP BY Country,CompanyName ORDER BY Country;',\n",
       "  'SQLResult': ' [(\\'Australia\\', \"G\\'day, Mate\"), (\\'Australia\\', \\'Pavlova, Ltd.\\'), (\\'Brazil\\', \\'Refrescos Americanas LTDA\\'), (\\'Canada\\', \"Forêts d\\'érables\"), (\\'Canada\\', \\'Ma Maison\\'), (\\'Denmark\\', \\'Lyngbysild\\'), (\\'Finland\\', \\'Karkki Oy\\'), (\\'France\\', \\'Aux joyeux ecclésiastiques\\'), (\\'France\\', \\'Escargots Nouveaux\\'), (\\'France\\', \\'Gai pâturage\\'), (\\'Germany\\', \\'Heli Süßwaren GmbH & Co. KG\\'), (\\'Germany\\', \\'Nord-Ost-Fisch Handelsgesellschaft mbH\\'), (\\'Germany\\', \\'Plutzer Lebensmittelgroßmärkte AG\\'), (\\'Italy\\', \\'Formaggi Fortini s.r.l.\\'), (\\'Italy\\', \\'Pasta Buttini s.r.l.\\'), (\\'Japan\\', \"Mayumi\\'s\"), (\\'Japan\\', \\'Tokyo Traders\\'), (\\'Netherlands\\', \\'Zaanse Snoepfabriek\\'), (\\'Norway\\', \\'Norske Meierier\\'), (\\'Singapore\\', \\'Leka Trading\\'), (\\'Spain\\', \"Cooperativa de Quesos \\'Las Cabras\\'\"), (\\'Sweden\\', \\'PB Knäckebröd AB\\'), (\\'Sweden\\', \\'Svensk Sjöföda AB\\'), (\\'UK\\', \\'Exotic Liquids\\'), (\\'UK\\', \\'Specialty Biscuits, Ltd.\\'), (\\'USA\\', \\'Bigfoot Breweries\\'), (\\'USA\\', \"Grandma Kelly\\'s Homestead\"), (\\'USA\\', \\'New England Seafood Cannery\\'), (\\'USA\\', \\'New Orleans Cajun Delights\\')]'}]"
      ]
     },
     "execution_count": 137,
     "metadata": {},
     "output_type": "execute_result"
    }
   ],
   "source": [
    "example_selector = SemanticSimilarityExampleSelector(\n",
    "    vectorstore=vectorstore,\n",
    "    k=2,\n",
    ")\n",
    "\n",
    "example_selector.select_examples({\"Question\": \"Get me Name of the suppliers according to the Country wise\"})"
   ]
  },
  {
   "cell_type": "code",
   "execution_count": 130,
   "metadata": {},
   "outputs": [],
   "source": [
    "### my sql based instruction prompt\n",
    "mysql_prompt = \"\"\"You are a Microsoft SQL Server Management Studio 2019 expert. Given an input question, first create a syntactically correct MySQL query to run, then look at the results of the query and return the answer to the input question.\n",
    "Unless the user specifies in the question a specific number of examples to obtain, query for at most {top_k} results using the LIMIT clause as per MySQL. You can order the results to return the most informative data in the database.\n",
    "Never query for all columns from a table. You must query only the columns that are needed to answer the question. Wrap each column name in backticks (`) to denote them as delimited identifiers.\n",
    "Pay attention to use only the column names you can see in the tables below. Be careful to not query for columns that do not exist. Also, pay attention to which column is in which table. use TOP instead of LIMIT.\n",
    "Pay attention to use GetDATE() function to get the current date, if the question involves \"today\".\n",
    "\n",
    "Use the following format:\n",
    "\n",
    "Question: Question here\n",
    "SQLQuery: Query to run with no pre-amble\n",
    "SQLResult: Result of the SQLQuery\n",
    "Answer: Final answer here\n",
    "\n",
    "No pre-amble.\n",
    "\"\"\""
   ]
  },
  {
   "cell_type": "code",
   "execution_count": 131,
   "metadata": {},
   "outputs": [
    {
     "name": "stdout",
     "output_type": "stream",
     "text": [
      "Only use the following tables:\n",
      "{table_info}\n",
      "\n",
      "Question: {input}\n"
     ]
    }
   ],
   "source": [
    "from langchain.prompts import FewShotPromptTemplate\n",
    "from langchain.chains.sql_database.prompt import PROMPT_SUFFIX, _mysql_prompt\n",
    "\n",
    "print(PROMPT_SUFFIX)"
   ]
  },
  {
   "cell_type": "markdown",
   "metadata": {},
   "source": [
    "## Setting up PromptTemplete using input variables"
   ]
  },
  {
   "cell_type": "code",
   "execution_count": 132,
   "metadata": {},
   "outputs": [],
   "source": [
    "from langchain.prompts.prompt import PromptTemplate\n",
    "\n",
    "example_prompt = PromptTemplate(\n",
    "    input_variables=[\"Question\", \"SQLQuery\", \"SQLResult\",\"Answer\",],\n",
    "    template=\"\\nQuestion: {Question}\\nSQLQuery: {SQLQuery}\\nSQLResult: {SQLResult}\\nAnswer: {Answer}\",\n",
    ")"
   ]
  },
  {
   "cell_type": "code",
   "execution_count": 133,
   "metadata": {},
   "outputs": [],
   "source": [
    "few_shot_prompt = FewShotPromptTemplate(\n",
    "    example_selector=example_selector,\n",
    "    example_prompt=example_prompt,\n",
    "    prefix=mysql_prompt,\n",
    "    suffix=PROMPT_SUFFIX,\n",
    "    input_variables=[\"input\", \"table_info\", \"top_k\"], #These variables are used in the prefix and suffix\n",
    ")"
   ]
  },
  {
   "cell_type": "code",
   "execution_count": 134,
   "metadata": {},
   "outputs": [],
   "source": [
    "new_chain = SQLDatabaseChain.from_llm(llm, db, verbose=True, prompt=few_shot_prompt)"
   ]
  },
  {
   "cell_type": "code",
   "execution_count": 114,
   "metadata": {},
   "outputs": [
    {
     "name": "stdout",
     "output_type": "stream",
     "text": [
      "\n",
      "\n",
      "\u001b[1m> Entering new SQLDatabaseChain chain...\u001b[0m\n",
      "How many Customers are there from Germany?\n",
      "SQLQuery:"
     ]
    },
    {
     "name": "stderr",
     "output_type": "stream",
     "text": [
      "Retrying langchain_community.llms.google_palm.completion_with_retry.<locals>._completion_with_retry in 4.0 seconds as it raised InternalServerError: 500 An internal error has occurred. Please retry or report in https://developers.generativeai.google/guide/troubleshooting.\n"
     ]
    },
    {
     "name": "stdout",
     "output_type": "stream",
     "text": [
      "\u001b[32;1m\u001b[1;3mSELECT COUNT(*) FROM Customer WHERE Country = 'Germany'\u001b[0m\n",
      "SQLResult: \u001b[33;1m\u001b[1;3m[(11,)]\u001b[0m\n",
      "Answer:\u001b[32;1m\u001b[1;3m11\u001b[0m\n",
      "\u001b[1m> Finished chain.\u001b[0m\n"
     ]
    },
    {
     "data": {
      "text/plain": [
       "{'query': 'How many Customers are there from Germany?', 'result': '11'}"
      ]
     },
     "execution_count": 114,
     "metadata": {},
     "output_type": "execute_result"
    }
   ],
   "source": [
    "new_chain(\"How many Customers are there from Germany?\")"
   ]
  },
  {
   "cell_type": "code",
   "execution_count": 121,
   "metadata": {},
   "outputs": [
    {
     "name": "stdout",
     "output_type": "stream",
     "text": [
      "\n",
      "\n",
      "\u001b[1m> Entering new SQLDatabaseChain chain...\u001b[0m\n",
      "What is the date today?\n",
      "SQLQuery:\u001b[32;1m\u001b[1;3mSELECT GETDATE()\u001b[0m\n",
      "SQLResult: \u001b[33;1m\u001b[1;3m[(datetime.datetime(2024, 2, 16, 15, 20, 6, 947000),)]\u001b[0m\n",
      "Answer:\u001b[32;1m\u001b[1;3m2024-02-16 15:20:06.947000\u001b[0m\n",
      "\u001b[1m> Finished chain.\u001b[0m\n"
     ]
    },
    {
     "data": {
      "text/plain": [
       "{'query': 'What is the date today?', 'result': '2024-02-16 15:20:06.947000'}"
      ]
     },
     "execution_count": 121,
     "metadata": {},
     "output_type": "execute_result"
    }
   ],
   "source": [
    "new_chain(\"What is the date today?\")"
   ]
  },
  {
   "cell_type": "code",
   "execution_count": 123,
   "metadata": {},
   "outputs": [
    {
     "name": "stdout",
     "output_type": "stream",
     "text": [
      "\n",
      "\n",
      "\u001b[1m> Entering new SQLDatabaseChain chain...\u001b[0m\n",
      "How many products discontinued till now?\n",
      "SQLQuery:\u001b[32;1m\u001b[1;3mSELECT COUNT(*) FROM Product WHERE IsDiscontinued = 1\u001b[0m\n",
      "SQLResult: \u001b[33;1m\u001b[1;3m[(8,)]\u001b[0m\n",
      "Answer:"
     ]
    },
    {
     "name": "stderr",
     "output_type": "stream",
     "text": [
      "Retrying langchain_community.llms.google_palm.completion_with_retry.<locals>._completion_with_retry in 4.0 seconds as it raised InternalServerError: 500 An internal error has occurred. Please retry or report in https://developers.generativeai.google/guide/troubleshooting.\n"
     ]
    },
    {
     "name": "stdout",
     "output_type": "stream",
     "text": [
      "\u001b[32;1m\u001b[1;3m8\u001b[0m\n",
      "\u001b[1m> Finished chain.\u001b[0m\n"
     ]
    },
    {
     "data": {
      "text/plain": [
       "{'query': 'How many products discontinued till now?', 'result': '8'}"
      ]
     },
     "execution_count": 123,
     "metadata": {},
     "output_type": "execute_result"
    }
   ],
   "source": [
    "new_chain(\"How many products discontinued till now?\")"
   ]
  },
  {
   "cell_type": "code",
   "execution_count": 140,
   "metadata": {},
   "outputs": [
    {
     "name": "stdout",
     "output_type": "stream",
     "text": [
      "\n",
      "\n",
      "\u001b[1m> Entering new SQLDatabaseChain chain...\u001b[0m\n",
      "what are the names of the suppliers according to the Country wise\n",
      "SQLQuery:\u001b[32;1m\u001b[1;3mSELECT Country, CompanyName FROM Supplier GROUP BY Country, CompanyName;\u001b[0m\n",
      "SQLResult: \u001b[33;1m\u001b[1;3m[('Australia', \"G'day, Mate\"), ('Australia', 'Pavlova, Ltd.'), ('Brazil', 'Refrescos Americanas LTDA'), ('Canada', \"Forêts d'érables\"), ('Canada', 'Ma Maison'), ('Denmark', 'Lyngbysild'), ('Finland', 'Karkki Oy'), ('France', 'Aux joyeux ecclésiastiques'), ('France', 'Escargots Nouveaux'), ('France', 'Gai pâturage'), ('Germany', 'Heli Süßwaren GmbH & Co. KG'), ('Germany', 'Nord-Ost-Fisch Handelsgesellschaft mbH'), ('Germany', 'Plutzer Lebensmittelgroßmärkte AG'), ('Italy', 'Formaggi Fortini s.r.l.'), ('Italy', 'Pasta Buttini s.r.l.'), ('Japan', \"Mayumi's\"), ('Japan', 'Tokyo Traders'), ('Netherlands', 'Zaanse Snoepfabriek'), ('Norway', 'Norske Meierier'), ('Singapore', 'Leka Trading'), ('Spain', \"Cooperativa de Quesos 'Las Cabras'\"), ('Sweden', 'PB Knäckebröd AB'), ('Sweden', 'Svensk Sjöföda AB'), ('UK', 'Exotic Liquids'), ('UK', 'Specialty Biscuits, Ltd.'), ('USA', 'Bigfoot Breweries'), ('USA', \"Grandma Kelly's Homestead\"), ('USA', 'New England Seafood Cannery'), ('USA', 'New Orleans Cajun Delights')]\u001b[0m\n",
      "Answer:\u001b[32;1m\u001b[1;3mAustralia, G'day, Mate | Australia, Pavlova, Ltd. | Brazil, Refrescos Americanas LTDA | Canada, \"Forêts d'érables\" | Canada, Ma Maison | Denmark, Lyngbysild | Finland, Karkki Oy | France, Aux joyeux ecclésiastiques | France, Escargots Nouveaux | France, Gai pâturage | Germany, Heli Süßwaren GmbH & Co. KG | Germany, Nord-Ost-Fisch Handelsgesellschaft mbH | Germany, Plutzer Lebensmittelgroßmärkte AG | Italy, Formaggi Fortini s.r.l. | Italy, Pasta Buttini s.r.l. | Japan, \"Mayumi's\" | Japan, Tokyo Traders | Netherlands, Zaanse Snoepfabriek | Norway, Norske Meierier | Singapore, Leka Trading | Spain, \"Cooperativa de Quesos 'Las Cabras'\" | Sweden, PB Knäckebröd AB | Sweden, Svensk Sjöföda AB | UK, Exotic Liquids | UK, Specialty Biscuits, Ltd. | USA, Bigfoot Breweries | USA, \"Grandma Kelly's Homestead\" | USA, New England Seafood Cannery | USA, New Orleans Cajun Delights\u001b[0m\n",
      "\u001b[1m> Finished chain.\u001b[0m\n"
     ]
    },
    {
     "data": {
      "text/plain": [
       "{'query': 'what are the names of the suppliers according to the Country wise',\n",
       " 'result': 'Australia, G\\'day, Mate | Australia, Pavlova, Ltd. | Brazil, Refrescos Americanas LTDA | Canada, \"Forêts d\\'érables\" | Canada, Ma Maison | Denmark, Lyngbysild | Finland, Karkki Oy | France, Aux joyeux ecclésiastiques | France, Escargots Nouveaux | France, Gai pâturage | Germany, Heli Süßwaren GmbH & Co. KG | Germany, Nord-Ost-Fisch Handelsgesellschaft mbH | Germany, Plutzer Lebensmittelgroßmärkte AG | Italy, Formaggi Fortini s.r.l. | Italy, Pasta Buttini s.r.l. | Japan, \"Mayumi\\'s\" | Japan, Tokyo Traders | Netherlands, Zaanse Snoepfabriek | Norway, Norske Meierier | Singapore, Leka Trading | Spain, \"Cooperativa de Quesos \\'Las Cabras\\'\" | Sweden, PB Knäckebröd AB | Sweden, Svensk Sjöföda AB | UK, Exotic Liquids | UK, Specialty Biscuits, Ltd. | USA, Bigfoot Breweries | USA, \"Grandma Kelly\\'s Homestead\" | USA, New England Seafood Cannery | USA, New Orleans Cajun Delights'}"
      ]
     },
     "execution_count": 140,
     "metadata": {},
     "output_type": "execute_result"
    }
   ],
   "source": [
    "new_chain(\"what are the names of the suppliers according to the Country wise\")"
   ]
  },
  {
   "cell_type": "code",
   "execution_count": 141,
   "metadata": {},
   "outputs": [
    {
     "name": "stdout",
     "output_type": "stream",
     "text": [
      "\n",
      "\n",
      "\u001b[1m> Entering new SQLDatabaseChain chain...\u001b[0m\n",
      "get the names of the suppliers according to the Country wise\n",
      "SQLQuery:\u001b[32;1m\u001b[1;3mSELECT CompanyName, Country FROM Supplier GROUP BY Country;\u001b[0m"
     ]
    },
    {
     "ename": "ProgrammingError",
     "evalue": "(pyodbc.ProgrammingError) ('42000', \"[42000] [Microsoft][ODBC Driver 17 for SQL Server][SQL Server]Column 'Supplier.CompanyName' is invalid in the select list because it is not contained in either an aggregate function or the GROUP BY clause. (8120) (SQLExecDirectW)\")\n[SQL: SELECT CompanyName, Country FROM Supplier GROUP BY Country;]\n(Background on this error at: https://sqlalche.me/e/20/f405)",
     "output_type": "error",
     "traceback": [
      "\u001b[1;31m---------------------------------------------------------------------------\u001b[0m",
      "\u001b[1;31mProgrammingError\u001b[0m                          Traceback (most recent call last)",
      "File \u001b[1;32mc:\\Users\\akish.pothuri\\python\\LangChain\\SQl_Script_chatbot\\chatbot\\lib\\site-packages\\sqlalchemy\\engine\\base.py:1960\u001b[0m, in \u001b[0;36mConnection._exec_single_context\u001b[1;34m(self, dialect, context, statement, parameters)\u001b[0m\n\u001b[0;32m   1959\u001b[0m     \u001b[38;5;28;01mif\u001b[39;00m \u001b[38;5;129;01mnot\u001b[39;00m evt_handled:\n\u001b[1;32m-> 1960\u001b[0m         \u001b[38;5;28;43mself\u001b[39;49m\u001b[38;5;241;43m.\u001b[39;49m\u001b[43mdialect\u001b[49m\u001b[38;5;241;43m.\u001b[39;49m\u001b[43mdo_execute\u001b[49m\u001b[43m(\u001b[49m\n\u001b[0;32m   1961\u001b[0m \u001b[43m            \u001b[49m\u001b[43mcursor\u001b[49m\u001b[43m,\u001b[49m\u001b[43m \u001b[49m\u001b[43mstr_statement\u001b[49m\u001b[43m,\u001b[49m\u001b[43m \u001b[49m\u001b[43meffective_parameters\u001b[49m\u001b[43m,\u001b[49m\u001b[43m \u001b[49m\u001b[43mcontext\u001b[49m\n\u001b[0;32m   1962\u001b[0m \u001b[43m        \u001b[49m\u001b[43m)\u001b[49m\n\u001b[0;32m   1964\u001b[0m \u001b[38;5;28;01mif\u001b[39;00m \u001b[38;5;28mself\u001b[39m\u001b[38;5;241m.\u001b[39m_has_events \u001b[38;5;129;01mor\u001b[39;00m \u001b[38;5;28mself\u001b[39m\u001b[38;5;241m.\u001b[39mengine\u001b[38;5;241m.\u001b[39m_has_events:\n",
      "File \u001b[1;32mc:\\Users\\akish.pothuri\\python\\LangChain\\SQl_Script_chatbot\\chatbot\\lib\\site-packages\\sqlalchemy\\engine\\default.py:924\u001b[0m, in \u001b[0;36mDefaultDialect.do_execute\u001b[1;34m(self, cursor, statement, parameters, context)\u001b[0m\n\u001b[0;32m    923\u001b[0m \u001b[38;5;28;01mdef\u001b[39;00m \u001b[38;5;21mdo_execute\u001b[39m(\u001b[38;5;28mself\u001b[39m, cursor, statement, parameters, context\u001b[38;5;241m=\u001b[39m\u001b[38;5;28;01mNone\u001b[39;00m):\n\u001b[1;32m--> 924\u001b[0m     \u001b[43mcursor\u001b[49m\u001b[38;5;241;43m.\u001b[39;49m\u001b[43mexecute\u001b[49m\u001b[43m(\u001b[49m\u001b[43mstatement\u001b[49m\u001b[43m,\u001b[49m\u001b[43m \u001b[49m\u001b[43mparameters\u001b[49m\u001b[43m)\u001b[49m\n",
      "\u001b[1;31mProgrammingError\u001b[0m: ('42000', \"[42000] [Microsoft][ODBC Driver 17 for SQL Server][SQL Server]Column 'Supplier.CompanyName' is invalid in the select list because it is not contained in either an aggregate function or the GROUP BY clause. (8120) (SQLExecDirectW)\")",
      "\nThe above exception was the direct cause of the following exception:\n",
      "\u001b[1;31mProgrammingError\u001b[0m                          Traceback (most recent call last)",
      "Cell \u001b[1;32mIn[141], line 1\u001b[0m\n\u001b[1;32m----> 1\u001b[0m \u001b[43mnew_chain\u001b[49m\u001b[43m(\u001b[49m\u001b[38;5;124;43m\"\u001b[39;49m\u001b[38;5;124;43mget the names of the suppliers according to the Country wise\u001b[39;49m\u001b[38;5;124;43m\"\u001b[39;49m\u001b[43m)\u001b[49m\n",
      "File \u001b[1;32mc:\\Users\\akish.pothuri\\python\\LangChain\\SQl_Script_chatbot\\chatbot\\lib\\site-packages\\langchain_core\\_api\\deprecation.py:145\u001b[0m, in \u001b[0;36mdeprecated.<locals>.deprecate.<locals>.warning_emitting_wrapper\u001b[1;34m(*args, **kwargs)\u001b[0m\n\u001b[0;32m    143\u001b[0m     warned \u001b[38;5;241m=\u001b[39m \u001b[38;5;28;01mTrue\u001b[39;00m\n\u001b[0;32m    144\u001b[0m     emit_warning()\n\u001b[1;32m--> 145\u001b[0m \u001b[38;5;28;01mreturn\u001b[39;00m \u001b[43mwrapped\u001b[49m\u001b[43m(\u001b[49m\u001b[38;5;241;43m*\u001b[39;49m\u001b[43margs\u001b[49m\u001b[43m,\u001b[49m\u001b[43m \u001b[49m\u001b[38;5;241;43m*\u001b[39;49m\u001b[38;5;241;43m*\u001b[39;49m\u001b[43mkwargs\u001b[49m\u001b[43m)\u001b[49m\n",
      "File \u001b[1;32mc:\\Users\\akish.pothuri\\python\\LangChain\\SQl_Script_chatbot\\chatbot\\lib\\site-packages\\langchain\\chains\\base.py:363\u001b[0m, in \u001b[0;36mChain.__call__\u001b[1;34m(self, inputs, return_only_outputs, callbacks, tags, metadata, run_name, include_run_info)\u001b[0m\n\u001b[0;32m    331\u001b[0m \u001b[38;5;250m\u001b[39m\u001b[38;5;124;03m\"\"\"Execute the chain.\u001b[39;00m\n\u001b[0;32m    332\u001b[0m \n\u001b[0;32m    333\u001b[0m \u001b[38;5;124;03mArgs:\u001b[39;00m\n\u001b[1;32m   (...)\u001b[0m\n\u001b[0;32m    354\u001b[0m \u001b[38;5;124;03m        `Chain.output_keys`.\u001b[39;00m\n\u001b[0;32m    355\u001b[0m \u001b[38;5;124;03m\"\"\"\u001b[39;00m\n\u001b[0;32m    356\u001b[0m config \u001b[38;5;241m=\u001b[39m {\n\u001b[0;32m    357\u001b[0m     \u001b[38;5;124m\"\u001b[39m\u001b[38;5;124mcallbacks\u001b[39m\u001b[38;5;124m\"\u001b[39m: callbacks,\n\u001b[0;32m    358\u001b[0m     \u001b[38;5;124m\"\u001b[39m\u001b[38;5;124mtags\u001b[39m\u001b[38;5;124m\"\u001b[39m: tags,\n\u001b[0;32m    359\u001b[0m     \u001b[38;5;124m\"\u001b[39m\u001b[38;5;124mmetadata\u001b[39m\u001b[38;5;124m\"\u001b[39m: metadata,\n\u001b[0;32m    360\u001b[0m     \u001b[38;5;124m\"\u001b[39m\u001b[38;5;124mrun_name\u001b[39m\u001b[38;5;124m\"\u001b[39m: run_name,\n\u001b[0;32m    361\u001b[0m }\n\u001b[1;32m--> 363\u001b[0m \u001b[38;5;28;01mreturn\u001b[39;00m \u001b[38;5;28;43mself\u001b[39;49m\u001b[38;5;241;43m.\u001b[39;49m\u001b[43minvoke\u001b[49m\u001b[43m(\u001b[49m\n\u001b[0;32m    364\u001b[0m \u001b[43m    \u001b[49m\u001b[43minputs\u001b[49m\u001b[43m,\u001b[49m\n\u001b[0;32m    365\u001b[0m \u001b[43m    \u001b[49m\u001b[43mcast\u001b[49m\u001b[43m(\u001b[49m\u001b[43mRunnableConfig\u001b[49m\u001b[43m,\u001b[49m\u001b[43m \u001b[49m\u001b[43m{\u001b[49m\u001b[43mk\u001b[49m\u001b[43m:\u001b[49m\u001b[43m \u001b[49m\u001b[43mv\u001b[49m\u001b[43m \u001b[49m\u001b[38;5;28;43;01mfor\u001b[39;49;00m\u001b[43m \u001b[49m\u001b[43mk\u001b[49m\u001b[43m,\u001b[49m\u001b[43m \u001b[49m\u001b[43mv\u001b[49m\u001b[43m \u001b[49m\u001b[38;5;129;43;01min\u001b[39;49;00m\u001b[43m \u001b[49m\u001b[43mconfig\u001b[49m\u001b[38;5;241;43m.\u001b[39;49m\u001b[43mitems\u001b[49m\u001b[43m(\u001b[49m\u001b[43m)\u001b[49m\u001b[43m \u001b[49m\u001b[38;5;28;43;01mif\u001b[39;49;00m\u001b[43m \u001b[49m\u001b[43mv\u001b[49m\u001b[43m \u001b[49m\u001b[38;5;129;43;01mis\u001b[39;49;00m\u001b[43m \u001b[49m\u001b[38;5;129;43;01mnot\u001b[39;49;00m\u001b[43m \u001b[49m\u001b[38;5;28;43;01mNone\u001b[39;49;00m\u001b[43m}\u001b[49m\u001b[43m)\u001b[49m\u001b[43m,\u001b[49m\n\u001b[0;32m    366\u001b[0m \u001b[43m    \u001b[49m\u001b[43mreturn_only_outputs\u001b[49m\u001b[38;5;241;43m=\u001b[39;49m\u001b[43mreturn_only_outputs\u001b[49m\u001b[43m,\u001b[49m\n\u001b[0;32m    367\u001b[0m \u001b[43m    \u001b[49m\u001b[43minclude_run_info\u001b[49m\u001b[38;5;241;43m=\u001b[39;49m\u001b[43minclude_run_info\u001b[49m\u001b[43m,\u001b[49m\n\u001b[0;32m    368\u001b[0m \u001b[43m\u001b[49m\u001b[43m)\u001b[49m\n",
      "File \u001b[1;32mc:\\Users\\akish.pothuri\\python\\LangChain\\SQl_Script_chatbot\\chatbot\\lib\\site-packages\\langchain\\chains\\base.py:162\u001b[0m, in \u001b[0;36mChain.invoke\u001b[1;34m(self, input, config, **kwargs)\u001b[0m\n\u001b[0;32m    160\u001b[0m \u001b[38;5;28;01mexcept\u001b[39;00m \u001b[38;5;167;01mBaseException\u001b[39;00m \u001b[38;5;28;01mas\u001b[39;00m e:\n\u001b[0;32m    161\u001b[0m     run_manager\u001b[38;5;241m.\u001b[39mon_chain_error(e)\n\u001b[1;32m--> 162\u001b[0m     \u001b[38;5;28;01mraise\u001b[39;00m e\n\u001b[0;32m    163\u001b[0m run_manager\u001b[38;5;241m.\u001b[39mon_chain_end(outputs)\n\u001b[0;32m    164\u001b[0m final_outputs: Dict[\u001b[38;5;28mstr\u001b[39m, Any] \u001b[38;5;241m=\u001b[39m \u001b[38;5;28mself\u001b[39m\u001b[38;5;241m.\u001b[39mprep_outputs(\n\u001b[0;32m    165\u001b[0m     inputs, outputs, return_only_outputs\n\u001b[0;32m    166\u001b[0m )\n",
      "File \u001b[1;32mc:\\Users\\akish.pothuri\\python\\LangChain\\SQl_Script_chatbot\\chatbot\\lib\\site-packages\\langchain\\chains\\base.py:156\u001b[0m, in \u001b[0;36mChain.invoke\u001b[1;34m(self, input, config, **kwargs)\u001b[0m\n\u001b[0;32m    149\u001b[0m run_manager \u001b[38;5;241m=\u001b[39m callback_manager\u001b[38;5;241m.\u001b[39mon_chain_start(\n\u001b[0;32m    150\u001b[0m     dumpd(\u001b[38;5;28mself\u001b[39m),\n\u001b[0;32m    151\u001b[0m     inputs,\n\u001b[0;32m    152\u001b[0m     name\u001b[38;5;241m=\u001b[39mrun_name,\n\u001b[0;32m    153\u001b[0m )\n\u001b[0;32m    154\u001b[0m \u001b[38;5;28;01mtry\u001b[39;00m:\n\u001b[0;32m    155\u001b[0m     outputs \u001b[38;5;241m=\u001b[39m (\n\u001b[1;32m--> 156\u001b[0m         \u001b[38;5;28;43mself\u001b[39;49m\u001b[38;5;241;43m.\u001b[39;49m\u001b[43m_call\u001b[49m\u001b[43m(\u001b[49m\u001b[43minputs\u001b[49m\u001b[43m,\u001b[49m\u001b[43m \u001b[49m\u001b[43mrun_manager\u001b[49m\u001b[38;5;241;43m=\u001b[39;49m\u001b[43mrun_manager\u001b[49m\u001b[43m)\u001b[49m\n\u001b[0;32m    157\u001b[0m         \u001b[38;5;28;01mif\u001b[39;00m new_arg_supported\n\u001b[0;32m    158\u001b[0m         \u001b[38;5;28;01melse\u001b[39;00m \u001b[38;5;28mself\u001b[39m\u001b[38;5;241m.\u001b[39m_call(inputs)\n\u001b[0;32m    159\u001b[0m     )\n\u001b[0;32m    160\u001b[0m \u001b[38;5;28;01mexcept\u001b[39;00m \u001b[38;5;167;01mBaseException\u001b[39;00m \u001b[38;5;28;01mas\u001b[39;00m e:\n\u001b[0;32m    161\u001b[0m     run_manager\u001b[38;5;241m.\u001b[39mon_chain_error(e)\n",
      "File \u001b[1;32mc:\\Users\\akish.pothuri\\python\\LangChain\\SQl_Script_chatbot\\chatbot\\lib\\site-packages\\langchain_experimental\\sql\\base.py:201\u001b[0m, in \u001b[0;36mSQLDatabaseChain._call\u001b[1;34m(self, inputs, run_manager)\u001b[0m\n\u001b[0;32m    197\u001b[0m \u001b[38;5;28;01mexcept\u001b[39;00m \u001b[38;5;167;01mException\u001b[39;00m \u001b[38;5;28;01mas\u001b[39;00m exc:\n\u001b[0;32m    198\u001b[0m     \u001b[38;5;66;03m# Append intermediate steps to exception, to aid in logging and later\u001b[39;00m\n\u001b[0;32m    199\u001b[0m     \u001b[38;5;66;03m# improvement of few shot prompt seeds\u001b[39;00m\n\u001b[0;32m    200\u001b[0m     exc\u001b[38;5;241m.\u001b[39mintermediate_steps \u001b[38;5;241m=\u001b[39m intermediate_steps  \u001b[38;5;66;03m# type: ignore\u001b[39;00m\n\u001b[1;32m--> 201\u001b[0m     \u001b[38;5;28;01mraise\u001b[39;00m exc\n",
      "File \u001b[1;32mc:\\Users\\akish.pothuri\\python\\LangChain\\SQl_Script_chatbot\\chatbot\\lib\\site-packages\\langchain_experimental\\sql\\base.py:146\u001b[0m, in \u001b[0;36mSQLDatabaseChain._call\u001b[1;34m(self, inputs, run_manager)\u001b[0m\n\u001b[0;32m    144\u001b[0m     \u001b[38;5;28;01mif\u001b[39;00m SQL_QUERY \u001b[38;5;129;01min\u001b[39;00m sql_cmd:\n\u001b[0;32m    145\u001b[0m         sql_cmd \u001b[38;5;241m=\u001b[39m sql_cmd\u001b[38;5;241m.\u001b[39msplit(SQL_QUERY)[\u001b[38;5;241m1\u001b[39m]\u001b[38;5;241m.\u001b[39mstrip()\n\u001b[1;32m--> 146\u001b[0m     result \u001b[38;5;241m=\u001b[39m \u001b[38;5;28;43mself\u001b[39;49m\u001b[38;5;241;43m.\u001b[39;49m\u001b[43mdatabase\u001b[49m\u001b[38;5;241;43m.\u001b[39;49m\u001b[43mrun\u001b[49m\u001b[43m(\u001b[49m\u001b[43msql_cmd\u001b[49m\u001b[43m)\u001b[49m\n\u001b[0;32m    147\u001b[0m     intermediate_steps\u001b[38;5;241m.\u001b[39mappend(\u001b[38;5;28mstr\u001b[39m(result))  \u001b[38;5;66;03m# output: sql exec\u001b[39;00m\n\u001b[0;32m    148\u001b[0m \u001b[38;5;28;01melse\u001b[39;00m:\n",
      "File \u001b[1;32mc:\\Users\\akish.pothuri\\python\\LangChain\\SQl_Script_chatbot\\chatbot\\lib\\site-packages\\langchain_community\\utilities\\sql_database.py:486\u001b[0m, in \u001b[0;36mSQLDatabase.run\u001b[1;34m(self, command, fetch, include_columns, parameters, execution_options)\u001b[0m\n\u001b[0;32m    472\u001b[0m \u001b[38;5;28;01mdef\u001b[39;00m \u001b[38;5;21mrun\u001b[39m(\n\u001b[0;32m    473\u001b[0m     \u001b[38;5;28mself\u001b[39m,\n\u001b[0;32m    474\u001b[0m     command: Union[\u001b[38;5;28mstr\u001b[39m, Executable],\n\u001b[1;32m   (...)\u001b[0m\n\u001b[0;32m    479\u001b[0m     execution_options: Optional[Dict[\u001b[38;5;28mstr\u001b[39m, Any]] \u001b[38;5;241m=\u001b[39m \u001b[38;5;28;01mNone\u001b[39;00m,\n\u001b[0;32m    480\u001b[0m ) \u001b[38;5;241m-\u001b[39m\u001b[38;5;241m>\u001b[39m Union[\u001b[38;5;28mstr\u001b[39m, Sequence[Dict[\u001b[38;5;28mstr\u001b[39m, Any]], Result[Any]]:\n\u001b[0;32m    481\u001b[0m \u001b[38;5;250m    \u001b[39m\u001b[38;5;124;03m\"\"\"Execute a SQL command and return a string representing the results.\u001b[39;00m\n\u001b[0;32m    482\u001b[0m \n\u001b[0;32m    483\u001b[0m \u001b[38;5;124;03m    If the statement returns rows, a string of the results is returned.\u001b[39;00m\n\u001b[0;32m    484\u001b[0m \u001b[38;5;124;03m    If the statement returns no rows, an empty string is returned.\u001b[39;00m\n\u001b[0;32m    485\u001b[0m \u001b[38;5;124;03m    \"\"\"\u001b[39;00m\n\u001b[1;32m--> 486\u001b[0m     result \u001b[38;5;241m=\u001b[39m \u001b[38;5;28;43mself\u001b[39;49m\u001b[38;5;241;43m.\u001b[39;49m\u001b[43m_execute\u001b[49m\u001b[43m(\u001b[49m\n\u001b[0;32m    487\u001b[0m \u001b[43m        \u001b[49m\u001b[43mcommand\u001b[49m\u001b[43m,\u001b[49m\u001b[43m \u001b[49m\u001b[43mfetch\u001b[49m\u001b[43m,\u001b[49m\u001b[43m \u001b[49m\u001b[43mparameters\u001b[49m\u001b[38;5;241;43m=\u001b[39;49m\u001b[43mparameters\u001b[49m\u001b[43m,\u001b[49m\u001b[43m \u001b[49m\u001b[43mexecution_options\u001b[49m\u001b[38;5;241;43m=\u001b[39;49m\u001b[43mexecution_options\u001b[49m\n\u001b[0;32m    488\u001b[0m \u001b[43m    \u001b[49m\u001b[43m)\u001b[49m\n\u001b[0;32m    490\u001b[0m     \u001b[38;5;28;01mif\u001b[39;00m fetch \u001b[38;5;241m==\u001b[39m \u001b[38;5;124m\"\u001b[39m\u001b[38;5;124mcursor\u001b[39m\u001b[38;5;124m\"\u001b[39m:\n\u001b[0;32m    491\u001b[0m         \u001b[38;5;28;01mreturn\u001b[39;00m result\n",
      "File \u001b[1;32mc:\\Users\\akish.pothuri\\python\\LangChain\\SQl_Script_chatbot\\chatbot\\lib\\site-packages\\langchain_community\\utilities\\sql_database.py:451\u001b[0m, in \u001b[0;36mSQLDatabase._execute\u001b[1;34m(self, command, fetch, parameters, execution_options)\u001b[0m\n\u001b[0;32m    449\u001b[0m \u001b[38;5;28;01melse\u001b[39;00m:\n\u001b[0;32m    450\u001b[0m     \u001b[38;5;28;01mraise\u001b[39;00m \u001b[38;5;167;01mTypeError\u001b[39;00m(\u001b[38;5;124mf\u001b[39m\u001b[38;5;124m\"\u001b[39m\u001b[38;5;124mQuery expression has unknown type: \u001b[39m\u001b[38;5;132;01m{\u001b[39;00m\u001b[38;5;28mtype\u001b[39m(command)\u001b[38;5;132;01m}\u001b[39;00m\u001b[38;5;124m\"\u001b[39m)\n\u001b[1;32m--> 451\u001b[0m cursor \u001b[38;5;241m=\u001b[39m \u001b[43mconnection\u001b[49m\u001b[38;5;241;43m.\u001b[39;49m\u001b[43mexecute\u001b[49m\u001b[43m(\u001b[49m\n\u001b[0;32m    452\u001b[0m \u001b[43m    \u001b[49m\u001b[43mcommand\u001b[49m\u001b[43m,\u001b[49m\n\u001b[0;32m    453\u001b[0m \u001b[43m    \u001b[49m\u001b[43mparameters\u001b[49m\u001b[43m,\u001b[49m\n\u001b[0;32m    454\u001b[0m \u001b[43m    \u001b[49m\u001b[43mexecution_options\u001b[49m\u001b[38;5;241;43m=\u001b[39;49m\u001b[43mexecution_options\u001b[49m\u001b[43m,\u001b[49m\n\u001b[0;32m    455\u001b[0m \u001b[43m\u001b[49m\u001b[43m)\u001b[49m\n\u001b[0;32m    457\u001b[0m \u001b[38;5;28;01mif\u001b[39;00m cursor\u001b[38;5;241m.\u001b[39mreturns_rows:\n\u001b[0;32m    458\u001b[0m     \u001b[38;5;28;01mif\u001b[39;00m fetch \u001b[38;5;241m==\u001b[39m \u001b[38;5;124m\"\u001b[39m\u001b[38;5;124mall\u001b[39m\u001b[38;5;124m\"\u001b[39m:\n",
      "File \u001b[1;32mc:\\Users\\akish.pothuri\\python\\LangChain\\SQl_Script_chatbot\\chatbot\\lib\\site-packages\\sqlalchemy\\engine\\base.py:1408\u001b[0m, in \u001b[0;36mConnection.execute\u001b[1;34m(self, statement, parameters, execution_options)\u001b[0m\n\u001b[0;32m   1406\u001b[0m     \u001b[38;5;28;01mraise\u001b[39;00m exc\u001b[38;5;241m.\u001b[39mObjectNotExecutableError(statement) \u001b[38;5;28;01mfrom\u001b[39;00m \u001b[38;5;21;01merr\u001b[39;00m\n\u001b[0;32m   1407\u001b[0m \u001b[38;5;28;01melse\u001b[39;00m:\n\u001b[1;32m-> 1408\u001b[0m     \u001b[38;5;28;01mreturn\u001b[39;00m \u001b[43mmeth\u001b[49m\u001b[43m(\u001b[49m\n\u001b[0;32m   1409\u001b[0m \u001b[43m        \u001b[49m\u001b[38;5;28;43mself\u001b[39;49m\u001b[43m,\u001b[49m\n\u001b[0;32m   1410\u001b[0m \u001b[43m        \u001b[49m\u001b[43mdistilled_parameters\u001b[49m\u001b[43m,\u001b[49m\n\u001b[0;32m   1411\u001b[0m \u001b[43m        \u001b[49m\u001b[43mexecution_options\u001b[49m\u001b[43m \u001b[49m\u001b[38;5;129;43;01mor\u001b[39;49;00m\u001b[43m \u001b[49m\u001b[43mNO_OPTIONS\u001b[49m\u001b[43m,\u001b[49m\n\u001b[0;32m   1412\u001b[0m \u001b[43m    \u001b[49m\u001b[43m)\u001b[49m\n",
      "File \u001b[1;32mc:\\Users\\akish.pothuri\\python\\LangChain\\SQl_Script_chatbot\\chatbot\\lib\\site-packages\\sqlalchemy\\sql\\elements.py:513\u001b[0m, in \u001b[0;36mClauseElement._execute_on_connection\u001b[1;34m(self, connection, distilled_params, execution_options)\u001b[0m\n\u001b[0;32m    511\u001b[0m     \u001b[38;5;28;01mif\u001b[39;00m TYPE_CHECKING:\n\u001b[0;32m    512\u001b[0m         \u001b[38;5;28;01massert\u001b[39;00m \u001b[38;5;28misinstance\u001b[39m(\u001b[38;5;28mself\u001b[39m, Executable)\n\u001b[1;32m--> 513\u001b[0m     \u001b[38;5;28;01mreturn\u001b[39;00m \u001b[43mconnection\u001b[49m\u001b[38;5;241;43m.\u001b[39;49m\u001b[43m_execute_clauseelement\u001b[49m\u001b[43m(\u001b[49m\n\u001b[0;32m    514\u001b[0m \u001b[43m        \u001b[49m\u001b[38;5;28;43mself\u001b[39;49m\u001b[43m,\u001b[49m\u001b[43m \u001b[49m\u001b[43mdistilled_params\u001b[49m\u001b[43m,\u001b[49m\u001b[43m \u001b[49m\u001b[43mexecution_options\u001b[49m\n\u001b[0;32m    515\u001b[0m \u001b[43m    \u001b[49m\u001b[43m)\u001b[49m\n\u001b[0;32m    516\u001b[0m \u001b[38;5;28;01melse\u001b[39;00m:\n\u001b[0;32m    517\u001b[0m     \u001b[38;5;28;01mraise\u001b[39;00m exc\u001b[38;5;241m.\u001b[39mObjectNotExecutableError(\u001b[38;5;28mself\u001b[39m)\n",
      "File \u001b[1;32mc:\\Users\\akish.pothuri\\python\\LangChain\\SQl_Script_chatbot\\chatbot\\lib\\site-packages\\sqlalchemy\\engine\\base.py:1630\u001b[0m, in \u001b[0;36mConnection._execute_clauseelement\u001b[1;34m(self, elem, distilled_parameters, execution_options)\u001b[0m\n\u001b[0;32m   1618\u001b[0m compiled_cache: Optional[CompiledCacheType] \u001b[38;5;241m=\u001b[39m execution_options\u001b[38;5;241m.\u001b[39mget(\n\u001b[0;32m   1619\u001b[0m     \u001b[38;5;124m\"\u001b[39m\u001b[38;5;124mcompiled_cache\u001b[39m\u001b[38;5;124m\"\u001b[39m, \u001b[38;5;28mself\u001b[39m\u001b[38;5;241m.\u001b[39mengine\u001b[38;5;241m.\u001b[39m_compiled_cache\n\u001b[0;32m   1620\u001b[0m )\n\u001b[0;32m   1622\u001b[0m compiled_sql, extracted_params, cache_hit \u001b[38;5;241m=\u001b[39m elem\u001b[38;5;241m.\u001b[39m_compile_w_cache(\n\u001b[0;32m   1623\u001b[0m     dialect\u001b[38;5;241m=\u001b[39mdialect,\n\u001b[0;32m   1624\u001b[0m     compiled_cache\u001b[38;5;241m=\u001b[39mcompiled_cache,\n\u001b[1;32m   (...)\u001b[0m\n\u001b[0;32m   1628\u001b[0m     linting\u001b[38;5;241m=\u001b[39m\u001b[38;5;28mself\u001b[39m\u001b[38;5;241m.\u001b[39mdialect\u001b[38;5;241m.\u001b[39mcompiler_linting \u001b[38;5;241m|\u001b[39m compiler\u001b[38;5;241m.\u001b[39mWARN_LINTING,\n\u001b[0;32m   1629\u001b[0m )\n\u001b[1;32m-> 1630\u001b[0m ret \u001b[38;5;241m=\u001b[39m \u001b[38;5;28;43mself\u001b[39;49m\u001b[38;5;241;43m.\u001b[39;49m\u001b[43m_execute_context\u001b[49m\u001b[43m(\u001b[49m\n\u001b[0;32m   1631\u001b[0m \u001b[43m    \u001b[49m\u001b[43mdialect\u001b[49m\u001b[43m,\u001b[49m\n\u001b[0;32m   1632\u001b[0m \u001b[43m    \u001b[49m\u001b[43mdialect\u001b[49m\u001b[38;5;241;43m.\u001b[39;49m\u001b[43mexecution_ctx_cls\u001b[49m\u001b[38;5;241;43m.\u001b[39;49m\u001b[43m_init_compiled\u001b[49m\u001b[43m,\u001b[49m\n\u001b[0;32m   1633\u001b[0m \u001b[43m    \u001b[49m\u001b[43mcompiled_sql\u001b[49m\u001b[43m,\u001b[49m\n\u001b[0;32m   1634\u001b[0m \u001b[43m    \u001b[49m\u001b[43mdistilled_parameters\u001b[49m\u001b[43m,\u001b[49m\n\u001b[0;32m   1635\u001b[0m \u001b[43m    \u001b[49m\u001b[43mexecution_options\u001b[49m\u001b[43m,\u001b[49m\n\u001b[0;32m   1636\u001b[0m \u001b[43m    \u001b[49m\u001b[43mcompiled_sql\u001b[49m\u001b[43m,\u001b[49m\n\u001b[0;32m   1637\u001b[0m \u001b[43m    \u001b[49m\u001b[43mdistilled_parameters\u001b[49m\u001b[43m,\u001b[49m\n\u001b[0;32m   1638\u001b[0m \u001b[43m    \u001b[49m\u001b[43melem\u001b[49m\u001b[43m,\u001b[49m\n\u001b[0;32m   1639\u001b[0m \u001b[43m    \u001b[49m\u001b[43mextracted_params\u001b[49m\u001b[43m,\u001b[49m\n\u001b[0;32m   1640\u001b[0m \u001b[43m    \u001b[49m\u001b[43mcache_hit\u001b[49m\u001b[38;5;241;43m=\u001b[39;49m\u001b[43mcache_hit\u001b[49m\u001b[43m,\u001b[49m\n\u001b[0;32m   1641\u001b[0m \u001b[43m\u001b[49m\u001b[43m)\u001b[49m\n\u001b[0;32m   1642\u001b[0m \u001b[38;5;28;01mif\u001b[39;00m has_events:\n\u001b[0;32m   1643\u001b[0m     \u001b[38;5;28mself\u001b[39m\u001b[38;5;241m.\u001b[39mdispatch\u001b[38;5;241m.\u001b[39mafter_execute(\n\u001b[0;32m   1644\u001b[0m         \u001b[38;5;28mself\u001b[39m,\n\u001b[0;32m   1645\u001b[0m         elem,\n\u001b[1;32m   (...)\u001b[0m\n\u001b[0;32m   1649\u001b[0m         ret,\n\u001b[0;32m   1650\u001b[0m     )\n",
      "File \u001b[1;32mc:\\Users\\akish.pothuri\\python\\LangChain\\SQl_Script_chatbot\\chatbot\\lib\\site-packages\\sqlalchemy\\engine\\base.py:1839\u001b[0m, in \u001b[0;36mConnection._execute_context\u001b[1;34m(self, dialect, constructor, statement, parameters, execution_options, *args, **kw)\u001b[0m\n\u001b[0;32m   1834\u001b[0m     \u001b[38;5;28;01mreturn\u001b[39;00m \u001b[38;5;28mself\u001b[39m\u001b[38;5;241m.\u001b[39m_exec_insertmany_context(\n\u001b[0;32m   1835\u001b[0m         dialect,\n\u001b[0;32m   1836\u001b[0m         context,\n\u001b[0;32m   1837\u001b[0m     )\n\u001b[0;32m   1838\u001b[0m \u001b[38;5;28;01melse\u001b[39;00m:\n\u001b[1;32m-> 1839\u001b[0m     \u001b[38;5;28;01mreturn\u001b[39;00m \u001b[38;5;28;43mself\u001b[39;49m\u001b[38;5;241;43m.\u001b[39;49m\u001b[43m_exec_single_context\u001b[49m\u001b[43m(\u001b[49m\n\u001b[0;32m   1840\u001b[0m \u001b[43m        \u001b[49m\u001b[43mdialect\u001b[49m\u001b[43m,\u001b[49m\u001b[43m \u001b[49m\u001b[43mcontext\u001b[49m\u001b[43m,\u001b[49m\u001b[43m \u001b[49m\u001b[43mstatement\u001b[49m\u001b[43m,\u001b[49m\u001b[43m \u001b[49m\u001b[43mparameters\u001b[49m\n\u001b[0;32m   1841\u001b[0m \u001b[43m    \u001b[49m\u001b[43m)\u001b[49m\n",
      "File \u001b[1;32mc:\\Users\\akish.pothuri\\python\\LangChain\\SQl_Script_chatbot\\chatbot\\lib\\site-packages\\sqlalchemy\\engine\\base.py:1979\u001b[0m, in \u001b[0;36mConnection._exec_single_context\u001b[1;34m(self, dialect, context, statement, parameters)\u001b[0m\n\u001b[0;32m   1976\u001b[0m     result \u001b[38;5;241m=\u001b[39m context\u001b[38;5;241m.\u001b[39m_setup_result_proxy()\n\u001b[0;32m   1978\u001b[0m \u001b[38;5;28;01mexcept\u001b[39;00m \u001b[38;5;167;01mBaseException\u001b[39;00m \u001b[38;5;28;01mas\u001b[39;00m e:\n\u001b[1;32m-> 1979\u001b[0m     \u001b[38;5;28;43mself\u001b[39;49m\u001b[38;5;241;43m.\u001b[39;49m\u001b[43m_handle_dbapi_exception\u001b[49m\u001b[43m(\u001b[49m\n\u001b[0;32m   1980\u001b[0m \u001b[43m        \u001b[49m\u001b[43me\u001b[49m\u001b[43m,\u001b[49m\u001b[43m \u001b[49m\u001b[43mstr_statement\u001b[49m\u001b[43m,\u001b[49m\u001b[43m \u001b[49m\u001b[43meffective_parameters\u001b[49m\u001b[43m,\u001b[49m\u001b[43m \u001b[49m\u001b[43mcursor\u001b[49m\u001b[43m,\u001b[49m\u001b[43m \u001b[49m\u001b[43mcontext\u001b[49m\n\u001b[0;32m   1981\u001b[0m \u001b[43m    \u001b[49m\u001b[43m)\u001b[49m\n\u001b[0;32m   1983\u001b[0m \u001b[38;5;28;01mreturn\u001b[39;00m result\n",
      "File \u001b[1;32mc:\\Users\\akish.pothuri\\python\\LangChain\\SQl_Script_chatbot\\chatbot\\lib\\site-packages\\sqlalchemy\\engine\\base.py:2335\u001b[0m, in \u001b[0;36mConnection._handle_dbapi_exception\u001b[1;34m(self, e, statement, parameters, cursor, context, is_sub_exec)\u001b[0m\n\u001b[0;32m   2333\u001b[0m \u001b[38;5;28;01melif\u001b[39;00m should_wrap:\n\u001b[0;32m   2334\u001b[0m     \u001b[38;5;28;01massert\u001b[39;00m sqlalchemy_exception \u001b[38;5;129;01mis\u001b[39;00m \u001b[38;5;129;01mnot\u001b[39;00m \u001b[38;5;28;01mNone\u001b[39;00m\n\u001b[1;32m-> 2335\u001b[0m     \u001b[38;5;28;01mraise\u001b[39;00m sqlalchemy_exception\u001b[38;5;241m.\u001b[39mwith_traceback(exc_info[\u001b[38;5;241m2\u001b[39m]) \u001b[38;5;28;01mfrom\u001b[39;00m \u001b[38;5;21;01me\u001b[39;00m\n\u001b[0;32m   2336\u001b[0m \u001b[38;5;28;01melse\u001b[39;00m:\n\u001b[0;32m   2337\u001b[0m     \u001b[38;5;28;01massert\u001b[39;00m exc_info[\u001b[38;5;241m1\u001b[39m] \u001b[38;5;129;01mis\u001b[39;00m \u001b[38;5;129;01mnot\u001b[39;00m \u001b[38;5;28;01mNone\u001b[39;00m\n",
      "File \u001b[1;32mc:\\Users\\akish.pothuri\\python\\LangChain\\SQl_Script_chatbot\\chatbot\\lib\\site-packages\\sqlalchemy\\engine\\base.py:1960\u001b[0m, in \u001b[0;36mConnection._exec_single_context\u001b[1;34m(self, dialect, context, statement, parameters)\u001b[0m\n\u001b[0;32m   1958\u001b[0m                 \u001b[38;5;28;01mbreak\u001b[39;00m\n\u001b[0;32m   1959\u001b[0m     \u001b[38;5;28;01mif\u001b[39;00m \u001b[38;5;129;01mnot\u001b[39;00m evt_handled:\n\u001b[1;32m-> 1960\u001b[0m         \u001b[38;5;28;43mself\u001b[39;49m\u001b[38;5;241;43m.\u001b[39;49m\u001b[43mdialect\u001b[49m\u001b[38;5;241;43m.\u001b[39;49m\u001b[43mdo_execute\u001b[49m\u001b[43m(\u001b[49m\n\u001b[0;32m   1961\u001b[0m \u001b[43m            \u001b[49m\u001b[43mcursor\u001b[49m\u001b[43m,\u001b[49m\u001b[43m \u001b[49m\u001b[43mstr_statement\u001b[49m\u001b[43m,\u001b[49m\u001b[43m \u001b[49m\u001b[43meffective_parameters\u001b[49m\u001b[43m,\u001b[49m\u001b[43m \u001b[49m\u001b[43mcontext\u001b[49m\n\u001b[0;32m   1962\u001b[0m \u001b[43m        \u001b[49m\u001b[43m)\u001b[49m\n\u001b[0;32m   1964\u001b[0m \u001b[38;5;28;01mif\u001b[39;00m \u001b[38;5;28mself\u001b[39m\u001b[38;5;241m.\u001b[39m_has_events \u001b[38;5;129;01mor\u001b[39;00m \u001b[38;5;28mself\u001b[39m\u001b[38;5;241m.\u001b[39mengine\u001b[38;5;241m.\u001b[39m_has_events:\n\u001b[0;32m   1965\u001b[0m     \u001b[38;5;28mself\u001b[39m\u001b[38;5;241m.\u001b[39mdispatch\u001b[38;5;241m.\u001b[39mafter_cursor_execute(\n\u001b[0;32m   1966\u001b[0m         \u001b[38;5;28mself\u001b[39m,\n\u001b[0;32m   1967\u001b[0m         cursor,\n\u001b[1;32m   (...)\u001b[0m\n\u001b[0;32m   1971\u001b[0m         context\u001b[38;5;241m.\u001b[39mexecutemany,\n\u001b[0;32m   1972\u001b[0m     )\n",
      "File \u001b[1;32mc:\\Users\\akish.pothuri\\python\\LangChain\\SQl_Script_chatbot\\chatbot\\lib\\site-packages\\sqlalchemy\\engine\\default.py:924\u001b[0m, in \u001b[0;36mDefaultDialect.do_execute\u001b[1;34m(self, cursor, statement, parameters, context)\u001b[0m\n\u001b[0;32m    923\u001b[0m \u001b[38;5;28;01mdef\u001b[39;00m \u001b[38;5;21mdo_execute\u001b[39m(\u001b[38;5;28mself\u001b[39m, cursor, statement, parameters, context\u001b[38;5;241m=\u001b[39m\u001b[38;5;28;01mNone\u001b[39;00m):\n\u001b[1;32m--> 924\u001b[0m     \u001b[43mcursor\u001b[49m\u001b[38;5;241;43m.\u001b[39;49m\u001b[43mexecute\u001b[49m\u001b[43m(\u001b[49m\u001b[43mstatement\u001b[49m\u001b[43m,\u001b[49m\u001b[43m \u001b[49m\u001b[43mparameters\u001b[49m\u001b[43m)\u001b[49m\n",
      "\u001b[1;31mProgrammingError\u001b[0m: (pyodbc.ProgrammingError) ('42000', \"[42000] [Microsoft][ODBC Driver 17 for SQL Server][SQL Server]Column 'Supplier.CompanyName' is invalid in the select list because it is not contained in either an aggregate function or the GROUP BY clause. (8120) (SQLExecDirectW)\")\n[SQL: SELECT CompanyName, Country FROM Supplier GROUP BY Country;]\n(Background on this error at: https://sqlalche.me/e/20/f405)"
     ]
    }
   ],
   "source": [
    "new_chain(\"get the names of the suppliers according to the Country wise\")"
   ]
  },
  {
   "cell_type": "code",
   "execution_count": null,
   "metadata": {},
   "outputs": [],
   "source": []
  }
 ],
 "metadata": {
  "kernelspec": {
   "display_name": "chain",
   "language": "python",
   "name": "python3"
  },
  "language_info": {
   "codemirror_mode": {
    "name": "ipython",
    "version": 3
   },
   "file_extension": ".py",
   "mimetype": "text/x-python",
   "name": "python",
   "nbconvert_exporter": "python",
   "pygments_lexer": "ipython3",
   "version": "3.8.10"
  }
 },
 "nbformat": 4,
 "nbformat_minor": 2
}
